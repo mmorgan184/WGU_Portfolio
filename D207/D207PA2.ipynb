{
 "cells": [
  {
   "cell_type": "code",
   "execution_count": 2,
   "id": "f101ed3b",
   "metadata": {
    "scrolled": false
   },
   "outputs": [
    {
     "name": "stdout",
     "output_type": "stream",
     "text": [
      "                            Count  Missing  Unique    Dtype  Numeric  \\\n",
      "vitD_supp                   10000        0       6    int64     True   \n",
      "Stroke_numeric              10000        0       2    int64     True   \n",
      "Children                    10000        0      11    int64     True   \n",
      "Income                      10000        0    9993  float64     True   \n",
      "Soft_drink_numeric          10000        0       2    int64     True   \n",
      "Services_numeric            10000        0       4    int64     True   \n",
      "Diabetes_numeric            10000        0       2    int64     True   \n",
      "Full_meals_eaten            10000        0       8    int64     True   \n",
      "Asthma_numeric              10000        0       2    int64     True   \n",
      "Additional_charges          10000        0    9418  float64     True   \n",
      "Hyperlipidemia_numeric      10000        0       2    int64     True   \n",
      "Arthritis_numeric           10000        0       2    int64     True   \n",
      "ReAdmis_numeric             10000        0       2    int64     True   \n",
      "Initial_admin_numeric       10000        0       3    int64     True   \n",
      "Allergic_rhinitis_numeric   10000        0       2    int64     True   \n",
      "HighBlood_numeric           10000        0       2    int64     True   \n",
      "BackPain_numeric            10000        0       2    int64     True   \n",
      "Reflux_esophagitis_numeric  10000        0       2    int64     True   \n",
      "Initial_days                10000        0    9997  float64     True   \n",
      "TotalCharge                 10000        0    9997  float64     True   \n",
      "VitD_levels                 10000        0    9976  float64     True   \n",
      "Age                         10000        0      72    int64     True   \n",
      "Marital_numeric             10000        0       5    int64     True   \n",
      "Doc_visits                  10000        0       9    int64     True   \n",
      "Complication_risk_numeric   10000        0       3    int64     True   \n",
      "Marital                     10000        0       5   object    False   \n",
      "Services                    10000        0       4   object    False   \n",
      "Gender                      10000        0       3   object    False   \n",
      "Initial_admin               10000        0       3   object    False   \n",
      "Complication_risk           10000        0       3   object    False   \n",
      "Gender_numeric              10000        0       3   object    False   \n",
      "ReAdmis                     10000        0       2   object    False   \n",
      "Soft_drink                  10000        0       2   object    False   \n",
      "HighBlood                   10000        0       2   object    False   \n",
      "Stroke                      10000        0       2   object    False   \n",
      "Overweight                  10000        0       2   object    False   \n",
      "Arthritis                   10000        0       2   object    False   \n",
      "Diabetes                    10000        0       2   object    False   \n",
      "Hyperlipidemia              10000        0       2   object    False   \n",
      "BackPain                    10000        0       2   object    False   \n",
      "Anxiety                     10000        0       2   object    False   \n",
      "Allergic_rhinitis           10000        0       2   object    False   \n",
      "Reflux_esophagitis          10000        0       2   object    False   \n",
      "Asthma                      10000        0       2   object    False   \n",
      "\n",
      "                                    Mean        Mode          Min  \\\n",
      "vitD_supp                         0.3989           0            0   \n",
      "Stroke_numeric                    0.1993           0            0   \n",
      "Children                          2.0972         0.0          0.0   \n",
      "Income                       40490.49516     14572.4       154.08   \n",
      "Soft_drink_numeric                0.2575           0            0   \n",
      "Services_numeric                   0.672           0            0   \n",
      "Diabetes_numeric                  0.2738           0            0   \n",
      "Full_meals_eaten                  1.0014           0            0   \n",
      "Asthma_numeric                    0.2893           0            0   \n",
      "Additional_charges          12934.528587  3883.66416     3125.703   \n",
      "Hyperlipidemia_numeric            0.3372           0            0   \n",
      "Arthritis_numeric                 0.3574           0            0   \n",
      "ReAdmis_numeric                   0.3669           0            0   \n",
      "Initial_admin_numeric             0.7376           0            0   \n",
      "Allergic_rhinitis_numeric         0.3941           0            0   \n",
      "HighBlood_numeric                  0.409           0            0   \n",
      "BackPain_numeric                  0.4114           0            0   \n",
      "Reflux_esophagitis_numeric        0.4135           0            0   \n",
      "Initial_days                   34.455299    63.54432     1.001981   \n",
      "TotalCharge                  5312.172769    7555.452  1938.312067   \n",
      "VitD_levels                    17.964262    15.26009     9.806483   \n",
      "Age                              53.5117        47.0         18.0   \n",
      "Marital_numeric                   2.0052           2            0   \n",
      "Doc_visits                        5.0122           5            1   \n",
      "Complication_risk_numeric         1.1233           1            0   \n",
      "Marital                                -           -            -   \n",
      "Services                               -           -            -   \n",
      "Gender                                 -           -            -   \n",
      "Initial_admin                          -           -            -   \n",
      "Complication_risk                      -           -            -   \n",
      "Gender_numeric                         -           -            -   \n",
      "ReAdmis                                -           -            -   \n",
      "Soft_drink                             -           -            -   \n",
      "HighBlood                              -           -            -   \n",
      "Stroke                                 -           -            -   \n",
      "Overweight                             -           -            -   \n",
      "Arthritis                              -           -            -   \n",
      "Diabetes                               -           -            -   \n",
      "Hyperlipidemia                         -           -            -   \n",
      "BackPain                               -           -            -   \n",
      "Anxiety                                -           -            -   \n",
      "Allergic_rhinitis                      -           -            -   \n",
      "Reflux_esophagitis                     -           -            -   \n",
      "Asthma                                 -           -            -   \n",
      "\n",
      "                                    25%        Median 75% Quartile        Max  \\\n",
      "vitD_supp                           0.0           0.0          1.0          5   \n",
      "Stroke_numeric                      0.0           0.0          0.0          1   \n",
      "Children                            0.0           1.0          3.0       10.0   \n",
      "Income                        19598.775      33768.42   54296.4025   207249.1   \n",
      "Soft_drink_numeric                  0.0           0.0          1.0          1   \n",
      "Services_numeric                    0.0           0.0          1.0          3   \n",
      "Diabetes_numeric                    0.0           0.0          1.0          1   \n",
      "Full_meals_eaten                    0.0           1.0          2.0          7   \n",
      "Asthma_numeric                      0.0           0.0          1.0          1   \n",
      "Additional_charges          7986.487755  11573.977735     15626.49   30566.07   \n",
      "Hyperlipidemia_numeric              0.0           0.0          1.0          1   \n",
      "Arthritis_numeric                   0.0           0.0          1.0          1   \n",
      "ReAdmis_numeric                     0.0           0.0          1.0          1   \n",
      "Initial_admin_numeric               0.0           0.0          1.0          2   \n",
      "Allergic_rhinitis_numeric           0.0           0.0          1.0          1   \n",
      "HighBlood_numeric                   0.0           0.0          1.0          1   \n",
      "BackPain_numeric                    0.0           0.0          1.0          1   \n",
      "Reflux_esophagitis_numeric          0.0           0.0          1.0          1   \n",
      "Initial_days                   7.896215     35.836244     61.16102   71.98149   \n",
      "TotalCharge                 3179.374015      5213.952   7459.69975   9180.728   \n",
      "VitD_levels                   16.626439     17.951122    19.347963  26.394449   \n",
      "Age                                36.0          53.0         71.0       89.0   \n",
      "Marital_numeric                     1.0           2.0          3.0          4   \n",
      "Doc_visits                          4.0           5.0          6.0          9   \n",
      "Complication_risk_numeric           1.0           1.0          2.0          2   \n",
      "Marital                               -             -            -          -   \n",
      "Services                              -             -            -          -   \n",
      "Gender                                -             -            -          -   \n",
      "Initial_admin                         -             -            -          -   \n",
      "Complication_risk                     -             -            -          -   \n",
      "Gender_numeric                        -             -            -          -   \n",
      "ReAdmis                               -             -            -          -   \n",
      "Soft_drink                            -             -            -          -   \n",
      "HighBlood                             -             -            -          -   \n",
      "Stroke                                -             -            -          -   \n",
      "Overweight                            -             -            -          -   \n",
      "Arthritis                             -             -            -          -   \n",
      "Diabetes                              -             -            -          -   \n",
      "Hyperlipidemia                        -             -            -          -   \n",
      "BackPain                              -             -            -          -   \n",
      "Anxiety                               -             -            -          -   \n",
      "Allergic_rhinitis                     -             -            -          -   \n",
      "Reflux_esophagitis                    -             -            -          -   \n",
      "Asthma                                -             -            -          -   \n",
      "\n",
      "                                     Std      Skew      Kurt  \n",
      "vitD_supp                       0.628505  1.550205  2.330763  \n",
      "Stroke_numeric                  0.399494  1.505705  0.267202  \n",
      "Children                        2.163659  1.448013  2.076321  \n",
      "Income                      28521.153293  1.405899   2.74569  \n",
      "Soft_drink_numeric              0.437279  1.109354 -0.769488  \n",
      "Services_numeric                0.832758  1.069764  0.345281  \n",
      "Diabetes_numeric                 0.44593  1.014712 -0.970553  \n",
      "Full_meals_eaten                1.008117  1.009461  1.042727  \n",
      "Asthma_numeric                   0.45346  0.929485 -1.136285  \n",
      "Additional_charges           6542.601544  0.831842 -0.142684  \n",
      "Hyperlipidemia_numeric          0.472777  0.688834 -1.525813  \n",
      "Arthritis_numeric               0.479258  0.595206 -1.646059  \n",
      "ReAdmis_numeric                 0.481983  0.552412  -1.69518  \n",
      "Initial_admin_numeric           0.825115   0.51916 -1.339272  \n",
      "Allergic_rhinitis_numeric       0.488681  0.433498 -1.812442  \n",
      "HighBlood_numeric               0.491674  0.370238 -1.863296  \n",
      "BackPain_numeric                0.492112  0.360153 -1.870664  \n",
      "Reflux_esophagitis_numeric      0.492486   0.35135 -1.876929  \n",
      "Initial_days                   26.309341  0.070286 -1.754525  \n",
      "TotalCharge                  2180.393838  0.069661 -1.668267  \n",
      "VitD_levels                     2.017231  0.032435 -0.022112  \n",
      "Age                            20.638538  0.005117 -1.189527  \n",
      "Marital_numeric                 1.413426 -0.000908 -1.294478  \n",
      "Doc_visits                      1.045734 -0.018563  0.025999  \n",
      "Complication_risk_numeric       0.730172 -0.194687 -1.111062  \n",
      "Marital                                -         -         -  \n",
      "Services                               -         -         -  \n",
      "Gender                                 -         -         -  \n",
      "Initial_admin                          -         -         -  \n",
      "Complication_risk                      -         -         -  \n",
      "Gender_numeric                         -         -         -  \n",
      "ReAdmis                                -         -         -  \n",
      "Soft_drink                             -         -         -  \n",
      "HighBlood                              -         -         -  \n",
      "Stroke                                 -         -         -  \n",
      "Overweight                             -         -         -  \n",
      "Arthritis                              -         -         -  \n",
      "Diabetes                               -         -         -  \n",
      "Hyperlipidemia                         -         -         -  \n",
      "BackPain                               -         -         -  \n",
      "Anxiety                                -         -         -  \n",
      "Allergic_rhinitis                      -         -         -  \n",
      "Reflux_esophagitis                     -         -         -  \n",
      "Asthma                                 -         -         -  \n"
     ]
    }
   ],
   "source": [
    "import pandas as pd\n",
    "\n",
    "import numpy as np\n",
    "\n",
    "import matplotlib.pyplot as plt\n",
    "\n",
    "import scipy.stats as stats\n",
    "\n",
    "from scipy.stats import skew, kurtosis\n",
    "\n",
    "import seaborn as sns\n",
    "\n",
    "import statistics as stat\n",
    "\n",
    "#Loading the CSV of the default dataset\n",
    "df = pd.read_csv(r'C:\\Users\\mmorg\\Desktop\\D207 Assessment Files\\medical_clean.csv')\n",
    "\n",
    "#Turn categorical values into quantitative data\n",
    "df['Marital_numeric'] = df['Marital']\n",
    "dict_marital = {\"Marital_numeric\": {\"Never Married\": 0,\"Separated\": 1,\"Widowed\": 2,\"Divorced\": 3, \"Married\": 4}}\n",
    "df.replace(dict_marital, inplace=True)\n",
    "\n",
    "df['Gender_numeric'] = df['Gender']\n",
    "dict_gender = {\"Gender_numeric\": {\"Prefer not to answer\": 0,\"Male\": 1,\"Female\": 2}}\n",
    "df.replace(dict_gender, inplace=True)\n",
    "\n",
    "df['ReAdmis_numeric'] = df['ReAdmis']\n",
    "dict_ReAdmis = {\"ReAdmis_numeric\": {\"No\": 0, \"Yes\": 1}}\n",
    "df.replace(dict_ReAdmis, inplace=True)\n",
    "\n",
    "df['Soft_drink_numeric'] = df['Soft_drink']\n",
    "dict_Soft_drink = {\"Soft_drink_numeric\": {\"No\": 0, \"Yes\": 1}}\n",
    "df.replace(dict_Soft_drink, inplace=True)\n",
    "\n",
    "df['Initial_admin_numeric'] = df['Initial_admin']\n",
    "dict_Initial_admin = {\"Initial_admin_numeric\": {\"Emergency Admission\": 0, \"Elective Admission\": 1,\"Observation Admission\": 2}}\n",
    "df.replace(dict_Initial_admin, inplace=True)\n",
    "\n",
    "df['HighBlood_numeric'] = df['HighBlood']\n",
    "dict_HighBlood = {\"HighBlood_numeric\": {\"No\": 0, \"Yes\": 1}}\n",
    "df.replace(dict_HighBlood, inplace=True)\n",
    "\n",
    "df['Stroke_numeric'] = df['Stroke']\n",
    "dict_stroke = {\"Stroke_numeric\": {\"No\": 0, \"Yes\": 1}}\n",
    "df.replace(dict_stroke, inplace=True)\n",
    "\n",
    "df['Complication_risk_numeric'] = df['Complication_risk']\n",
    "dict_complication = {\"Complication_risk_numeric\": {\"Low\": 0, \"Medium\": 1, \"High\": 2}}\n",
    "df.replace(dict_complication, inplace=True)\n",
    "\n",
    "df['Arthritis_numeric'] = df['Arthritis']\n",
    "dict_arthritis = {\"Arthritis_numeric\": {\"No\": 0, \"Yes\": 1}}\n",
    "df.replace(dict_arthritis, inplace=True)\n",
    "\n",
    "df['Diabetes_numeric'] = df['Diabetes']\n",
    "dict_diabetes = {\"Diabetes_numeric\": {\"No\": 0, \"Yes\": 1}}\n",
    "df.replace(dict_diabetes, inplace=True)\n",
    "\n",
    "df['Hyperlipidemia_numeric'] = df['Hyperlipidemia']\n",
    "dict_hyperlipidemia = {\"Hyperlipidemia_numeric\": {\"No\": 0, \"Yes\": 1}}\n",
    "df.replace(dict_hyperlipidemia, inplace=True)\n",
    "\n",
    "df['BackPain_numeric'] = df['BackPain']\n",
    "dict_backpain = {\"BackPain_numeric\": {\"No\": 0, \"Yes\": 1}}\n",
    "df.replace(dict_backpain, inplace=True)\n",
    "\n",
    "df['Allergic_rhinitis_numeric'] = df['Allergic_rhinitis']\n",
    "dict_allergies = {\"Allergic_rhinitis_numeric\": {\"No\": 0, \"Yes\": 1}}\n",
    "df.replace(dict_allergies, inplace=True)\n",
    "\n",
    "df['Reflux_esophagitis_numeric'] = df['Reflux_esophagitis']\n",
    "dict_reflux = {\"Reflux_esophagitis_numeric\": {\"No\": 0, \"Yes\": 1}}\n",
    "df.replace(dict_reflux, inplace=True)\n",
    "\n",
    "df['Asthma_numeric'] = df['Asthma']\n",
    "dict_asthma = {\"Asthma_numeric\": {\"No\": 0, \"Yes\": 1}}\n",
    "df.replace(dict_asthma, inplace=True)\n",
    "\n",
    "df['Services_numeric'] = df['Services']\n",
    "dict_services = {\"Services_numeric\": {\"Blood Work\": 0, \"Intravenous\": 1, \"CT Scan\": 2, \"MRI\": 3}}\n",
    "df.replace(dict_services, inplace=True)\n",
    "\n",
    "##Univariate Stats Dataframe\n",
    "def unistats(df):\n",
    "    output_df = pd.DataFrame(columns=['Count', 'Missing', 'Unique', 'Dtype', 'Numeric', 'Mean', 'Mode', 'Min', '25%', 'Median', '75% Quartile', 'Max', 'Std', 'Skew', 'Kurt'])\n",
    "    \n",
    "    for col in df:\n",
    "        if pd.api.types.is_numeric_dtype(df[col]):\n",
    "            output_df.loc[col] = [df[col].count(), df[col].isnull().sum(), df[col].nunique(), df[col].dtype, pd.api.types.is_numeric_dtype(df[col]), df[col].mean(), df[col].mode().values[0], df[col].min(), df[col].quantile(.25), df[col].median(), df[col].quantile(.75), df[col].max(), df[col].std(), df[col].skew(), df[col].kurtosis()]\n",
    "        else:\n",
    "            output_df.loc[col] = [df[col].count(), df[col].isnull().sum(), df[col].nunique(), df[col].dtype, pd.api.types.is_numeric_dtype(df[col]), '-', '-', '-', '-', '-', '-', '-', '-', '-', '-']\n",
    "    return output_df.sort_values(by=['Numeric', 'Skew', 'Unique'], ascending=False)\n",
    "\n",
    "df.drop(columns=['CaseOrder', 'Customer_id', 'Interaction', 'UID', 'City', 'State', 'Lat', 'Lng', 'Population', 'Area', 'TimeZone', 'Job', 'County', 'Zip', 'Item1', 'Item2', 'Item3', 'Item4', 'Item5', 'Item6', 'Item7', 'Item8'], inplace=True)\n",
    "print(unistats(df))"
   ]
  },
  {
   "cell_type": "code",
   "execution_count": 4,
   "id": "40222e24",
   "metadata": {},
   "outputs": [
    {
     "data": {
      "text/html": [
       "<div>\n",
       "<style scoped>\n",
       "    .dataframe tbody tr th:only-of-type {\n",
       "        vertical-align: middle;\n",
       "    }\n",
       "\n",
       "    .dataframe tbody tr th {\n",
       "        vertical-align: top;\n",
       "    }\n",
       "\n",
       "    .dataframe thead th {\n",
       "        text-align: right;\n",
       "    }\n",
       "</style>\n",
       "<table border=\"1\" class=\"dataframe\">\n",
       "  <thead>\n",
       "    <tr style=\"text-align: right;\">\n",
       "      <th></th>\n",
       "      <th>r</th>\n",
       "      <th>p-value</th>\n",
       "    </tr>\n",
       "  </thead>\n",
       "  <tbody>\n",
       "    <tr>\n",
       "      <th>ReAdmis_numeric</th>\n",
       "      <td>1.000</td>\n",
       "      <td>0.000</td>\n",
       "    </tr>\n",
       "    <tr>\n",
       "      <th>TotalCharge</th>\n",
       "      <td>0.844</td>\n",
       "      <td>0.000</td>\n",
       "    </tr>\n",
       "    <tr>\n",
       "      <th>Initial_days</th>\n",
       "      <td>0.851</td>\n",
       "      <td>0.000</td>\n",
       "    </tr>\n",
       "    <tr>\n",
       "      <th>Children</th>\n",
       "      <td>0.024</td>\n",
       "      <td>0.019</td>\n",
       "    </tr>\n",
       "    <tr>\n",
       "      <th>Initial_admin_numeric</th>\n",
       "      <td>-0.018</td>\n",
       "      <td>0.069</td>\n",
       "    </tr>\n",
       "    <tr>\n",
       "      <th>Asthma_numeric</th>\n",
       "      <td>-0.017</td>\n",
       "      <td>0.087</td>\n",
       "    </tr>\n",
       "    <tr>\n",
       "      <th>Age</th>\n",
       "      <td>0.016</td>\n",
       "      <td>0.114</td>\n",
       "    </tr>\n",
       "    <tr>\n",
       "      <th>Services_numeric</th>\n",
       "      <td>0.014</td>\n",
       "      <td>0.152</td>\n",
       "    </tr>\n",
       "    <tr>\n",
       "      <th>Additional_charges</th>\n",
       "      <td>0.014</td>\n",
       "      <td>0.173</td>\n",
       "    </tr>\n",
       "    <tr>\n",
       "      <th>BackPain_numeric</th>\n",
       "      <td>0.013</td>\n",
       "      <td>0.183</td>\n",
       "    </tr>\n",
       "    <tr>\n",
       "      <th>Full_meals_eaten</th>\n",
       "      <td>-0.012</td>\n",
       "      <td>0.224</td>\n",
       "    </tr>\n",
       "    <tr>\n",
       "      <th>Income</th>\n",
       "      <td>-0.012</td>\n",
       "      <td>0.250</td>\n",
       "    </tr>\n",
       "    <tr>\n",
       "      <th>vitD_supp</th>\n",
       "      <td>0.011</td>\n",
       "      <td>0.270</td>\n",
       "    </tr>\n",
       "    <tr>\n",
       "      <th>Soft_drink_numeric</th>\n",
       "      <td>0.008</td>\n",
       "      <td>0.441</td>\n",
       "    </tr>\n",
       "    <tr>\n",
       "      <th>Arthritis_numeric</th>\n",
       "      <td>0.008</td>\n",
       "      <td>0.444</td>\n",
       "    </tr>\n",
       "    <tr>\n",
       "      <th>Marital_numeric</th>\n",
       "      <td>-0.006</td>\n",
       "      <td>0.547</td>\n",
       "    </tr>\n",
       "    <tr>\n",
       "      <th>Reflux_esophagitis_numeric</th>\n",
       "      <td>0.005</td>\n",
       "      <td>0.588</td>\n",
       "    </tr>\n",
       "    <tr>\n",
       "      <th>Allergic_rhinitis_numeric</th>\n",
       "      <td>-0.005</td>\n",
       "      <td>0.642</td>\n",
       "    </tr>\n",
       "    <tr>\n",
       "      <th>Hyperlipidemia_numeric</th>\n",
       "      <td>0.004</td>\n",
       "      <td>0.667</td>\n",
       "    </tr>\n",
       "    <tr>\n",
       "      <th>VitD_levels</th>\n",
       "      <td>0.004</td>\n",
       "      <td>0.683</td>\n",
       "    </tr>\n",
       "    <tr>\n",
       "      <th>Complication_risk_numeric</th>\n",
       "      <td>-0.003</td>\n",
       "      <td>0.746</td>\n",
       "    </tr>\n",
       "    <tr>\n",
       "      <th>Diabetes_numeric</th>\n",
       "      <td>-0.003</td>\n",
       "      <td>0.760</td>\n",
       "    </tr>\n",
       "    <tr>\n",
       "      <th>HighBlood_numeric</th>\n",
       "      <td>0.002</td>\n",
       "      <td>0.820</td>\n",
       "    </tr>\n",
       "    <tr>\n",
       "      <th>Stroke_numeric</th>\n",
       "      <td>0.001</td>\n",
       "      <td>0.927</td>\n",
       "    </tr>\n",
       "    <tr>\n",
       "      <th>Doc_visits</th>\n",
       "      <td>0.000</td>\n",
       "      <td>0.980</td>\n",
       "    </tr>\n",
       "  </tbody>\n",
       "</table>\n",
       "</div>"
      ],
      "text/plain": [
       "                                r  p-value\n",
       "ReAdmis_numeric             1.000    0.000\n",
       "TotalCharge                 0.844    0.000\n",
       "Initial_days                0.851    0.000\n",
       "Children                    0.024    0.019\n",
       "Initial_admin_numeric      -0.018    0.069\n",
       "Asthma_numeric             -0.017    0.087\n",
       "Age                         0.016    0.114\n",
       "Services_numeric            0.014    0.152\n",
       "Additional_charges          0.014    0.173\n",
       "BackPain_numeric            0.013    0.183\n",
       "Full_meals_eaten           -0.012    0.224\n",
       "Income                     -0.012    0.250\n",
       "vitD_supp                   0.011    0.270\n",
       "Soft_drink_numeric          0.008    0.441\n",
       "Arthritis_numeric           0.008    0.444\n",
       "Marital_numeric            -0.006    0.547\n",
       "Reflux_esophagitis_numeric  0.005    0.588\n",
       "Allergic_rhinitis_numeric  -0.005    0.642\n",
       "Hyperlipidemia_numeric      0.004    0.667\n",
       "VitD_levels                 0.004    0.683\n",
       "Complication_risk_numeric  -0.003    0.746\n",
       "Diabetes_numeric           -0.003    0.760\n",
       "HighBlood_numeric           0.002    0.820\n",
       "Stroke_numeric              0.001    0.927\n",
       "Doc_visits                  0.000    0.980"
      ]
     },
     "execution_count": 4,
     "metadata": {},
     "output_type": "execute_result"
    }
   ],
   "source": [
    "# Bivariate: Numeric to numeric: Correlation\n",
    "# Bivariate: Numeric to categorical: one-way ANOVA (3+ groups) or t-test (2 groups)\n",
    "# Bivariate: categorical to categorical: Chi-square\n",
    "\n",
    "def bivstats(df, label): \n",
    "   from scipy import stats\n",
    "   import pandas as pd\n",
    "    \n",
    "   #Create an empty dataframe to store output\n",
    "   output_df = pd.DataFrame(columns=['r', 'p-value'])\n",
    "    \n",
    "   for col in df: \n",
    "       if pd.api.types.is_numeric_dtype(df[col]): #Only calculate r, p-value, for numeric columns\n",
    "           r, p = stats.pearsonr(df[label], df[col])\n",
    "           output_df.loc[col] = [round(r, 3), round(p, 3)]\n",
    "                 \n",
    "   return output_df.sort_values(by=['p-value'], ascending=True)\n",
    "\n",
    "bivstats(df, 'ReAdmis_numeric')"
   ]
  },
  {
   "cell_type": "code",
   "execution_count": 5,
   "id": "75f90552",
   "metadata": {},
   "outputs": [
    {
     "data": {
      "text/plain": [
       "Ttest_indResult(statistic=-129.54592813419822, pvalue=0.0)"
      ]
     },
     "execution_count": 5,
     "metadata": {},
     "output_type": "execute_result"
    }
   ],
   "source": [
    "##Selected Initial_days for t-test due to low p-value\n",
    "stats.ttest_ind(df['ReAdmis_numeric'], df['Initial_days'])"
   ]
  },
  {
   "cell_type": "code",
   "execution_count": 6,
   "id": "eeeb2a06",
   "metadata": {},
   "outputs": [
    {
     "data": {
      "image/png": "[encoded data removed]",
      "text/plain": [
       "<Figure size 432x288 with 1 Axes>"
      ]
     },
     "metadata": {
      "needs_background": "light"
     },
     "output_type": "display_data"
    },
    {
     "name": "stdout",
     "output_type": "stream",
     "text": [
      "Initial Days Stats\n",
      "min: 1.001980919\n",
      "25th Quantile: 7.896214698\n",
      "50th Quantile: 35.83624435\n",
      "75th Quantile: 61.16102\n",
      "max: 71.98149\n",
      "mean: 34.45529926595239\n",
      "median: 35.83624435\n",
      "mode: 63.54432\n",
      "Std: 26.30934131161786\n",
      "skew: 0.07028608266045329\n",
      "kurtosis: -1.7545246170896873\n"
     ]
    }
   ],
   "source": [
    "##Initial_days distribution\n",
    "plt.hist(df.Initial_days)\n",
    "plt.xlabel('Total Days')\n",
    "plt.ylabel('Number of Patients')\n",
    "plt.title('Initial_days')\n",
    "plt.show()\n",
    "\n",
    "##Initial_days univariate statistics\n",
    "print('Initial Days Stats')\n",
    "print('min:', df.Initial_days.min())\n",
    "print('25th Quantile:', df.Initial_days.quantile(.25))\n",
    "print('50th Quantile:', df.Initial_days.quantile(.50))\n",
    "print('75th Quantile:', df.Initial_days.quantile(.75))\n",
    "print('max:', df.Initial_days.max())\n",
    "print('mean:', df.Initial_days.mean())\n",
    "print('median:', df.Initial_days.median())\n",
    "print('mode:', df.Initial_days.mode().values[0])\n",
    "print('Std:', df.Initial_days.std())\n",
    "print('skew:', skew(df.Initial_days, bias=False))\n",
    "print('kurtosis:', kurtosis(df.Initial_days, bias=False))"
   ]
  },
  {
   "cell_type": "code",
   "execution_count": 7,
   "id": "369df77c",
   "metadata": {},
   "outputs": [
    {
     "data": {
      "image/png": "[encoded data removed]",
      "text/plain": [
       "<Figure size 432x288 with 1 Axes>"
      ]
     },
     "metadata": {
      "needs_background": "light"
     },
     "output_type": "display_data"
    },
    {
     "name": "stdout",
     "output_type": "stream",
     "text": [
      "Children Stats\n",
      "min: 0\n",
      "25th Quantile: 0.0\n",
      "50th Quantile: 1.0\n",
      "75th Quantile: 3.0\n",
      "max: 10\n",
      "mean: 2.0972\n",
      "median: 1.0\n",
      "mode: 0\n",
      "Std: 2.16365900779899\n",
      "skew: 1.4480126219332756\n",
      "kurtosis: 2.076321273332364\n"
     ]
    }
   ],
   "source": [
    "##Children distribution\n",
    "plt.hist(df.Children)\n",
    "plt.xlabel('Number of Children')\n",
    "plt.ylabel('Total Count')\n",
    "plt.title('Number of Children')\n",
    "plt.show()\n",
    "\n",
    "##Children univariate statistics\n",
    "print('Children Stats')\n",
    "print('min:', df.Children.min())\n",
    "print('25th Quantile:', df.Children.quantile(.25))\n",
    "print('50th Quantile:', df.Children.quantile(.50))\n",
    "print('75th Quantile:', df.Children.quantile(.75))\n",
    "print('max:', df.Children.max())\n",
    "print('mean:', df.Children.mean())\n",
    "print('median:', df.Children.median())\n",
    "print('mode:', df.Children.mode().values[0])\n",
    "print('Std:', df.Children.std())\n",
    "print('skew:', skew(df.Children, bias=False))\n",
    "print('kurtosis:', kurtosis(df.Children, bias=False))"
   ]
  },
  {
   "cell_type": "code",
   "execution_count": 8,
   "id": "ee097766",
   "metadata": {},
   "outputs": [
    {
     "data": {
      "image/png": "[encoded data removed]",
      "text/plain": [
       "<Figure size 432x288 with 1 Axes>"
      ]
     },
     "metadata": {
      "needs_background": "light"
     },
     "output_type": "display_data"
    },
    {
     "name": "stdout",
     "output_type": "stream",
     "text": [
      "Initial_admin_numeric Stats\n",
      "min: 0\n",
      "25th Quantile: 0.0\n",
      "50th Quantile: 0.0\n",
      "75th Quantile: 1.0\n",
      "max: 2\n",
      "mean: 0.7376\n",
      "median: 0.0\n",
      "mode: 0\n",
      "Std: 0.8251147322840162\n",
      "skew: 0.5191601076816872\n",
      "kurtosis: -1.3392723170631167\n"
     ]
    }
   ],
   "source": [
    "##Initial_admin distribution\n",
    "plt.hist(df.Initial_admin)\n",
    "plt.xlabel('Reason for Admission')\n",
    "plt.ylabel('Total Count')\n",
    "plt.title('Initial_admin')\n",
    "plt.show()\n",
    "\n",
    "##Initial_admin_numeric univariate statistics\n",
    "print('Initial_admin_numeric Stats')\n",
    "print('min:', df.Initial_admin_numeric.min())\n",
    "print('25th Quantile:', df.Initial_admin_numeric.quantile(.25))\n",
    "print('50th Quantile:', df.Initial_admin_numeric.quantile(.50))\n",
    "print('75th Quantile:', df.Initial_admin_numeric.quantile(.75))\n",
    "print('max:', df.Initial_admin_numeric.max())\n",
    "print('mean:', df.Initial_admin_numeric.mean())\n",
    "print('median:', df.Initial_admin_numeric.median())\n",
    "print('mode:', df.Initial_admin_numeric.mode().values[0])\n",
    "print('Std:', df.Initial_admin_numeric.std())\n",
    "print('skew:', skew(df.Initial_admin_numeric, bias=False))\n",
    "print('kurtosis:', kurtosis(df.Initial_admin_numeric, bias=False))"
   ]
  },
  {
   "cell_type": "code",
   "execution_count": 9,
   "id": "49456a7f",
   "metadata": {},
   "outputs": [
    {
     "data": {
      "image/png": "[encoded data removed]",
      "text/plain": [
       "<Figure size 432x288 with 1 Axes>"
      ]
     },
     "metadata": {
      "needs_background": "light"
     },
     "output_type": "display_data"
    },
    {
     "name": "stdout",
     "output_type": "stream",
     "text": [
      "ReAdmis_numeric Stats\n",
      "min: 0\n",
      "25th Quantile: 0.0\n",
      "50th Quantile: 0.0\n",
      "75th Quantile: 1.0\n",
      "max: 1\n",
      "mean: 0.3669\n",
      "median: 0.0\n",
      "mode: 0\n",
      "Std: 0.48198300878982964\n",
      "skew: 0.5524121095443897\n",
      "kurtosis: -1.695179937226946\n"
     ]
    }
   ],
   "source": [
    "##ReAdmis_numeric distribution\n",
    "plt.hist(df.ReAdmis)\n",
    "plt.xlabel('Was Patient Readmitted')\n",
    "plt.ylabel('Count')\n",
    "plt.title('ReAdmis')\n",
    "plt.show()\n",
    "\n",
    "##ReAdmis_numeric univariate statistics\n",
    "print('ReAdmis_numeric Stats')\n",
    "print('min:', df.ReAdmis_numeric.min())\n",
    "print('25th Quantile:', df.ReAdmis_numeric.quantile(.25))\n",
    "print('50th Quantile:', df.ReAdmis_numeric.quantile(.50))\n",
    "print('75th Quantile:', df.ReAdmis_numeric.quantile(.75))\n",
    "print('max:', df.ReAdmis_numeric.max())\n",
    "print('mean:', df.ReAdmis_numeric.mean())\n",
    "print('median:', df.ReAdmis_numeric.median())\n",
    "print('mode:', df.ReAdmis_numeric.mode().values[0])\n",
    "print('Std:', df.ReAdmis_numeric.std())\n",
    "print('skew:', skew(df.ReAdmis_numeric, bias=False))\n",
    "print('kurtosis:', kurtosis(df.ReAdmis_numeric, bias=False))"
   ]
  },
  {
   "cell_type": "code",
   "execution_count": 10,
   "id": "e03e44f9",
   "metadata": {},
   "outputs": [
    {
     "data": {
      "text/plain": [
       "<AxesSubplot:xlabel='Initial_days', ylabel='Count'>"
      ]
     },
     "execution_count": 10,
     "metadata": {},
     "output_type": "execute_result"
    },
    {
     "data": {
      "image/png": "[encoded data removed]",
      "text/plain": [
       "<Figure size 432x288 with 1 Axes>"
      ]
     },
     "metadata": {
      "needs_background": "light"
     },
     "output_type": "display_data"
    }
   ],
   "source": [
    "sns.histplot(data=df, x=\"Initial_days\", hue=\"ReAdmis\", kde=True)"
   ]
  },
  {
   "cell_type": "code",
   "execution_count": 11,
   "id": "811181b4",
   "metadata": {},
   "outputs": [
    {
     "name": "stdout",
     "output_type": "stream",
     "text": [
      "0.8508616016470936\n"
     ]
    }
   ],
   "source": [
    "cor = df['Initial_days'].corr(df['ReAdmis_numeric'])\n",
    "print(cor)"
   ]
  },
  {
   "cell_type": "code",
   "execution_count": 12,
   "id": "08b52212",
   "metadata": {},
   "outputs": [
    {
     "data": {
      "text/plain": [
       "<AxesSubplot:xlabel='Children', ylabel='Count'>"
      ]
     },
     "execution_count": 12,
     "metadata": {},
     "output_type": "execute_result"
    },
    {
     "data": {
      "image/png": "[encoded data removed]",
      "text/plain": [
       "<Figure size 432x288 with 1 Axes>"
      ]
     },
     "metadata": {
      "needs_background": "light"
     },
     "output_type": "display_data"
    }
   ],
   "source": [
    "sns.histplot(data=df, x=\"Children\", hue=\"ReAdmis\", kde=True)"
   ]
  },
  {
   "cell_type": "code",
   "execution_count": 13,
   "id": "891f4f08",
   "metadata": {},
   "outputs": [
    {
     "name": "stdout",
     "output_type": "stream",
     "text": [
      "0.0235315217234477\n"
     ]
    }
   ],
   "source": [
    "cor = df['Children'].corr(df['ReAdmis_numeric'])\n",
    "print(cor)"
   ]
  },
  {
   "cell_type": "code",
   "execution_count": 14,
   "id": "71b9d2a0",
   "metadata": {},
   "outputs": [
    {
     "data": {
      "text/plain": [
       "<AxesSubplot:xlabel='Initial_admin', ylabel='Count'>"
      ]
     },
     "execution_count": 14,
     "metadata": {},
     "output_type": "execute_result"
    },
    {
     "data": {
      "image/png": "[encoded data removed]",
      "text/plain": [
       "<Figure size 432x288 with 1 Axes>"
      ]
     },
     "metadata": {
      "needs_background": "light"
     },
     "output_type": "display_data"
    }
   ],
   "source": [
    "sns.histplot(data=df, x=\"Initial_admin\", hue=\"ReAdmis\", kde=True)"
   ]
  },
  {
   "cell_type": "code",
   "execution_count": 15,
   "id": "171b9bda",
   "metadata": {},
   "outputs": [
    {
     "name": "stdout",
     "output_type": "stream",
     "text": [
      "-0.018170281715283412\n"
     ]
    }
   ],
   "source": [
    "cor = df['Initial_admin_numeric'].corr(df['ReAdmis_numeric'])\n",
    "print(cor)"
   ]
  }
 ],
 "metadata": {
  "kernelspec": {
   "display_name": "Python 3 (ipykernel)",
   "language": "python",
   "name": "python3"
  },
  "language_info": {
   "codemirror_mode": {
    "name": "ipython",
    "version": 3
   },
   "file_extension": ".py",
   "mimetype": "text/x-python",
   "name": "python",
   "nbconvert_exporter": "python",
   "pygments_lexer": "ipython3",
   "version": "3.9.12"
  }
 },
 "nbformat": 4,
 "nbformat_minor": 5
}
