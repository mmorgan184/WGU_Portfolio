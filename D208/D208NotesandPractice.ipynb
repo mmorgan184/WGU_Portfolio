{
 "cells": [
  {
   "cell_type": "markdown",
   "id": "c3203856",
   "metadata": {},
   "source": [
    "Response Variable (AKA Dependent Variable)\n",
    "The variable you want to predict\n",
    "\n",
    "Explanatory Variable (AKA Independent Variable)\n",
    "The variables that explain how the response variable will change\n",
    "\n"
   ]
  },
  {
   "cell_type": "code",
   "execution_count": 1,
   "id": "86196895",
   "metadata": {
    "scrolled": true
   },
   "outputs": [
    {
     "name": "stdout",
     "output_type": "stream",
     "text": [
      "                    Count  Missing  Unique    Dtype  Numeric          Mean  \\\n",
      "vitD_supp           10000        0       6    int64     True        0.3989   \n",
      "Children            10000        0      11    int64     True        2.0972   \n",
      "Income              10000        0    9993  float64     True   40490.49516   \n",
      "Full_meals_eaten    10000        0       8    int64     True        1.0014   \n",
      "Additional_charges  10000        0    9418  float64     True  12934.528587   \n",
      "Initial_days        10000        0    9997  float64     True     34.455299   \n",
      "TotalCharge         10000        0    9997  float64     True   5312.172769   \n",
      "VitD_levels         10000        0    9976  float64     True     17.964262   \n",
      "Age                 10000        0      72    int64     True       53.5117   \n",
      "Doc_visits          10000        0       9    int64     True        5.0122   \n",
      "Marital             10000        0       5   object    False             -   \n",
      "Services            10000        0       4   object    False             -   \n",
      "Gender              10000        0       3   object    False             -   \n",
      "Initial_admin       10000        0       3   object    False             -   \n",
      "Complication_risk   10000        0       3   object    False             -   \n",
      "ReAdmis             10000        0       2   object    False             -   \n",
      "Soft_drink          10000        0       2   object    False             -   \n",
      "HighBlood           10000        0       2   object    False             -   \n",
      "Stroke              10000        0       2   object    False             -   \n",
      "Overweight          10000        0       2   object    False             -   \n",
      "Arthritis           10000        0       2   object    False             -   \n",
      "Diabetes            10000        0       2   object    False             -   \n",
      "Hyperlipidemia      10000        0       2   object    False             -   \n",
      "BackPain            10000        0       2   object    False             -   \n",
      "Anxiety             10000        0       2   object    False             -   \n",
      "Allergic_rhinitis   10000        0       2   object    False             -   \n",
      "Reflux_esophagitis  10000        0       2   object    False             -   \n",
      "Asthma              10000        0       2   object    False             -   \n",
      "\n",
      "                          Mode          Min        Median        Max  \\\n",
      "vitD_supp                    0            0           0.0          5   \n",
      "Children                   0.0          0.0           1.0       10.0   \n",
      "Income                 14572.4       154.08      33768.42   207249.1   \n",
      "Full_meals_eaten             0            0           1.0          7   \n",
      "Additional_charges  3883.66416     3125.703  11573.977735   30566.07   \n",
      "Initial_days          63.54432     1.001981     35.836244   71.98149   \n",
      "TotalCharge           7555.452  1938.312067      5213.952   9180.728   \n",
      "VitD_levels           15.26009     9.806483     17.951122  26.394449   \n",
      "Age                       47.0         18.0          53.0       89.0   \n",
      "Doc_visits                   5            1           5.0          9   \n",
      "Marital                      -            -             -          -   \n",
      "Services                     -            -             -          -   \n",
      "Gender                       -            -             -          -   \n",
      "Initial_admin                -            -             -          -   \n",
      "Complication_risk            -            -             -          -   \n",
      "ReAdmis                      -            -             -          -   \n",
      "Soft_drink                   -            -             -          -   \n",
      "HighBlood                    -            -             -          -   \n",
      "Stroke                       -            -             -          -   \n",
      "Overweight                   -            -             -          -   \n",
      "Arthritis                    -            -             -          -   \n",
      "Diabetes                     -            -             -          -   \n",
      "Hyperlipidemia               -            -             -          -   \n",
      "BackPain                     -            -             -          -   \n",
      "Anxiety                      -            -             -          -   \n",
      "Allergic_rhinitis            -            -             -          -   \n",
      "Reflux_esophagitis           -            -             -          -   \n",
      "Asthma                       -            -             -          -   \n",
      "\n",
      "                             Std      Skew      Kurt  \n",
      "vitD_supp               0.628505  1.550205  2.330763  \n",
      "Children                2.163659  1.448013  2.076321  \n",
      "Income              28521.153293  1.405899   2.74569  \n",
      "Full_meals_eaten        1.008117  1.009461  1.042727  \n",
      "Additional_charges   6542.601544  0.831842 -0.142684  \n",
      "Initial_days           26.309341  0.070286 -1.754525  \n",
      "TotalCharge          2180.393838  0.069661 -1.668267  \n",
      "VitD_levels             2.017231  0.032435 -0.022112  \n",
      "Age                    20.638538  0.005117 -1.189527  \n",
      "Doc_visits              1.045734 -0.018563  0.025999  \n",
      "Marital                        -         -         -  \n",
      "Services                       -         -         -  \n",
      "Gender                         -         -         -  \n",
      "Initial_admin                  -         -         -  \n",
      "Complication_risk              -         -         -  \n",
      "ReAdmis                        -         -         -  \n",
      "Soft_drink                     -         -         -  \n",
      "HighBlood                      -         -         -  \n",
      "Stroke                         -         -         -  \n",
      "Overweight                     -         -         -  \n",
      "Arthritis                      -         -         -  \n",
      "Diabetes                       -         -         -  \n",
      "Hyperlipidemia                 -         -         -  \n",
      "BackPain                       -         -         -  \n",
      "Anxiety                        -         -         -  \n",
      "Allergic_rhinitis              -         -         -  \n",
      "Reflux_esophagitis             -         -         -  \n",
      "Asthma                         -         -         -  \n"
     ]
    }
   ],
   "source": [
    "import pandas as pd\n",
    "\n",
    "import numpy as np\n",
    "\n",
    "import matplotlib.pyplot as plt\n",
    "\n",
    "import scipy.stats as stats\n",
    "\n",
    "from scipy.stats import skew, kurtosis\n",
    "\n",
    "import seaborn as sns\n",
    "\n",
    "import statistics as stat\n",
    "\n",
    "from statsmodels.formula.api import ols\n",
    "\n",
    "#Loading the CSV of the default dataset\n",
    "df = pd.read_csv(r'C:\\Users\\mmorg\\Desktop\\D208 Assessment Files\\medical_clean.csv')\n",
    "\n",
    "##Univariate Stats Dataframe\n",
    "def unistats(df):\n",
    "    output_df = pd.DataFrame(columns=['Count', 'Missing', 'Unique', 'Dtype', 'Numeric', 'Mean', 'Mode', 'Min', 'Median', 'Max', 'Std', 'Skew', 'Kurt'])\n",
    "    \n",
    "    for col in df:\n",
    "        if pd.api.types.is_numeric_dtype(df[col]):\n",
    "            output_df.loc[col] = [df[col].count(), df[col].isnull().sum(), df[col].nunique(), df[col].dtype, pd.api.types.is_numeric_dtype(df[col]), df[col].mean(), df[col].mode().values[0], df[col].min(), df[col].median(), df[col].max(), df[col].std(), df[col].skew(), df[col].kurtosis()]\n",
    "        else:\n",
    "            output_df.loc[col] = [df[col].count(), df[col].isnull().sum(), df[col].nunique(), df[col].dtype, pd.api.types.is_numeric_dtype(df[col]), '-', '-', '-', '-', '-', '-', '-', '-']\n",
    "    return output_df.sort_values(by=['Numeric', 'Skew', 'Unique'], ascending=False)\n",
    "\n",
    "df.drop(columns=['CaseOrder', 'Customer_id', 'Interaction', 'UID', 'City', 'State', 'Lat', 'Lng', 'Population', 'Area', 'TimeZone', 'Job', 'County', 'Zip', 'Item1', 'Item2', 'Item3', 'Item4', 'Item5', 'Item6', 'Item7', 'Item8'], inplace=True)\n",
    "print(unistats(df))"
   ]
  },
  {
   "cell_type": "code",
   "execution_count": 2,
   "id": "bc834614",
   "metadata": {},
   "outputs": [],
   "source": [
    "df = pd.get_dummies(df, columns=[\"Marital\", \"Services\", \"Gender\", \"Initial_admin\", \"Complication_risk\"])"
   ]
  },
  {
   "cell_type": "code",
   "execution_count": 3,
   "id": "c6def25d",
   "metadata": {},
   "outputs": [],
   "source": [
    "#Data Wrangling; turn categorical values into quantitative data\n",
    "df['ReAdmis_numeric'] = df['ReAdmis']\n",
    "dict_ReAdmis = {\"ReAdmis_numeric\": {\"No\": 0, \"Yes\": 1}}\n",
    "df.replace(dict_ReAdmis, inplace=True)\n",
    "\n",
    "df['Soft_drink_numeric'] = df['Soft_drink']\n",
    "dict_Soft_drink = {\"Soft_drink_numeric\": {\"No\": 0, \"Yes\": 1}}\n",
    "df.replace(dict_Soft_drink, inplace=True)\n",
    "\n",
    "df['HighBlood_numeric'] = df['HighBlood']\n",
    "dict_HighBlood = {\"HighBlood_numeric\": {\"No\": 0, \"Yes\": 1}}\n",
    "df.replace(dict_HighBlood, inplace=True)\n",
    "\n",
    "df['Stroke_numeric'] = df['Stroke']\n",
    "dict_stroke = {\"Stroke_numeric\": {\"No\": 0, \"Yes\": 1}}\n",
    "df.replace(dict_stroke, inplace=True)\n",
    "\n",
    "df['Arthritis_numeric'] = df['Arthritis']\n",
    "dict_arthritis = {\"Arthritis_numeric\": {\"No\": 0, \"Yes\": 1}}\n",
    "df.replace(dict_arthritis, inplace=True)\n",
    "\n",
    "df['Diabetes_numeric'] = df['Diabetes']\n",
    "dict_diabetes = {\"Diabetes_numeric\": {\"No\": 0, \"Yes\": 1}}\n",
    "df.replace(dict_diabetes, inplace=True)\n",
    "\n",
    "df['Hyperlipidemia_numeric'] = df['Hyperlipidemia']\n",
    "dict_hyperlipidemia = {\"Hyperlipidemia_numeric\": {\"No\": 0, \"Yes\": 1}}\n",
    "df.replace(dict_hyperlipidemia, inplace=True)\n",
    "\n",
    "df['BackPain_numeric'] = df['BackPain']\n",
    "dict_backpain = {\"BackPain_numeric\": {\"No\": 0, \"Yes\": 1}}\n",
    "df.replace(dict_backpain, inplace=True)\n",
    "\n",
    "df['Allergic_rhinitis_numeric'] = df['Allergic_rhinitis']\n",
    "dict_allergies = {\"Allergic_rhinitis_numeric\": {\"No\": 0, \"Yes\": 1}}\n",
    "df.replace(dict_allergies, inplace=True)\n",
    "\n",
    "df['Reflux_esophagitis_numeric'] = df['Reflux_esophagitis']\n",
    "dict_reflux = {\"Reflux_esophagitis_numeric\": {\"No\": 0, \"Yes\": 1}}\n",
    "df.replace(dict_reflux, inplace=True)\n",
    "\n",
    "df['Asthma_numeric'] = df['Asthma']\n",
    "dict_asthma = {\"Asthma_numeric\": {\"No\": 0, \"Yes\": 1}}\n",
    "df.replace(dict_asthma, inplace=True)"
   ]
  },
  {
   "cell_type": "code",
   "execution_count": 4,
   "id": "15ae8fe5",
   "metadata": {},
   "outputs": [
    {
     "name": "stdout",
     "output_type": "stream",
     "text": [
      "<class 'pandas.core.frame.DataFrame'>\n",
      "RangeIndex: 10000 entries, 0 to 9999\n",
      "Data columns (total 52 columns):\n",
      " #   Column                               Non-Null Count  Dtype  \n",
      "---  ------                               --------------  -----  \n",
      " 0   Children                             10000 non-null  int64  \n",
      " 1   Age                                  10000 non-null  int64  \n",
      " 2   Income                               10000 non-null  float64\n",
      " 3   ReAdmis                              10000 non-null  object \n",
      " 4   VitD_levels                          10000 non-null  float64\n",
      " 5   Doc_visits                           10000 non-null  int64  \n",
      " 6   Full_meals_eaten                     10000 non-null  int64  \n",
      " 7   vitD_supp                            10000 non-null  int64  \n",
      " 8   Soft_drink                           10000 non-null  object \n",
      " 9   HighBlood                            10000 non-null  object \n",
      " 10  Stroke                               10000 non-null  object \n",
      " 11  Overweight                           10000 non-null  object \n",
      " 12  Arthritis                            10000 non-null  object \n",
      " 13  Diabetes                             10000 non-null  object \n",
      " 14  Hyperlipidemia                       10000 non-null  object \n",
      " 15  BackPain                             10000 non-null  object \n",
      " 16  Anxiety                              10000 non-null  object \n",
      " 17  Allergic_rhinitis                    10000 non-null  object \n",
      " 18  Reflux_esophagitis                   10000 non-null  object \n",
      " 19  Asthma                               10000 non-null  object \n",
      " 20  Initial_days                         10000 non-null  float64\n",
      " 21  TotalCharge                          10000 non-null  float64\n",
      " 22  Additional_charges                   10000 non-null  float64\n",
      " 23  Marital_Divorced                     10000 non-null  uint8  \n",
      " 24  Marital_Married                      10000 non-null  uint8  \n",
      " 25  Marital_Never Married                10000 non-null  uint8  \n",
      " 26  Marital_Separated                    10000 non-null  uint8  \n",
      " 27  Marital_Widowed                      10000 non-null  uint8  \n",
      " 28  Services_Blood Work                  10000 non-null  uint8  \n",
      " 29  Services_CT Scan                     10000 non-null  uint8  \n",
      " 30  Services_Intravenous                 10000 non-null  uint8  \n",
      " 31  Services_MRI                         10000 non-null  uint8  \n",
      " 32  Gender_Female                        10000 non-null  uint8  \n",
      " 33  Gender_Male                          10000 non-null  uint8  \n",
      " 34  Gender_Nonbinary                     10000 non-null  uint8  \n",
      " 35  Initial_admin_Elective Admission     10000 non-null  uint8  \n",
      " 36  Initial_admin_Emergency Admission    10000 non-null  uint8  \n",
      " 37  Initial_admin_Observation Admission  10000 non-null  uint8  \n",
      " 38  Complication_risk_High               10000 non-null  uint8  \n",
      " 39  Complication_risk_Low                10000 non-null  uint8  \n",
      " 40  Complication_risk_Medium             10000 non-null  uint8  \n",
      " 41  ReAdmis_numeric                      10000 non-null  int64  \n",
      " 42  Soft_drink_numeric                   10000 non-null  int64  \n",
      " 43  HighBlood_numeric                    10000 non-null  int64  \n",
      " 44  Stroke_numeric                       10000 non-null  int64  \n",
      " 45  Arthritis_numeric                    10000 non-null  int64  \n",
      " 46  Diabetes_numeric                     10000 non-null  int64  \n",
      " 47  Hyperlipidemia_numeric               10000 non-null  int64  \n",
      " 48  BackPain_numeric                     10000 non-null  int64  \n",
      " 49  Allergic_rhinitis_numeric            10000 non-null  int64  \n",
      " 50  Reflux_esophagitis_numeric           10000 non-null  int64  \n",
      " 51  Asthma_numeric                       10000 non-null  int64  \n",
      "dtypes: float64(5), int64(16), object(13), uint8(18)\n",
      "memory usage: 2.8+ MB\n"
     ]
    }
   ],
   "source": [
    "df.info()"
   ]
  },
  {
   "cell_type": "code",
   "execution_count": 6,
   "id": "24f368cc",
   "metadata": {
    "scrolled": true
   },
   "outputs": [
    {
     "data": {
      "image/png": "[encoded data removed]",
      "text/plain": [
       "<Figure size 432x288 with 1 Axes>"
      ]
     },
     "metadata": {
      "needs_background": "light"
     },
     "output_type": "display_data"
    },
    {
     "data": {
      "image/png": "[encoded data removed]",
      "text/plain": [
       "<Figure size 432x288 with 1 Axes>"
      ]
     },
     "metadata": {
      "needs_background": "light"
     },
     "output_type": "display_data"
    },
    {
     "data": {
      "image/png": "[encoded data removed]",
      "text/plain": [
       "<Figure size 432x288 with 1 Axes>"
      ]
     },
     "metadata": {
      "needs_background": "light"
     },
     "output_type": "display_data"
    },
    {
     "data": {
      "image/png": "[encoded data removed]",
      "text/plain": [
       "<Figure size 432x288 with 1 Axes>"
      ]
     },
     "metadata": {
      "needs_background": "light"
     },
     "output_type": "display_data"
    },
    {
     "data": {
      "image/png": "[encoded data removed]",
      "text/plain": [
       "<Figure size 432x288 with 1 Axes>"
      ]
     },
     "metadata": {
      "needs_background": "light"
     },
     "output_type": "display_data"
    },
    {
     "data": {
      "image/png": "[encoded data removed]",
      "text/plain": [
       "<Figure size 432x288 with 1 Axes>"
      ]
     },
     "metadata": {
      "needs_background": "light"
     },
     "output_type": "display_data"
    },
    {
     "data": {
      "image/png": "[encoded data removed]",
      "text/plain": [
       "<Figure size 432x288 with 1 Axes>"
      ]
     },
     "metadata": {
      "needs_background": "light"
     },
     "output_type": "display_data"
    },
    {
     "data": {
      "image/png": "[encoded data removed]",
      "text/plain": [
       "<Figure size 432x288 with 1 Axes>"
      ]
     },
     "metadata": {
      "needs_background": "light"
     },
     "output_type": "display_data"
    },
    {
     "data": {
      "image/png": "[encoded data removed]",
      "text/plain": [
       "<Figure size 432x288 with 1 Axes>"
      ]
     },
     "metadata": {
      "needs_background": "light"
     },
     "output_type": "display_data"
    },
    {
     "data": {
      "image/png": "[encoded data removed]",
      "text/plain": [
       "<Figure size 432x288 with 1 Axes>"
      ]
     },
     "metadata": {
      "needs_background": "light"
     },
     "output_type": "display_data"
    }
   ],
   "source": [
    "#Detection of outliers\n",
    "boxplot=sns.boxplot(x='Children',data=df)\n",
    "plt.show()\n",
    "boxplot=sns.boxplot(x='Age',data=df)\n",
    "plt.show()\n",
    "boxplot=sns.boxplot(x='Income',data=df)\n",
    "plt.show()\n",
    "boxplot=sns.boxplot(x='VitD_levels',data=df)\n",
    "plt.show()\n",
    "boxplot=sns.boxplot(x='Doc_visits',data=df)\n",
    "plt.show()\n",
    "boxplot=sns.boxplot(x='Full_meals_eaten',data=df)\n",
    "plt.show()\n",
    "boxplot=sns.boxplot(x='vitD_supp',data=df)\n",
    "plt.show()\n",
    "boxplot=sns.boxplot(x='Initial_days',data=df)\n",
    "plt.show()\n",
    "boxplot=sns.boxplot(x='TotalCharge',data=df)\n",
    "plt.show()\n",
    "boxplot=sns.boxplot(x='Additional_charges',data=df)\n",
    "plt.show()"
   ]
  },
  {
   "cell_type": "code",
   "execution_count": 7,
   "id": "e8b604ec",
   "metadata": {
    "scrolled": true
   },
   "outputs": [
    {
     "name": "stdout",
     "output_type": "stream",
     "text": [
      "                                     Count  Missing  Unique    Dtype  Numeric  \\\n",
      "Gender_Nonbinary                     10000        0       2    uint8     True   \n",
      "Services_MRI                         10000        0       2    uint8     True   \n",
      "Services_CT Scan                     10000        0       2    uint8     True   \n",
      "vitD_supp                            10000        0       6    int64     True   \n",
      "Marital_Divorced                     10000        0       2    uint8     True   \n",
      "Marital_Never Married                10000        0       2    uint8     True   \n",
      "Marital_Separated                    10000        0       2    uint8     True   \n",
      "Stroke_numeric                       10000        0       2    int64     True   \n",
      "Marital_Married                      10000        0       2    uint8     True   \n",
      "Marital_Widowed                      10000        0       2    uint8     True   \n",
      "Children                             10000        0      11    int64     True   \n",
      "Income                               10000        0    9993  float64     True   \n",
      "Complication_risk_Low                10000        0       2    uint8     True   \n",
      "Initial_admin_Observation Admission  10000        0       2    uint8     True   \n",
      "Initial_admin_Elective Admission     10000        0       2    uint8     True   \n",
      "Soft_drink_numeric                   10000        0       2    int64     True   \n",
      "Diabetes_numeric                     10000        0       2    int64     True   \n",
      "Full_meals_eaten                     10000        0       8    int64     True   \n",
      "Asthma_numeric                       10000        0       2    int64     True   \n",
      "Additional_charges                   10000        0    9418  float64     True   \n",
      "Services_Intravenous                 10000        0       2    uint8     True   \n",
      "Complication_risk_High               10000        0       2    uint8     True   \n",
      "Hyperlipidemia_numeric               10000        0       2    int64     True   \n",
      "Arthritis_numeric                    10000        0       2    int64     True   \n",
      "ReAdmis_numeric                      10000        0       2    int64     True   \n",
      "Allergic_rhinitis_numeric            10000        0       2    int64     True   \n",
      "HighBlood_numeric                    10000        0       2    int64     True   \n",
      "BackPain_numeric                     10000        0       2    int64     True   \n",
      "Reflux_esophagitis_numeric           10000        0       2    int64     True   \n",
      "Complication_risk_Medium             10000        0       2    uint8     True   \n",
      "Gender_Male                          10000        0       2    uint8     True   \n",
      "Initial_days                         10000        0    9997  float64     True   \n",
      "TotalCharge                          10000        0    9997  float64     True   \n",
      "VitD_levels                          10000        0    9976  float64     True   \n",
      "Age                                  10000        0      72    int64     True   \n",
      "Gender_Female                        10000        0       2    uint8     True   \n",
      "Doc_visits                           10000        0       9    int64     True   \n",
      "Initial_admin_Emergency Admission    10000        0       2    uint8     True   \n",
      "Services_Blood Work                  10000        0       2    uint8     True   \n",
      "ReAdmis                              10000        0       2   object    False   \n",
      "Soft_drink                           10000        0       2   object    False   \n",
      "HighBlood                            10000        0       2   object    False   \n",
      "Stroke                               10000        0       2   object    False   \n",
      "Overweight                           10000        0       2   object    False   \n",
      "Arthritis                            10000        0       2   object    False   \n",
      "Diabetes                             10000        0       2   object    False   \n",
      "Hyperlipidemia                       10000        0       2   object    False   \n",
      "BackPain                             10000        0       2   object    False   \n",
      "Anxiety                              10000        0       2   object    False   \n",
      "Allergic_rhinitis                    10000        0       2   object    False   \n",
      "Reflux_esophagitis                   10000        0       2   object    False   \n",
      "Asthma                               10000        0       2   object    False   \n",
      "\n",
      "                                             Mean        Mode          Min  \\\n",
      "Gender_Nonbinary                           0.0214           0            0   \n",
      "Services_MRI                                0.038           0            0   \n",
      "Services_CT Scan                           0.1225           0            0   \n",
      "vitD_supp                                  0.3989           0            0   \n",
      "Marital_Divorced                           0.1961           0            0   \n",
      "Marital_Never Married                      0.1984           0            0   \n",
      "Marital_Separated                          0.1987           0            0   \n",
      "Stroke_numeric                             0.1993           0            0   \n",
      "Marital_Married                            0.2023           0            0   \n",
      "Marital_Widowed                            0.2045           0            0   \n",
      "Children                                   2.0972         0.0          0.0   \n",
      "Income                                40490.49516     14572.4       154.08   \n",
      "Complication_risk_Low                      0.2125           0            0   \n",
      "Initial_admin_Observation Admission        0.2436           0            0   \n",
      "Initial_admin_Elective Admission           0.2504           0            0   \n",
      "Soft_drink_numeric                         0.2575           0            0   \n",
      "Diabetes_numeric                           0.2738           0            0   \n",
      "Full_meals_eaten                           1.0014           0            0   \n",
      "Asthma_numeric                             0.2893           0            0   \n",
      "Additional_charges                   12934.528587  3883.66416     3125.703   \n",
      "Services_Intravenous                        0.313           0            0   \n",
      "Complication_risk_High                     0.3358           0            0   \n",
      "Hyperlipidemia_numeric                     0.3372           0            0   \n",
      "Arthritis_numeric                          0.3574           0            0   \n",
      "ReAdmis_numeric                            0.3669           0            0   \n",
      "Allergic_rhinitis_numeric                  0.3941           0            0   \n",
      "HighBlood_numeric                           0.409           0            0   \n",
      "BackPain_numeric                           0.4114           0            0   \n",
      "Reflux_esophagitis_numeric                 0.4135           0            0   \n",
      "Complication_risk_Medium                   0.4517           0            0   \n",
      "Gender_Male                                0.4768           0            0   \n",
      "Initial_days                            34.455299    63.54432     1.001981   \n",
      "TotalCharge                           5312.172769    7555.452  1938.312067   \n",
      "VitD_levels                             17.964262    15.26009     9.806483   \n",
      "Age                                       53.5117        47.0         18.0   \n",
      "Gender_Female                              0.5018           1            0   \n",
      "Doc_visits                                 5.0122           5            1   \n",
      "Initial_admin_Emergency Admission           0.506           1            0   \n",
      "Services_Blood Work                        0.5265           1            0   \n",
      "ReAdmis                                         -           -            -   \n",
      "Soft_drink                                      -           -            -   \n",
      "HighBlood                                       -           -            -   \n",
      "Stroke                                          -           -            -   \n",
      "Overweight                                      -           -            -   \n",
      "Arthritis                                       -           -            -   \n",
      "Diabetes                                        -           -            -   \n",
      "Hyperlipidemia                                  -           -            -   \n",
      "BackPain                                        -           -            -   \n",
      "Anxiety                                         -           -            -   \n",
      "Allergic_rhinitis                               -           -            -   \n",
      "Reflux_esophagitis                              -           -            -   \n",
      "Asthma                                          -           -            -   \n",
      "\n",
      "                                           Median        Max           Std  \\\n",
      "Gender_Nonbinary                              0.0          1      0.144721   \n",
      "Services_MRI                                  0.0          1      0.191206   \n",
      "Services_CT Scan                              0.0          1      0.327879   \n",
      "vitD_supp                                     0.0          5      0.628505   \n",
      "Marital_Divorced                              0.0          1      0.397065   \n",
      "Marital_Never Married                         0.0          1      0.398815   \n",
      "Marital_Separated                             0.0          1      0.399042   \n",
      "Stroke_numeric                                0.0          1      0.399494   \n",
      "Marital_Married                               0.0          1      0.401735   \n",
      "Marital_Widowed                               0.0          1      0.403356   \n",
      "Children                                      1.0       10.0      2.163659   \n",
      "Income                                   33768.42   207249.1  28521.153293   \n",
      "Complication_risk_Low                         0.0          1      0.409097   \n",
      "Initial_admin_Observation Admission           0.0          1      0.429276   \n",
      "Initial_admin_Elective Admission              0.0          1      0.433265   \n",
      "Soft_drink_numeric                            0.0          1      0.437279   \n",
      "Diabetes_numeric                              0.0          1       0.44593   \n",
      "Full_meals_eaten                              1.0          7      1.008117   \n",
      "Asthma_numeric                                0.0          1       0.45346   \n",
      "Additional_charges                   11573.977735   30566.07   6542.601544   \n",
      "Services_Intravenous                          0.0          1      0.463738   \n",
      "Complication_risk_High                        0.0          1      0.472293   \n",
      "Hyperlipidemia_numeric                        0.0          1      0.472777   \n",
      "Arthritis_numeric                             0.0          1      0.479258   \n",
      "ReAdmis_numeric                               0.0          1      0.481983   \n",
      "Allergic_rhinitis_numeric                     0.0          1      0.488681   \n",
      "HighBlood_numeric                             0.0          1      0.491674   \n",
      "BackPain_numeric                              0.0          1      0.492112   \n",
      "Reflux_esophagitis_numeric                    0.0          1      0.492486   \n",
      "Complication_risk_Medium                      0.0          1      0.497687   \n",
      "Gender_Male                                   0.0          1      0.499486   \n",
      "Initial_days                            35.836244   71.98149     26.309341   \n",
      "TotalCharge                              5213.952   9180.728   2180.393838   \n",
      "VitD_levels                             17.951122  26.394449      2.017231   \n",
      "Age                                          53.0       89.0     20.638538   \n",
      "Gender_Female                                 1.0          1      0.500022   \n",
      "Doc_visits                                    5.0          9      1.045734   \n",
      "Initial_admin_Emergency Admission             1.0          1      0.499989   \n",
      "Services_Blood Work                           1.0          1      0.499322   \n",
      "ReAdmis                                         -          -             -   \n",
      "Soft_drink                                      -          -             -   \n",
      "HighBlood                                       -          -             -   \n",
      "Stroke                                          -          -             -   \n",
      "Overweight                                      -          -             -   \n",
      "Arthritis                                       -          -             -   \n",
      "Diabetes                                        -          -             -   \n",
      "Hyperlipidemia                                  -          -             -   \n",
      "BackPain                                        -          -             -   \n",
      "Anxiety                                         -          -             -   \n",
      "Allergic_rhinitis                               -          -             -   \n",
      "Reflux_esophagitis                              -          -             -   \n",
      "Asthma                                          -          -             -   \n",
      "\n",
      "                                         Skew       Kurt  \n",
      "Gender_Nonbinary                     6.615434  41.772323  \n",
      "Services_MRI                         4.833456  21.366572  \n",
      "Services_CT Scan                     2.303141   3.305119  \n",
      "vitD_supp                            1.550205   2.330763  \n",
      "Marital_Divorced                     1.531038   0.344147  \n",
      "Marital_Never Married                1.512784   0.288572  \n",
      "Marital_Separated                     1.51042   0.281425  \n",
      "Stroke_numeric                       1.505705   0.267202  \n",
      "Marital_Married                      1.482369   0.197456  \n",
      "Marital_Widowed                        1.4655    0.14772  \n",
      "Children                             1.448013   2.076321  \n",
      "Income                               1.405899    2.74569  \n",
      "Complication_risk_Low                1.405815  -0.023688  \n",
      "Initial_admin_Observation Admission   1.19481  -0.572544  \n",
      "Initial_admin_Elective Admission     1.152412  -0.672081  \n",
      "Soft_drink_numeric                   1.109354  -0.769488  \n",
      "Diabetes_numeric                     1.014712  -0.970553  \n",
      "Full_meals_eaten                     1.009461   1.042727  \n",
      "Asthma_numeric                       0.929485  -1.136285  \n",
      "Additional_charges                   0.831842  -0.142684  \n",
      "Services_Intravenous                 0.806652  -1.349583  \n",
      "Complication_risk_High                0.69547  -1.516625  \n",
      "Hyperlipidemia_numeric               0.688834  -1.525813  \n",
      "Arthritis_numeric                    0.595206  -1.646059  \n",
      "ReAdmis_numeric                      0.552412   -1.69518  \n",
      "Allergic_rhinitis_numeric            0.433498  -1.812442  \n",
      "HighBlood_numeric                    0.370238  -1.863296  \n",
      "BackPain_numeric                     0.360153  -1.870664  \n",
      "Reflux_esophagitis_numeric            0.35135  -1.876929  \n",
      "Complication_risk_Medium             0.194137  -1.962703  \n",
      "Gender_Male                          0.092914  -1.991765  \n",
      "Initial_days                         0.070286  -1.754525  \n",
      "TotalCharge                          0.069661  -1.668267  \n",
      "VitD_levels                          0.032435  -0.022112  \n",
      "Age                                  0.005117  -1.189527  \n",
      "Gender_Female                       -0.007201  -2.000348  \n",
      "Doc_visits                          -0.018563   0.025999  \n",
      "Initial_admin_Emergency Admission   -0.024005  -1.999824  \n",
      "Services_Blood Work                 -0.106165  -1.989127  \n",
      "ReAdmis                                     -          -  \n",
      "Soft_drink                                  -          -  \n",
      "HighBlood                                   -          -  \n",
      "Stroke                                      -          -  \n",
      "Overweight                                  -          -  \n",
      "Arthritis                                   -          -  \n",
      "Diabetes                                    -          -  \n",
      "Hyperlipidemia                              -          -  \n",
      "BackPain                                    -          -  \n",
      "Anxiety                                     -          -  \n",
      "Allergic_rhinitis                           -          -  \n",
      "Reflux_esophagitis                          -          -  \n",
      "Asthma                                      -          -  \n"
     ]
    }
   ],
   "source": [
    "##Univariate Stats Dataframe\n",
    "def unistats(df):\n",
    "    output_df = pd.DataFrame(columns=['Count', 'Missing', 'Unique', 'Dtype', 'Numeric', 'Mean', 'Mode', 'Min', 'Median', 'Max', 'Std', 'Skew', 'Kurt'])\n",
    "    \n",
    "    for col in df:\n",
    "        if pd.api.types.is_numeric_dtype(df[col]):\n",
    "            output_df.loc[col] = [df[col].count(), df[col].isnull().sum(), df[col].nunique(), df[col].dtype, pd.api.types.is_numeric_dtype(df[col]), df[col].mean(), df[col].mode().values[0], df[col].min(), df[col].median(), df[col].max(), df[col].std(), df[col].skew(), df[col].kurtosis()]\n",
    "        else:\n",
    "            output_df.loc[col] = [df[col].count(), df[col].isnull().sum(), df[col].nunique(), df[col].dtype, pd.api.types.is_numeric_dtype(df[col]), '-', '-', '-', '-', '-', '-', '-', '-']\n",
    "    return output_df.sort_values(by=['Numeric', 'Skew', 'Unique'], ascending=False)\n",
    "\n",
    "print(unistats(df))"
   ]
  },
  {
   "cell_type": "code",
   "execution_count": 8,
   "id": "787af608",
   "metadata": {
    "scrolled": false
   },
   "outputs": [
    {
     "data": {
      "image/png": "[encoded data removed]",
      "text/plain": [
       "<Figure size 432x288 with 1 Axes>"
      ]
     },
     "metadata": {
      "needs_background": "light"
     },
     "output_type": "display_data"
    },
    {
     "data": {
      "image/png": "[encoded data removed]",
      "text/plain": [
       "<Figure size 432x288 with 1 Axes>"
      ]
     },
     "metadata": {
      "needs_background": "light"
     },
     "output_type": "display_data"
    },
    {
     "data": {
      "image/png": "[encoded data removed]",
      "text/plain": [
       "<Figure size 432x288 with 1 Axes>"
      ]
     },
     "metadata": {
      "needs_background": "light"
     },
     "output_type": "display_data"
    },
    {
     "data": {
      "image/png": "[encoded data removed]",
      "text/plain": [
       "<Figure size 432x288 with 1 Axes>"
      ]
     },
     "metadata": {
      "needs_background": "light"
     },
     "output_type": "display_data"
    },
    {
     "data": {
      "image/png": "[encoded data removed]",
      "text/plain": [
       "<Figure size 432x288 with 1 Axes>"
      ]
     },
     "metadata": {
      "needs_background": "light"
     },
     "output_type": "display_data"
    },
    {
     "data": {
      "image/png": "[encoded data removed]",
      "text/plain": [
       "<Figure size 432x288 with 1 Axes>"
      ]
     },
     "metadata": {
      "needs_background": "light"
     },
     "output_type": "display_data"
    },
    {
     "data": {
      "image/png": "[encoded data removed]",
      "text/plain": [
       "<Figure size 432x288 with 1 Axes>"
      ]
     },
     "metadata": {
      "needs_background": "light"
     },
     "output_type": "display_data"
    },
    {
     "data": {
      "image/png": "[encoded data removed]",
      "text/plain": [
       "<Figure size 432x288 with 1 Axes>"
      ]
     },
     "metadata": {
      "needs_background": "light"
     },
     "output_type": "display_data"
    },
    {
     "data": {
      "image/png": "[encoded data removed]",
      "text/plain": [
       "<Figure size 432x288 with 1 Axes>"
      ]
     },
     "metadata": {
      "needs_background": "light"
     },
     "output_type": "display_data"
    },
    {
     "data": {
      "image/png": "[encoded data removed]",
      "text/plain": [
       "<Figure size 432x288 with 1 Axes>"
      ]
     },
     "metadata": {
      "needs_background": "light"
     },
     "output_type": "display_data"
    }
   ],
   "source": [
    "#Univariate Visualization\n",
    "plt.hist(df.Initial_days)\n",
    "plt.xlabel('Total Days')\n",
    "plt.ylabel('Number of Patients')\n",
    "plt.title('Initial_days')\n",
    "plt.show()\n",
    "\n",
    "plt.hist(df.vitD_supp)\n",
    "plt.xlabel('# of Vit D Administered')\n",
    "plt.ylabel('Number of Patients')\n",
    "plt.title('vitd_supp')\n",
    "plt.show()\n",
    "\n",
    "plt.hist(df.Children)\n",
    "plt.xlabel('# of Children')\n",
    "plt.ylabel('Number of Patients')\n",
    "plt.title('# of children')\n",
    "plt.show()\n",
    "\n",
    "plt.hist(df.Income)\n",
    "plt.xlabel('Yearly Income')\n",
    "plt.ylabel('Number of Patients')\n",
    "plt.title('Yearly Income')\n",
    "plt.show()\n",
    "\n",
    "plt.hist(df.Full_meals_eaten)\n",
    "plt.xlabel('Full_meals_eaten')\n",
    "plt.ylabel('Number of Patients')\n",
    "plt.title('Full Meals Eaten')\n",
    "plt.show()\n",
    "\n",
    "plt.hist(df.Additional_charges)\n",
    "plt.xlabel('Additional Charges')\n",
    "plt.ylabel('Number of Patients')\n",
    "plt.title('Additional Charges')\n",
    "plt.show()\n",
    "\n",
    "plt.hist(df.TotalCharge)\n",
    "plt.xlabel('Total Charges')\n",
    "plt.ylabel('Number of Patients')\n",
    "plt.title('Total Charges')\n",
    "plt.show()\n",
    "\n",
    "plt.hist(df.VitD_levels)\n",
    "plt.xlabel('VitD Levels')\n",
    "plt.ylabel('Number of Patients')\n",
    "plt.title('VitD Levels')\n",
    "plt.show()\n",
    "\n",
    "plt.hist(df.Age)\n",
    "plt.xlabel('Age')\n",
    "plt.ylabel('Number of Patients')\n",
    "plt.title('Age')\n",
    "plt.show()\n",
    "\n",
    "plt.hist(df.Doc_visits)\n",
    "plt.xlabel('Doctor Visits')\n",
    "plt.ylabel('Number of Patients')\n",
    "plt.title('Doctor Visits')\n",
    "plt.show()\n"
   ]
  },
  {
   "cell_type": "code",
   "execution_count": 9,
   "id": "1ff66601",
   "metadata": {
    "scrolled": true
   },
   "outputs": [
    {
     "data": {
      "image/png": "[encoded data removed]",
      "text/plain": [
       "<Figure size 432x288 with 1 Axes>"
      ]
     },
     "metadata": {
      "needs_background": "light"
     },
     "output_type": "display_data"
    },
    {
     "data": {
      "image/png": "[encoded data removed]",
      "text/plain": [
       "<Figure size 432x288 with 1 Axes>"
      ]
     },
     "metadata": {
      "needs_background": "light"
     },
     "output_type": "display_data"
    },
    {
     "data": {
      "image/png": "[encoded data removed]",
      "text/plain": [
       "<Figure size 432x288 with 1 Axes>"
      ]
     },
     "metadata": {
      "needs_background": "light"
     },
     "output_type": "display_data"
    }
   ],
   "source": [
    "#Bivariate Visualization\n",
    "\n",
    "sns.regplot(x=\"Initial_days\",\n",
    "               y=\"TotalCharge\",\n",
    "               data=df,\n",
    "               ci=None)\n",
    "\n",
    "plt.show()\n",
    "\n",
    "sns.scatterplot(x=\"Initial_days\",\n",
    "               y=\"TotalCharge\",\n",
    "               data=df)\n",
    "\n",
    "plt.show()\n",
    "\n",
    "sns.regplot(x=\"ReAdmis_numeric\",\n",
    "               y=\"Initial_days\",\n",
    "               data=df,\n",
    "               ci=None,\n",
    "               scatter_kws={'alpha': 0.5})\n",
    "\n",
    "plt.show()"
   ]
  },
  {
   "cell_type": "code",
   "execution_count": 10,
   "id": "c035391a",
   "metadata": {
    "scrolled": true
   },
   "outputs": [
    {
     "name": "stdout",
     "output_type": "stream",
     "text": [
      "With Intercept: Intercept       2491.973570\n",
      "Initial_days      81.850956\n",
      "dtype: float64\n",
      "Without intercept: Initial_days    127.539572\n",
      "dtype: float64\n"
     ]
    }
   ],
   "source": [
    "##Model with intercept\n",
    "mdl_readmis_initial = ols(\"TotalCharge ~ Initial_days\",\n",
    "                             data=df).fit()\n",
    "\n",
    "print(\"With Intercept:\", mdl_readmis_initial.params)\n",
    "\n",
    "##Model without intercept\n",
    "\n",
    "mdl_readmis_initial = ols(\"TotalCharge ~ Initial_days + 0\",\n",
    "                             data=df).fit()\n",
    "\n",
    "print(\"Without intercept:\", mdl_readmis_initial.params)"
   ]
  },
  {
   "cell_type": "code",
   "execution_count": 11,
   "id": "9b476e9d",
   "metadata": {
    "scrolled": true
   },
   "outputs": [
    {
     "ename": "ValueError",
     "evalue": "Could not interpret value `Initial_admin` for parameter `col`",
     "output_type": "error",
     "traceback": [
      "\u001b[1;31m---------------------------------------------------------------------------\u001b[0m",
      "\u001b[1;31mValueError\u001b[0m                                Traceback (most recent call last)",
      "Input \u001b[1;32mIn [11]\u001b[0m, in \u001b[0;36m<cell line: 1>\u001b[1;34m()\u001b[0m\n\u001b[1;32m----> 1\u001b[0m \u001b[43msns\u001b[49m\u001b[38;5;241;43m.\u001b[39;49m\u001b[43mdisplot\u001b[49m\u001b[43m(\u001b[49m\u001b[43mdata\u001b[49m\u001b[38;5;241;43m=\u001b[39;49m\u001b[43mdf\u001b[49m\u001b[43m,\u001b[49m\n\u001b[0;32m      2\u001b[0m \u001b[43m           \u001b[49m\u001b[43mx\u001b[49m\u001b[38;5;241;43m=\u001b[39;49m\u001b[38;5;124;43m\"\u001b[39;49m\u001b[38;5;124;43mInitial_days\u001b[39;49m\u001b[38;5;124;43m\"\u001b[39;49m\u001b[43m,\u001b[49m\n\u001b[0;32m      3\u001b[0m \u001b[43m            \u001b[49m\u001b[43mcol\u001b[49m\u001b[38;5;241;43m=\u001b[39;49m\u001b[38;5;124;43m\"\u001b[39;49m\u001b[38;5;124;43mInitial_admin\u001b[39;49m\u001b[38;5;124;43m\"\u001b[39;49m\u001b[43m,\u001b[49m\n\u001b[0;32m      4\u001b[0m \u001b[43m           \u001b[49m\u001b[43mcol_wrap\u001b[49m\u001b[38;5;241;43m=\u001b[39;49m\u001b[38;5;241;43m2\u001b[39;49m\u001b[43m,\u001b[49m\n\u001b[0;32m      5\u001b[0m \u001b[43m           \u001b[49m\u001b[43mbins\u001b[49m\u001b[38;5;241;43m=\u001b[39;49m\u001b[38;5;241;43m20\u001b[39;49m\u001b[43m)\u001b[49m\n\u001b[0;32m      7\u001b[0m plt\u001b[38;5;241m.\u001b[39mshow()\n",
      "File \u001b[1;32m~\\anaconda3\\lib\\site-packages\\seaborn\\distributions.py:2194\u001b[0m, in \u001b[0;36mdisplot\u001b[1;34m(data, x, y, hue, row, col, weights, kind, rug, rug_kws, log_scale, legend, palette, hue_order, hue_norm, color, col_wrap, row_order, col_order, height, aspect, facet_kws, **kwargs)\u001b[0m\n\u001b[0;32m   2180\u001b[0m \u001b[38;5;28;01mdef\u001b[39;00m \u001b[38;5;21mdisplot\u001b[39m(\n\u001b[0;32m   2181\u001b[0m     data\u001b[38;5;241m=\u001b[39m\u001b[38;5;28;01mNone\u001b[39;00m, \u001b[38;5;241m*\u001b[39m,\n\u001b[0;32m   2182\u001b[0m     \u001b[38;5;66;03m# Vector variables\u001b[39;00m\n\u001b[1;32m   (...)\u001b[0m\n\u001b[0;32m   2191\u001b[0m     \u001b[38;5;241m*\u001b[39m\u001b[38;5;241m*\u001b[39mkwargs,\n\u001b[0;32m   2192\u001b[0m ):\n\u001b[1;32m-> 2194\u001b[0m     p \u001b[38;5;241m=\u001b[39m \u001b[43m_DistributionFacetPlotter\u001b[49m\u001b[43m(\u001b[49m\n\u001b[0;32m   2195\u001b[0m \u001b[43m        \u001b[49m\u001b[43mdata\u001b[49m\u001b[38;5;241;43m=\u001b[39;49m\u001b[43mdata\u001b[49m\u001b[43m,\u001b[49m\n\u001b[0;32m   2196\u001b[0m \u001b[43m        \u001b[49m\u001b[43mvariables\u001b[49m\u001b[38;5;241;43m=\u001b[39;49m\u001b[43m_DistributionFacetPlotter\u001b[49m\u001b[38;5;241;43m.\u001b[39;49m\u001b[43mget_semantics\u001b[49m\u001b[43m(\u001b[49m\u001b[38;5;28;43mlocals\u001b[39;49m\u001b[43m(\u001b[49m\u001b[43m)\u001b[49m\u001b[43m)\u001b[49m\n\u001b[0;32m   2197\u001b[0m \u001b[43m    \u001b[49m\u001b[43m)\u001b[49m\n\u001b[0;32m   2199\u001b[0m     p\u001b[38;5;241m.\u001b[39mmap_hue(palette\u001b[38;5;241m=\u001b[39mpalette, order\u001b[38;5;241m=\u001b[39mhue_order, norm\u001b[38;5;241m=\u001b[39mhue_norm)\n\u001b[0;32m   2201\u001b[0m     _check_argument(\u001b[38;5;124m\"\u001b[39m\u001b[38;5;124mkind\u001b[39m\u001b[38;5;124m\"\u001b[39m, [\u001b[38;5;124m\"\u001b[39m\u001b[38;5;124mhist\u001b[39m\u001b[38;5;124m\"\u001b[39m, \u001b[38;5;124m\"\u001b[39m\u001b[38;5;124mkde\u001b[39m\u001b[38;5;124m\"\u001b[39m, \u001b[38;5;124m\"\u001b[39m\u001b[38;5;124mecdf\u001b[39m\u001b[38;5;124m\"\u001b[39m], kind)\n",
      "File \u001b[1;32m~\\anaconda3\\lib\\site-packages\\seaborn\\distributions.py:111\u001b[0m, in \u001b[0;36m_DistributionPlotter.__init__\u001b[1;34m(self, data, variables)\u001b[0m\n\u001b[0;32m    105\u001b[0m \u001b[38;5;28;01mdef\u001b[39;00m \u001b[38;5;21m__init__\u001b[39m(\n\u001b[0;32m    106\u001b[0m     \u001b[38;5;28mself\u001b[39m,\n\u001b[0;32m    107\u001b[0m     data\u001b[38;5;241m=\u001b[39m\u001b[38;5;28;01mNone\u001b[39;00m,\n\u001b[0;32m    108\u001b[0m     variables\u001b[38;5;241m=\u001b[39m{},\n\u001b[0;32m    109\u001b[0m ):\n\u001b[1;32m--> 111\u001b[0m     \u001b[38;5;28;43msuper\u001b[39;49m\u001b[43m(\u001b[49m\u001b[43m)\u001b[49m\u001b[38;5;241;43m.\u001b[39;49m\u001b[38;5;21;43m__init__\u001b[39;49m\u001b[43m(\u001b[49m\u001b[43mdata\u001b[49m\u001b[38;5;241;43m=\u001b[39;49m\u001b[43mdata\u001b[49m\u001b[43m,\u001b[49m\u001b[43m \u001b[49m\u001b[43mvariables\u001b[49m\u001b[38;5;241;43m=\u001b[39;49m\u001b[43mvariables\u001b[49m\u001b[43m)\u001b[49m\n",
      "File \u001b[1;32m~\\anaconda3\\lib\\site-packages\\seaborn\\_core.py:605\u001b[0m, in \u001b[0;36mVectorPlotter.__init__\u001b[1;34m(self, data, variables)\u001b[0m\n\u001b[0;32m    603\u001b[0m \u001b[38;5;28;01mdef\u001b[39;00m \u001b[38;5;21m__init__\u001b[39m(\u001b[38;5;28mself\u001b[39m, data\u001b[38;5;241m=\u001b[39m\u001b[38;5;28;01mNone\u001b[39;00m, variables\u001b[38;5;241m=\u001b[39m{}):\n\u001b[1;32m--> 605\u001b[0m     \u001b[38;5;28;43mself\u001b[39;49m\u001b[38;5;241;43m.\u001b[39;49m\u001b[43massign_variables\u001b[49m\u001b[43m(\u001b[49m\u001b[43mdata\u001b[49m\u001b[43m,\u001b[49m\u001b[43m \u001b[49m\u001b[43mvariables\u001b[49m\u001b[43m)\u001b[49m\n\u001b[0;32m    607\u001b[0m     \u001b[38;5;28;01mfor\u001b[39;00m var, \u001b[38;5;28mcls\u001b[39m \u001b[38;5;129;01min\u001b[39;00m \u001b[38;5;28mself\u001b[39m\u001b[38;5;241m.\u001b[39m_semantic_mappings\u001b[38;5;241m.\u001b[39mitems():\n\u001b[0;32m    608\u001b[0m \n\u001b[0;32m    609\u001b[0m         \u001b[38;5;66;03m# Create the mapping function\u001b[39;00m\n\u001b[0;32m    610\u001b[0m         map_func \u001b[38;5;241m=\u001b[39m partial(\u001b[38;5;28mcls\u001b[39m\u001b[38;5;241m.\u001b[39mmap, plotter\u001b[38;5;241m=\u001b[39m\u001b[38;5;28mself\u001b[39m)\n",
      "File \u001b[1;32m~\\anaconda3\\lib\\site-packages\\seaborn\\_core.py:668\u001b[0m, in \u001b[0;36mVectorPlotter.assign_variables\u001b[1;34m(self, data, variables)\u001b[0m\n\u001b[0;32m    666\u001b[0m \u001b[38;5;28;01melse\u001b[39;00m:\n\u001b[0;32m    667\u001b[0m     \u001b[38;5;28mself\u001b[39m\u001b[38;5;241m.\u001b[39minput_format \u001b[38;5;241m=\u001b[39m \u001b[38;5;124m\"\u001b[39m\u001b[38;5;124mlong\u001b[39m\u001b[38;5;124m\"\u001b[39m\n\u001b[1;32m--> 668\u001b[0m     plot_data, variables \u001b[38;5;241m=\u001b[39m \u001b[38;5;28mself\u001b[39m\u001b[38;5;241m.\u001b[39m_assign_variables_longform(\n\u001b[0;32m    669\u001b[0m         data, \u001b[38;5;241m*\u001b[39m\u001b[38;5;241m*\u001b[39mvariables,\n\u001b[0;32m    670\u001b[0m     )\n\u001b[0;32m    672\u001b[0m \u001b[38;5;28mself\u001b[39m\u001b[38;5;241m.\u001b[39mplot_data \u001b[38;5;241m=\u001b[39m plot_data\n\u001b[0;32m    673\u001b[0m \u001b[38;5;28mself\u001b[39m\u001b[38;5;241m.\u001b[39mvariables \u001b[38;5;241m=\u001b[39m variables\n",
      "File \u001b[1;32m~\\anaconda3\\lib\\site-packages\\seaborn\\_core.py:903\u001b[0m, in \u001b[0;36mVectorPlotter._assign_variables_longform\u001b[1;34m(self, data, **kwargs)\u001b[0m\n\u001b[0;32m    898\u001b[0m \u001b[38;5;28;01melif\u001b[39;00m \u001b[38;5;28misinstance\u001b[39m(val, (\u001b[38;5;28mstr\u001b[39m, \u001b[38;5;28mbytes\u001b[39m)):\n\u001b[0;32m    899\u001b[0m \n\u001b[0;32m    900\u001b[0m     \u001b[38;5;66;03m# This looks like a column name but we don't know what it means!\u001b[39;00m\n\u001b[0;32m    902\u001b[0m     err \u001b[38;5;241m=\u001b[39m \u001b[38;5;124mf\u001b[39m\u001b[38;5;124m\"\u001b[39m\u001b[38;5;124mCould not interpret value `\u001b[39m\u001b[38;5;132;01m{\u001b[39;00mval\u001b[38;5;132;01m}\u001b[39;00m\u001b[38;5;124m` for parameter `\u001b[39m\u001b[38;5;132;01m{\u001b[39;00mkey\u001b[38;5;132;01m}\u001b[39;00m\u001b[38;5;124m`\u001b[39m\u001b[38;5;124m\"\u001b[39m\n\u001b[1;32m--> 903\u001b[0m     \u001b[38;5;28;01mraise\u001b[39;00m \u001b[38;5;167;01mValueError\u001b[39;00m(err)\n\u001b[0;32m    905\u001b[0m \u001b[38;5;28;01melse\u001b[39;00m:\n\u001b[0;32m    906\u001b[0m \n\u001b[0;32m    907\u001b[0m     \u001b[38;5;66;03m# Otherwise, assume the value is itself data\u001b[39;00m\n\u001b[0;32m    908\u001b[0m \n\u001b[0;32m    909\u001b[0m     \u001b[38;5;66;03m# Raise when data object is present and a vector can't matched\u001b[39;00m\n\u001b[0;32m    910\u001b[0m     \u001b[38;5;28;01mif\u001b[39;00m \u001b[38;5;28misinstance\u001b[39m(data, pd\u001b[38;5;241m.\u001b[39mDataFrame) \u001b[38;5;129;01mand\u001b[39;00m \u001b[38;5;129;01mnot\u001b[39;00m \u001b[38;5;28misinstance\u001b[39m(val, pd\u001b[38;5;241m.\u001b[39mSeries):\n",
      "\u001b[1;31mValueError\u001b[0m: Could not interpret value `Initial_admin` for parameter `col`"
     ]
    }
   ],
   "source": [
    "sns.displot(data=df,\n",
    "           x=\"Initial_days\",\n",
    "            col=\"Initial_admin\",\n",
    "           col_wrap=2,\n",
    "           bins=20)\n",
    "\n",
    "plt.show()"
   ]
  },
  {
   "cell_type": "code",
   "execution_count": 8,
   "id": "fabd839a",
   "metadata": {
    "scrolled": true
   },
   "outputs": [
    {
     "name": "stdout",
     "output_type": "stream",
     "text": [
      "Initial_admin\n",
      "Elective Admission       34.912302\n",
      "Emergency Admission      34.160300\n",
      "Observation Admission    34.598303\n",
      "Name: Initial_days, dtype: float64\n",
      "Age\n",
      "18    34.650309\n",
      "19    33.287151\n",
      "20    29.082485\n",
      "21    33.557021\n",
      "22    33.493792\n",
      "        ...    \n",
      "85    37.984800\n",
      "86    36.573228\n",
      "87    34.031725\n",
      "88    36.382057\n",
      "89    31.668322\n",
      "Name: Initial_days, Length: 72, dtype: float64\n"
     ]
    }
   ],
   "source": [
    "#Univariate Stats by group\n",
    "summary_stay = df.groupby(\"Initial_admin\")[\"Initial_days\"].mean()\n",
    "print(summary_stay)\n",
    "\n",
    "#More Univariate Stats by group\n",
    "summary_age = df.groupby(\"Age\")[\"Initial_days\"].mean()\n",
    "print(summary_age)"
   ]
  },
  {
   "cell_type": "code",
   "execution_count": 9,
   "id": "79b991eb",
   "metadata": {},
   "outputs": [
    {
     "name": "stdout",
     "output_type": "stream",
     "text": [
      "0         0.000000\n",
      "1       127.539572\n",
      "2       255.079144\n",
      "3       382.618715\n",
      "4       510.158287\n",
      "          ...     \n",
      "85    10840.863601\n",
      "86    10968.403173\n",
      "87    11095.942745\n",
      "88    11223.482317\n",
      "89    11351.021888\n",
      "Length: 90, dtype: float64\n"
     ]
    }
   ],
   "source": [
    "#Data on explanatory values to predict\n",
    "explanatory_data = pd.DataFrame({\"Initial_days\": np.arange(0,90)})\n",
    "print(mdl_readmis_initial.predict(explanatory_data))"
   ]
  },
  {
   "cell_type": "code",
   "execution_count": 10,
   "id": "5e48ce3d",
   "metadata": {},
   "outputs": [
    {
     "name": "stdout",
     "output_type": "stream",
     "text": [
      "    Initial_days   TotalCharge\n",
      "0              0      0.000000\n",
      "1              1    127.539572\n",
      "2              2    255.079144\n",
      "3              3    382.618715\n",
      "4              4    510.158287\n",
      "..           ...           ...\n",
      "86            86  10968.403173\n",
      "87            87  11095.942745\n",
      "88            88  11223.482317\n",
      "89            89  11351.021888\n",
      "90            90  11478.561460\n",
      "\n",
      "[91 rows x 2 columns]\n"
     ]
    }
   ],
   "source": [
    "#Predicting inside a DataFrame\n",
    "explanatory_data = pd.DataFrame(\n",
    "    {\"Initial_days\": np.arange(0,91)}\n",
    ")\n",
    "\n",
    "prediction_data = explanatory_data.assign(\n",
    "    TotalCharge=mdl_readmis_initial.predict(explanatory_data)\n",
    ")\n",
    "\n",
    "print(prediction_data)"
   ]
  },
  {
   "cell_type": "code",
   "execution_count": 11,
   "id": "c8214c5e",
   "metadata": {},
   "outputs": [
    {
     "ename": "NameError",
     "evalue": "name 'mdl_price_vs_conv' is not defined",
     "output_type": "error",
     "traceback": [
      "\u001b[1;31m---------------------------------------------------------------------------\u001b[0m",
      "\u001b[1;31mNameError\u001b[0m                                 Traceback (most recent call last)",
      "Input \u001b[1;32mIn [11]\u001b[0m, in \u001b[0;36m<cell line: 10>\u001b[1;34m()\u001b[0m\n\u001b[0;32m      7\u001b[0m explanatory_data \u001b[38;5;241m=\u001b[39m pd\u001b[38;5;241m.\u001b[39mDataFrame({\u001b[38;5;124m'\u001b[39m\u001b[38;5;124mn_convenience\u001b[39m\u001b[38;5;124m'\u001b[39m: np\u001b[38;5;241m.\u001b[39marange(\u001b[38;5;241m0\u001b[39m, \u001b[38;5;241m11\u001b[39m)})\n\u001b[0;32m      9\u001b[0m \u001b[38;5;66;03m# Use mdl_price_vs_conv to predict with explanatory_data, call it price_twd_msq\u001b[39;00m\n\u001b[1;32m---> 10\u001b[0m price_twd_msq \u001b[38;5;241m=\u001b[39m \u001b[43mmdl_price_vs_conv\u001b[49m\u001b[38;5;241m.\u001b[39mpredict(explanatory_data)\n\u001b[0;32m     12\u001b[0m \u001b[38;5;66;03m# Print it\u001b[39;00m\n\u001b[0;32m     13\u001b[0m \u001b[38;5;28mprint\u001b[39m(price_twd_msq)\n",
      "\u001b[1;31mNameError\u001b[0m: name 'mdl_price_vs_conv' is not defined"
     ]
    }
   ],
   "source": [
    "#More Predictions\n",
    "\n",
    "# Import numpy and alias it np\n",
    "import numpy as np\n",
    "\n",
    "# Create explanatory_data \n",
    "explanatory_data = pd.DataFrame({'n_convenience': np.arange(0, 11)})\n",
    "\n",
    "# Use mdl_price_vs_conv to predict with explanatory_data, call it price_twd_msq\n",
    "price_twd_msq = mdl_price_vs_conv.predict(explanatory_data)\n",
    "\n",
    "# Print it\n",
    "print(price_twd_msq)"
   ]
  },
  {
   "cell_type": "code",
   "execution_count": 12,
   "id": "41c803e4",
   "metadata": {},
   "outputs": [
    {
     "ename": "NameError",
     "evalue": "name 'mdl_price_vs_conv' is not defined",
     "output_type": "error",
     "traceback": [
      "\u001b[1;31m---------------------------------------------------------------------------\u001b[0m",
      "\u001b[1;31mNameError\u001b[0m                                 Traceback (most recent call last)",
      "Input \u001b[1;32mIn [12]\u001b[0m, in \u001b[0;36m<cell line: 10>\u001b[1;34m()\u001b[0m\n\u001b[0;32m      7\u001b[0m explanatory_data \u001b[38;5;241m=\u001b[39m pd\u001b[38;5;241m.\u001b[39mDataFrame({\u001b[38;5;124m'\u001b[39m\u001b[38;5;124mn_convenience\u001b[39m\u001b[38;5;124m'\u001b[39m: np\u001b[38;5;241m.\u001b[39marange(\u001b[38;5;241m0\u001b[39m, \u001b[38;5;241m11\u001b[39m)})\n\u001b[0;32m      9\u001b[0m \u001b[38;5;66;03m# Use mdl_price_vs_conv to predict with explanatory_data, call it price_twd_msq\u001b[39;00m\n\u001b[1;32m---> 10\u001b[0m price_twd_msq \u001b[38;5;241m=\u001b[39m \u001b[43mmdl_price_vs_conv\u001b[49m\u001b[38;5;241m.\u001b[39mpredict(explanatory_data)\n\u001b[0;32m     12\u001b[0m \u001b[38;5;66;03m# Create prediction_data\u001b[39;00m\n\u001b[0;32m     13\u001b[0m prediction_data \u001b[38;5;241m=\u001b[39m explanatory_data\u001b[38;5;241m.\u001b[39massign(\n\u001b[0;32m     14\u001b[0m     price_twd_msq \u001b[38;5;241m=\u001b[39m mdl_price_vs_conv\u001b[38;5;241m.\u001b[39mpredict(explanatory_data))\n",
      "\u001b[1;31mNameError\u001b[0m: name 'mdl_price_vs_conv' is not defined"
     ]
    }
   ],
   "source": [
    "#More predictions with a second column of predictions\n",
    "\n",
    "# Import numpy with alias np\n",
    "import numpy as np\n",
    "\n",
    "# Create explanatory_data \n",
    "explanatory_data = pd.DataFrame({'n_convenience': np.arange(0, 11)})\n",
    "\n",
    "# Use mdl_price_vs_conv to predict with explanatory_data, call it price_twd_msq\n",
    "price_twd_msq = mdl_price_vs_conv.predict(explanatory_data)\n",
    "\n",
    "# Create prediction_data\n",
    "prediction_data = explanatory_data.assign(\n",
    "    price_twd_msq = mdl_price_vs_conv.predict(explanatory_data))\n",
    "\n",
    "# Print the result\n",
    "print(prediction_data)"
   ]
  },
  {
   "cell_type": "code",
   "execution_count": 13,
   "id": "94ded576",
   "metadata": {},
   "outputs": [
    {
     "data": {
      "image/png": "[encoded data removed]",
      "text/plain": [
       "<Figure size 432x288 with 1 Axes>"
      ]
     },
     "metadata": {
      "needs_background": "light"
     },
     "output_type": "display_data"
    }
   ],
   "source": [
    "#Showing Predictions\n",
    "fig = plt.figure()\n",
    "sns.regplot(x=\"Initial_days\",\n",
    "            y=\"TotalCharge\",\n",
    "            ci=None,\n",
    "            data=df,)\n",
    "sns.scatterplot(x=\"Initial_days\",\n",
    "                y=\"TotalCharge\",\n",
    "               data=prediction_data,\n",
    "               color=\"red\",\n",
    "               marker=\"s\")\n",
    "\n",
    "plt.show()"
   ]
  },
  {
   "cell_type": "code",
   "execution_count": 14,
   "id": "0112beb5",
   "metadata": {},
   "outputs": [
    {
     "ename": "IndentationError",
     "evalue": "unexpected indent (3707494976.py, line 11)",
     "output_type": "error",
     "traceback": [
      "\u001b[1;36m  Input \u001b[1;32mIn [14]\u001b[1;36m\u001b[0m\n\u001b[1;33m    length_cm    mass_g\u001b[0m\n\u001b[1;37m    ^\u001b[0m\n\u001b[1;31mIndentationError\u001b[0m\u001b[1;31m:\u001b[0m unexpected indent\n"
     ]
    }
   ],
   "source": [
    "#Extrapolating: Making predictions outside the range of observed data\n",
    "\n",
    "little_bream = pd.DataFrame({\"length_cm\": [10]})\n",
    "\n",
    "pred_little_bream = little_bream.assign(\n",
    "    mass_g=mdl_mass_vs_length.predict(little.bream))\n",
    "\n",
    "print(pred_little_bream)\n",
    "\n",
    "#Output\n",
    "    length_cm    mass_g\n",
    "0          10   -489.847756\n",
    "\n",
    "#Not sensible to extrapolate this data"
   ]
  },
  {
   "cell_type": "code",
   "execution_count": 15,
   "id": "117dc3d9",
   "metadata": {},
   "outputs": [
    {
     "name": "stdout",
     "output_type": "stream",
     "text": [
      "0       1350.104536\n",
      "1       1929.617885\n",
      "2        608.641438\n",
      "3        218.714956\n",
      "4        160.037573\n",
      "           ...     \n",
      "9995    6576.095919\n",
      "9996    8757.917924\n",
      "9997    8947.434076\n",
      "9998    8080.511895\n",
      "9999    9036.253909\n",
      "Length: 10000, dtype: float64\n"
     ]
    }
   ],
   "source": [
    "#Fittedvalues: Predictions on the original dataset\n",
    "\n",
    "print(mdl_readmis_initial.fittedvalues)\n",
    "\n",
    "##equivalent to\n",
    "\n",
    "##explanatory_data = pd.DataFrame(\n",
    "##    {\"Initial_days\": np.arange(0,91)}\n",
    "##)\n",
    "\n",
    "##prediction_data = explanatory_data.assign(\n",
    "##    TotalCharge=mdl_readmis_initial.predict(explanatory_data)\n",
    "##)"
   ]
  },
  {
   "cell_type": "code",
   "execution_count": 16,
   "id": "e3ca7801",
   "metadata": {},
   "outputs": [
    {
     "name": "stdout",
     "output_type": "stream",
     "text": [
      "0       2376.598324\n",
      "1       2263.572573\n",
      "2       1825.592784\n",
      "3       1909.115467\n",
      "4       1953.035701\n",
      "           ...     \n",
      "9995     274.846081\n",
      "9996   -1016.227924\n",
      "9997    -670.953076\n",
      "9998    -436.028895\n",
      "9999   -1148.700909\n",
      "Length: 10000, dtype: float64\n"
     ]
    }
   ],
   "source": [
    "#Residuals: actual response values minus predicted response values\n",
    "\n",
    "print(mdl_readmis_initial.resid)"
   ]
  },
  {
   "cell_type": "code",
   "execution_count": 17,
   "id": "707b362b",
   "metadata": {},
   "outputs": [
    {
     "data": {
      "text/html": [
       "<table class=\"simpletable\">\n",
       "<caption>OLS Regression Results</caption>\n",
       "<tr>\n",
       "  <th>Dep. Variable:</th>       <td>TotalCharge</td>   <th>  R-squared (uncentered):</th>      <td>   0.927</td> \n",
       "</tr>\n",
       "<tr>\n",
       "  <th>Model:</th>                   <td>OLS</td>       <th>  Adj. R-squared (uncentered):</th> <td>   0.927</td> \n",
       "</tr>\n",
       "<tr>\n",
       "  <th>Method:</th>             <td>Least Squares</td>  <th>  F-statistic:       </th>          <td>1.272e+05</td>\n",
       "</tr>\n",
       "<tr>\n",
       "  <th>Date:</th>             <td>Sat, 22 Oct 2022</td> <th>  Prob (F-statistic):</th>           <td>  0.00</td>  \n",
       "</tr>\n",
       "<tr>\n",
       "  <th>Time:</th>                 <td>15:01:46</td>     <th>  Log-Likelihood:    </th>          <td> -87652.</td> \n",
       "</tr>\n",
       "<tr>\n",
       "  <th>No. Observations:</th>      <td> 10000</td>      <th>  AIC:               </th>          <td>1.753e+05</td>\n",
       "</tr>\n",
       "<tr>\n",
       "  <th>Df Residuals:</th>          <td>  9999</td>      <th>  BIC:               </th>          <td>1.753e+05</td>\n",
       "</tr>\n",
       "<tr>\n",
       "  <th>Df Model:</th>              <td>     1</td>      <th>                     </th>              <td> </td>    \n",
       "</tr>\n",
       "<tr>\n",
       "  <th>Covariance Type:</th>      <td>nonrobust</td>    <th>                     </th>              <td> </td>    \n",
       "</tr>\n",
       "</table>\n",
       "<table class=\"simpletable\">\n",
       "<tr>\n",
       "        <td></td>          <th>coef</th>     <th>std err</th>      <th>t</th>      <th>P>|t|</th>  <th>[0.025</th>    <th>0.975]</th>  \n",
       "</tr>\n",
       "<tr>\n",
       "  <th>Initial_days</th> <td>  127.5396</td> <td>    0.358</td> <td>  356.590</td> <td> 0.000</td> <td>  126.838</td> <td>  128.241</td>\n",
       "</tr>\n",
       "</table>\n",
       "<table class=\"simpletable\">\n",
       "<tr>\n",
       "  <th>Omnibus:</th>       <td>59750.137</td> <th>  Durbin-Watson:     </th> <td>   0.193</td> \n",
       "</tr>\n",
       "<tr>\n",
       "  <th>Prob(Omnibus):</th>  <td> 0.000</td>   <th>  Jarque-Bera (JB):  </th> <td> 953.369</td> \n",
       "</tr>\n",
       "<tr>\n",
       "  <th>Skew:</th>           <td>-0.058</td>   <th>  Prob(JB):          </th> <td>9.52e-208</td>\n",
       "</tr>\n",
       "<tr>\n",
       "  <th>Kurtosis:</th>       <td> 1.492</td>   <th>  Cond. No.          </th> <td>    1.00</td> \n",
       "</tr>\n",
       "</table><br/><br/>Notes:<br/>[1] R² is computed without centering (uncentered) since the model does not contain a constant.<br/>[2] Standard Errors assume that the covariance matrix of the errors is correctly specified."
      ],
      "text/plain": [
       "<class 'statsmodels.iolib.summary.Summary'>\n",
       "\"\"\"\n",
       "                                 OLS Regression Results                                \n",
       "=======================================================================================\n",
       "Dep. Variable:            TotalCharge   R-squared (uncentered):                   0.927\n",
       "Model:                            OLS   Adj. R-squared (uncentered):              0.927\n",
       "Method:                 Least Squares   F-statistic:                          1.272e+05\n",
       "Date:                Sat, 22 Oct 2022   Prob (F-statistic):                        0.00\n",
       "Time:                        15:01:46   Log-Likelihood:                         -87652.\n",
       "No. Observations:               10000   AIC:                                  1.753e+05\n",
       "Df Residuals:                    9999   BIC:                                  1.753e+05\n",
       "Df Model:                           1                                                  \n",
       "Covariance Type:            nonrobust                                                  \n",
       "================================================================================\n",
       "                   coef    std err          t      P>|t|      [0.025      0.975]\n",
       "--------------------------------------------------------------------------------\n",
       "Initial_days   127.5396      0.358    356.590      0.000     126.838     128.241\n",
       "==============================================================================\n",
       "Omnibus:                    59750.137   Durbin-Watson:                   0.193\n",
       "Prob(Omnibus):                  0.000   Jarque-Bera (JB):              953.369\n",
       "Skew:                          -0.058   Prob(JB):                    9.52e-208\n",
       "Kurtosis:                       1.492   Cond. No.                         1.00\n",
       "==============================================================================\n",
       "\n",
       "Notes:\n",
       "[1] R² is computed without centering (uncentered) since the model does not contain a constant.\n",
       "[2] Standard Errors assume that the covariance matrix of the errors is correctly specified.\n",
       "\"\"\""
      ]
     },
     "execution_count": 17,
     "metadata": {},
     "output_type": "execute_result"
    }
   ],
   "source": [
    "#Model summary\n",
    "mdl_readmis_initial.summary()"
   ]
  },
  {
   "cell_type": "code",
   "execution_count": 18,
   "id": "ff4274ac",
   "metadata": {},
   "outputs": [
    {
     "ename": "NameError",
     "evalue": "name 'mdl_price_vs_conv' is not defined",
     "output_type": "error",
     "traceback": [
      "\u001b[1;31m---------------------------------------------------------------------------\u001b[0m",
      "\u001b[1;31mNameError\u001b[0m                                 Traceback (most recent call last)",
      "Input \u001b[1;32mIn [18]\u001b[0m, in \u001b[0;36m<cell line: 4>\u001b[1;34m()\u001b[0m\n\u001b[0;32m      1\u001b[0m \u001b[38;5;66;03m#Manually predicting the y axis\u001b[39;00m\n\u001b[0;32m      2\u001b[0m \n\u001b[0;32m      3\u001b[0m \u001b[38;5;66;03m# Get the coefficients of mdl_price_vs_conv\u001b[39;00m\n\u001b[1;32m----> 4\u001b[0m coeffs \u001b[38;5;241m=\u001b[39m \u001b[43mmdl_price_vs_conv\u001b[49m\u001b[38;5;241m.\u001b[39mparams\n\u001b[0;32m      6\u001b[0m \u001b[38;5;66;03m#or\u001b[39;00m\n\u001b[0;32m      7\u001b[0m coeffs2 \u001b[38;5;241m=\u001b[39m mdl_price_vs_conv\u001b[38;5;241m.\u001b[39mrsquared\n",
      "\u001b[1;31mNameError\u001b[0m: name 'mdl_price_vs_conv' is not defined"
     ]
    }
   ],
   "source": [
    "#Manually predicting the y axis\n",
    "\n",
    "# Get the coefficients of mdl_price_vs_conv\n",
    "coeffs = mdl_price_vs_conv.params\n",
    "\n",
    "#or\n",
    "coeffs2 = mdl_price_vs_conv.rsquared\n",
    "\n",
    "# Get the intercept\n",
    "intercept = coeffs[0]\n",
    "\n",
    "# Get the slope\n",
    "slope = coeffs[1]\n",
    "\n",
    "# Manually calculate the predictions\n",
    "price_twd_msq = intercept + slope * explanatory_data\n",
    "print(price_twd_msq)\n",
    "\n",
    "# Compare to the results from .predict()\n",
    "print(price_twd_msq.assign(predictions_auto=mdl_price_vs_conv.predict(explanatory_data)))"
   ]
  },
  {
   "cell_type": "markdown",
   "id": "0f4bd2e3",
   "metadata": {},
   "source": [
    "Regression to the mean\n",
    "\n",
    "The concept\n",
    "- Response value = fitted value + residual (ie the amount your model missed by)\n",
    "- in other words \"the stuff you explained\" + \"the stuff you couldn't explain\"\n",
    "- Residuals exist due to problems in the model and fundamental randomness\n",
    "- Extreme cases are often due to randomness\n",
    "- Regression to the mean means extreme cases don't persist over time and will \"regress to the mean\"\n",
    "\n",
    "scatterplot with line where variables are equal\n",
    "\n",
    "fig = plt.figure()\n",
    "\n",
    "sns.scatterplot(x=\"xvar\",\n",
    "                y=\"yvar\",\n",
    "                data = df)\n",
    "                \n",
    "plt.axline(xy1=(150,150),  ##this argument determines intercept\n",
    "           slope=1,       \n",
    "           linewidth=2,\n",
    "           color=\"green\")\n",
    "           \n",
    "plt.axis(\"equal\") ##equalized data between variables\n",
    "plt.show()\n",
    "\n",
    "#adding a regression line\n",
    "\n",
    "fig = plt.figure()\n",
    "\n",
    "sns.regplot(x=\"xvar\",\n",
    "                y=\"yvar\",\n",
    "                data=\"df\",\n",
    "                ci = None,\n",
    "                line_kws={\"color\": \"black\"})\n",
    "                \n",
    "plt.axline(xy1=(150,150),  ##this argument determines intercept\n",
    "           slope=1,       \n",
    "           linewidth=2,\n",
    "           color=\"green\")\n",
    "           \n",
    "plt.axis(\"equal\") ##equalized data between variables\n",
    "plt.show()\n",
    "\n",
    "!!Plotting Mass vs Length Cubed\n",
    "\n",
    "perch[\"length_cm_cubed\"] = perch[\"length_cm\"] ** 3\n",
    "\n",
    "sns.regplot(x=\"length_cm_cubed\",\n",
    "            y=\"mass_g\",\n",
    "            data=perch,\n",
    "            ci=None)\n",
    "            \n",
    "plt.show()\n",
    "\n",
    "!!Modeling mass vs. length cubed\n",
    "\n",
    "perch[\"length_cm_cubed\"] = perch [\"length_cm\"] ** 3\n",
    "\n",
    "mdl_perch = ols(\"mass_g ~ length_cm_cubed\", data=perch).fit() ##RESPONSE (PREDICTING) VARIABLE ON LEFT-HAND SIDE VS EXPLANATORY VARIABLE ON RIGHT HAND SIDE\n",
    "mdl_perch.params\n",
    "\n",
    "\"price_twd_msq ~ sqrt_dist_to_mrt_m\"\n",
    "\n",
    "\n",
    "\n",
    "\n",
    "Output\n",
    "Intercept   -0.117478\n",
    "length_cm_cubed 0.016796\n",
    "dtype: float64\n",
    "\n",
    "!!Predicting mass vs. length cubed\n",
    "\n",
    "explanatory_data = pd.DataFrame ({\"length_cm_cubed\": np.arange(10, 41, 5) ** 3,\n",
    "                                  \"length_cm\": np.arange(10, 41, 5)})\n",
    "                                  \n",
    "prediction_data = explanatory_data.assign(\n",
    "    mass_g=mdl_perch.predict(explanatory_data))\n",
    "print(prediction_data)\n",
    "\n",
    "Output = array of predicitons for these ranges\n",
    "\n",
    "!!Plotting mass vs. length cubed\n",
    "\n",
    "fig = plt.figure()\n",
    "\n",
    "sns.regplot(x=\"length_cm_cubed\", y=\"mass_g\", data=perch,ci=None)\n",
    "sns.scatterplot(data=prediction_data, x=\"length_cm_cubed\", y=\"mass_g\", color=\"red\", marker=\"s\")\n",
    "\n",
    "!!Square Root vs Square Root when data has a right-skewed distribution\n",
    "\n",
    "ad_conversion[\"sqrt_spent_usd\"] = np.sqrt(ad_conversionp[\"spent_usd\"])\n",
    "\n",
    "ad_conversion[\"sqrt_n_impressions\"] = np.sqrt(ad_conversion[\"n_impressions\"])\n",
    "\n",
    "sns.regplot(x=\"sqrt_spent_usd\", y=\"sqrt_n_impressions, data=ad_conversion, ci=None)\n",
    "\n",
    "!!Modeling and Predicting\n",
    "\n",
    "mdl_ad = ols(\"sqrt_n_imporessions ~ sqrt_spent_usd\", data=ad_converison).fit()\n",
    "\n",
    "explanatory_data = pd.DataFrame({\"sqrt_spent_usd\": np.sqrt(np.arange(0, 601, 100)),\n",
    "                                    \"spent_usd\": np.arange(0, 601, 100)})\n",
    "                                    \n",
    "prediction_data = explanatory_data.assign(sqrt_n_impressions=mdl_ad.predict(explanatory_data), n_impressions = mdl_ad.predict(explanatory_data) **2)\n",
    "\n",
    "print(prediction_data)"
   ]
  },
  {
   "cell_type": "code",
   "execution_count": 19,
   "id": "85720ed2",
   "metadata": {},
   "outputs": [
    {
     "name": "stdout",
     "output_type": "stream",
     "text": [
      "mse: 2404052.038844395\n"
     ]
    }
   ],
   "source": [
    "#Mean Standard Error\n",
    "\n",
    "mse = mdl_readmis_initial.mse_resid\n",
    "print('mse:', mse)"
   ]
  },
  {
   "cell_type": "code",
   "execution_count": 20,
   "id": "a2938fb0",
   "metadata": {},
   "outputs": [
    {
     "name": "stdout",
     "output_type": "stream",
     "text": [
      "rse:  1550.5005768603876\n"
     ]
    }
   ],
   "source": [
    "#RSE = square root of mse\n",
    "rse = np.sqrt(mse)\n",
    "print(\"rse: \", rse)"
   ]
  },
  {
   "cell_type": "code",
   "execution_count": 21,
   "id": "71cddea3",
   "metadata": {},
   "outputs": [
    {
     "ename": "SyntaxError",
     "evalue": "invalid syntax (3798875475.py, line 13)",
     "output_type": "error",
     "traceback": [
      "\u001b[1;36m  Input \u001b[1;32mIn [21]\u001b[1;36m\u001b[0m\n\u001b[1;33m    The rse of 1550 shows that the predicted value and actual value had a difference of 1550\u001b[0m\n\u001b[1;37m        ^\u001b[0m\n\u001b[1;31mSyntaxError\u001b[0m\u001b[1;31m:\u001b[0m invalid syntax\n"
     ]
    }
   ],
   "source": [
    "#Calculating RSE\n",
    "\n",
    "residuals_sq = mdl_readmis_initial.resid ** 2\n",
    "\n",
    "resid_sum_sq = sum(residuals_sq)\n",
    "\n",
    "deg_freedom = len(df.index) - 2\n",
    "\n",
    "rse = np.sqrt(resid_sum_sq/deg_freedom)\n",
    "\n",
    "print(\"rse :\", rse)\n",
    "\n",
    "The rse of 1550 shows that the predicted value and actual value had a difference of 1550"
   ]
  },
  {
   "cell_type": "code",
   "execution_count": 22,
   "id": "1b7963f7",
   "metadata": {},
   "outputs": [
    {
     "ename": "KeyError",
     "evalue": "'ReAdmis_numeric'",
     "output_type": "error",
     "traceback": [
      "\u001b[1;31m---------------------------------------------------------------------------\u001b[0m",
      "\u001b[1;31mKeyError\u001b[0m                                  Traceback (most recent call last)",
      "File \u001b[1;32m~\\anaconda3\\lib\\site-packages\\pandas\\core\\indexes\\base.py:3621\u001b[0m, in \u001b[0;36mIndex.get_loc\u001b[1;34m(self, key, method, tolerance)\u001b[0m\n\u001b[0;32m   3620\u001b[0m \u001b[38;5;28;01mtry\u001b[39;00m:\n\u001b[1;32m-> 3621\u001b[0m     \u001b[38;5;28;01mreturn\u001b[39;00m \u001b[38;5;28;43mself\u001b[39;49m\u001b[38;5;241;43m.\u001b[39;49m\u001b[43m_engine\u001b[49m\u001b[38;5;241;43m.\u001b[39;49m\u001b[43mget_loc\u001b[49m\u001b[43m(\u001b[49m\u001b[43mcasted_key\u001b[49m\u001b[43m)\u001b[49m\n\u001b[0;32m   3622\u001b[0m \u001b[38;5;28;01mexcept\u001b[39;00m \u001b[38;5;167;01mKeyError\u001b[39;00m \u001b[38;5;28;01mas\u001b[39;00m err:\n",
      "File \u001b[1;32m~\\anaconda3\\lib\\site-packages\\pandas\\_libs\\index.pyx:136\u001b[0m, in \u001b[0;36mpandas._libs.index.IndexEngine.get_loc\u001b[1;34m()\u001b[0m\n",
      "File \u001b[1;32m~\\anaconda3\\lib\\site-packages\\pandas\\_libs\\index.pyx:163\u001b[0m, in \u001b[0;36mpandas._libs.index.IndexEngine.get_loc\u001b[1;34m()\u001b[0m\n",
      "File \u001b[1;32mpandas\\_libs\\hashtable_class_helper.pxi:5198\u001b[0m, in \u001b[0;36mpandas._libs.hashtable.PyObjectHashTable.get_item\u001b[1;34m()\u001b[0m\n",
      "File \u001b[1;32mpandas\\_libs\\hashtable_class_helper.pxi:5206\u001b[0m, in \u001b[0;36mpandas._libs.hashtable.PyObjectHashTable.get_item\u001b[1;34m()\u001b[0m\n",
      "\u001b[1;31mKeyError\u001b[0m: 'ReAdmis_numeric'",
      "\nThe above exception was the direct cause of the following exception:\n",
      "\u001b[1;31mKeyError\u001b[0m                                  Traceback (most recent call last)",
      "Input \u001b[1;32mIn [22]\u001b[0m, in \u001b[0;36m<cell line: 3>\u001b[1;34m()\u001b[0m\n\u001b[0;32m      1\u001b[0m \u001b[38;5;66;03m#Creating residual plot\u001b[39;00m\n\u001b[1;32m----> 3\u001b[0m \u001b[43msns\u001b[49m\u001b[38;5;241;43m.\u001b[39;49m\u001b[43mresidplot\u001b[49m\u001b[43m(\u001b[49m\u001b[43mx\u001b[49m\u001b[43m \u001b[49m\u001b[38;5;241;43m=\u001b[39;49m\u001b[43m \u001b[49m\u001b[38;5;124;43m\"\u001b[39;49m\u001b[38;5;124;43mReAdmis_numeric\u001b[39;49m\u001b[38;5;124;43m\"\u001b[39;49m\u001b[43m,\u001b[49m\u001b[43m \u001b[49m\u001b[43my\u001b[49m\u001b[38;5;241;43m=\u001b[39;49m\u001b[38;5;124;43m\"\u001b[39;49m\u001b[38;5;124;43mInitial_days\u001b[39;49m\u001b[38;5;124;43m\"\u001b[39;49m\u001b[43m,\u001b[49m\u001b[43m \u001b[49m\u001b[43mdata\u001b[49m\u001b[38;5;241;43m=\u001b[39;49m\u001b[43mdf\u001b[49m\u001b[43m,\u001b[49m\u001b[43m \u001b[49m\u001b[43mlowess\u001b[49m\u001b[38;5;241;43m=\u001b[39;49m\u001b[38;5;28;43;01mTrue\u001b[39;49;00m\u001b[43m)\u001b[49m\n\u001b[0;32m      4\u001b[0m plt\u001b[38;5;241m.\u001b[39mxlabel(\u001b[38;5;124m\"\u001b[39m\u001b[38;5;124mReAdmissions\u001b[39m\u001b[38;5;124m\"\u001b[39m)\n\u001b[0;32m      5\u001b[0m plt\u001b[38;5;241m.\u001b[39mylabel(\u001b[38;5;124m\"\u001b[39m\u001b[38;5;124mResiduals\u001b[39m\u001b[38;5;124m\"\u001b[39m)\n",
      "File \u001b[1;32m~\\anaconda3\\lib\\site-packages\\seaborn\\_decorators.py:46\u001b[0m, in \u001b[0;36m_deprecate_positional_args.<locals>.inner_f\u001b[1;34m(*args, **kwargs)\u001b[0m\n\u001b[0;32m     36\u001b[0m     warnings\u001b[38;5;241m.\u001b[39mwarn(\n\u001b[0;32m     37\u001b[0m         \u001b[38;5;124m\"\u001b[39m\u001b[38;5;124mPass the following variable\u001b[39m\u001b[38;5;132;01m{}\u001b[39;00m\u001b[38;5;124m as \u001b[39m\u001b[38;5;132;01m{}\u001b[39;00m\u001b[38;5;124mkeyword arg\u001b[39m\u001b[38;5;132;01m{}\u001b[39;00m\u001b[38;5;124m: \u001b[39m\u001b[38;5;132;01m{}\u001b[39;00m\u001b[38;5;124m. \u001b[39m\u001b[38;5;124m\"\u001b[39m\n\u001b[0;32m     38\u001b[0m         \u001b[38;5;124m\"\u001b[39m\u001b[38;5;124mFrom version 0.12, the only valid positional argument \u001b[39m\u001b[38;5;124m\"\u001b[39m\n\u001b[1;32m   (...)\u001b[0m\n\u001b[0;32m     43\u001b[0m         \u001b[38;5;167;01mFutureWarning\u001b[39;00m\n\u001b[0;32m     44\u001b[0m     )\n\u001b[0;32m     45\u001b[0m kwargs\u001b[38;5;241m.\u001b[39mupdate({k: arg \u001b[38;5;28;01mfor\u001b[39;00m k, arg \u001b[38;5;129;01min\u001b[39;00m \u001b[38;5;28mzip\u001b[39m(sig\u001b[38;5;241m.\u001b[39mparameters, args)})\n\u001b[1;32m---> 46\u001b[0m \u001b[38;5;28;01mreturn\u001b[39;00m f(\u001b[38;5;241m*\u001b[39m\u001b[38;5;241m*\u001b[39mkwargs)\n",
      "File \u001b[1;32m~\\anaconda3\\lib\\site-packages\\seaborn\\regression.py:1096\u001b[0m, in \u001b[0;36mresidplot\u001b[1;34m(x, y, data, lowess, x_partial, y_partial, order, robust, dropna, label, color, scatter_kws, line_kws, ax)\u001b[0m\n\u001b[0;32m   1036\u001b[0m \u001b[38;5;129m@_deprecate_positional_args\u001b[39m\n\u001b[0;32m   1037\u001b[0m \u001b[38;5;28;01mdef\u001b[39;00m \u001b[38;5;21mresidplot\u001b[39m(\n\u001b[0;32m   1038\u001b[0m     \u001b[38;5;241m*\u001b[39m,\n\u001b[1;32m   (...)\u001b[0m\n\u001b[0;32m   1043\u001b[0m     scatter_kws\u001b[38;5;241m=\u001b[39m\u001b[38;5;28;01mNone\u001b[39;00m, line_kws\u001b[38;5;241m=\u001b[39m\u001b[38;5;28;01mNone\u001b[39;00m, ax\u001b[38;5;241m=\u001b[39m\u001b[38;5;28;01mNone\u001b[39;00m\n\u001b[0;32m   1044\u001b[0m ):\n\u001b[0;32m   1045\u001b[0m     \u001b[38;5;124;03m\"\"\"Plot the residuals of a linear regression.\u001b[39;00m\n\u001b[0;32m   1046\u001b[0m \n\u001b[0;32m   1047\u001b[0m \u001b[38;5;124;03m    This function will regress y on x (possibly as a robust or polynomial\u001b[39;00m\n\u001b[1;32m   (...)\u001b[0m\n\u001b[0;32m   1094\u001b[0m \n\u001b[0;32m   1095\u001b[0m \u001b[38;5;124;03m    \"\"\"\u001b[39;00m\n\u001b[1;32m-> 1096\u001b[0m     plotter \u001b[38;5;241m=\u001b[39m \u001b[43m_RegressionPlotter\u001b[49m\u001b[43m(\u001b[49m\u001b[43mx\u001b[49m\u001b[43m,\u001b[49m\u001b[43m \u001b[49m\u001b[43my\u001b[49m\u001b[43m,\u001b[49m\u001b[43m \u001b[49m\u001b[43mdata\u001b[49m\u001b[43m,\u001b[49m\u001b[43m \u001b[49m\u001b[43mci\u001b[49m\u001b[38;5;241;43m=\u001b[39;49m\u001b[38;5;28;43;01mNone\u001b[39;49;00m\u001b[43m,\u001b[49m\n\u001b[0;32m   1097\u001b[0m \u001b[43m                                 \u001b[49m\u001b[43morder\u001b[49m\u001b[38;5;241;43m=\u001b[39;49m\u001b[43morder\u001b[49m\u001b[43m,\u001b[49m\u001b[43m \u001b[49m\u001b[43mrobust\u001b[49m\u001b[38;5;241;43m=\u001b[39;49m\u001b[43mrobust\u001b[49m\u001b[43m,\u001b[49m\n\u001b[0;32m   1098\u001b[0m \u001b[43m                                 \u001b[49m\u001b[43mx_partial\u001b[49m\u001b[38;5;241;43m=\u001b[39;49m\u001b[43mx_partial\u001b[49m\u001b[43m,\u001b[49m\u001b[43m \u001b[49m\u001b[43my_partial\u001b[49m\u001b[38;5;241;43m=\u001b[39;49m\u001b[43my_partial\u001b[49m\u001b[43m,\u001b[49m\n\u001b[0;32m   1099\u001b[0m \u001b[43m                                 \u001b[49m\u001b[43mdropna\u001b[49m\u001b[38;5;241;43m=\u001b[39;49m\u001b[43mdropna\u001b[49m\u001b[43m,\u001b[49m\u001b[43m \u001b[49m\u001b[43mcolor\u001b[49m\u001b[38;5;241;43m=\u001b[39;49m\u001b[43mcolor\u001b[49m\u001b[43m,\u001b[49m\u001b[43m \u001b[49m\u001b[43mlabel\u001b[49m\u001b[38;5;241;43m=\u001b[39;49m\u001b[43mlabel\u001b[49m\u001b[43m)\u001b[49m\n\u001b[0;32m   1101\u001b[0m     \u001b[38;5;28;01mif\u001b[39;00m ax \u001b[38;5;129;01mis\u001b[39;00m \u001b[38;5;28;01mNone\u001b[39;00m:\n\u001b[0;32m   1102\u001b[0m         ax \u001b[38;5;241m=\u001b[39m plt\u001b[38;5;241m.\u001b[39mgca()\n",
      "File \u001b[1;32m~\\anaconda3\\lib\\site-packages\\seaborn\\regression.py:109\u001b[0m, in \u001b[0;36m_RegressionPlotter.__init__\u001b[1;34m(self, x, y, data, x_estimator, x_bins, x_ci, scatter, fit_reg, ci, n_boot, units, seed, order, logistic, lowess, robust, logx, x_partial, y_partial, truncate, dropna, x_jitter, y_jitter, color, label)\u001b[0m\n\u001b[0;32m    106\u001b[0m     \u001b[38;5;28;01mraise\u001b[39;00m \u001b[38;5;167;01mValueError\u001b[39;00m(\u001b[38;5;124m\"\u001b[39m\u001b[38;5;124mMutually exclusive regression options.\u001b[39m\u001b[38;5;124m\"\u001b[39m)\n\u001b[0;32m    108\u001b[0m \u001b[38;5;66;03m# Extract the data vals from the arguments or passed dataframe\u001b[39;00m\n\u001b[1;32m--> 109\u001b[0m \u001b[38;5;28;43mself\u001b[39;49m\u001b[38;5;241;43m.\u001b[39;49m\u001b[43mestablish_variables\u001b[49m\u001b[43m(\u001b[49m\u001b[43mdata\u001b[49m\u001b[43m,\u001b[49m\u001b[43m \u001b[49m\u001b[43mx\u001b[49m\u001b[38;5;241;43m=\u001b[39;49m\u001b[43mx\u001b[49m\u001b[43m,\u001b[49m\u001b[43m \u001b[49m\u001b[43my\u001b[49m\u001b[38;5;241;43m=\u001b[39;49m\u001b[43my\u001b[49m\u001b[43m,\u001b[49m\u001b[43m \u001b[49m\u001b[43munits\u001b[49m\u001b[38;5;241;43m=\u001b[39;49m\u001b[43munits\u001b[49m\u001b[43m,\u001b[49m\n\u001b[0;32m    110\u001b[0m \u001b[43m                         \u001b[49m\u001b[43mx_partial\u001b[49m\u001b[38;5;241;43m=\u001b[39;49m\u001b[43mx_partial\u001b[49m\u001b[43m,\u001b[49m\u001b[43m \u001b[49m\u001b[43my_partial\u001b[49m\u001b[38;5;241;43m=\u001b[39;49m\u001b[43my_partial\u001b[49m\u001b[43m)\u001b[49m\n\u001b[0;32m    112\u001b[0m \u001b[38;5;66;03m# Drop null observations\u001b[39;00m\n\u001b[0;32m    113\u001b[0m \u001b[38;5;28;01mif\u001b[39;00m dropna:\n",
      "File \u001b[1;32m~\\anaconda3\\lib\\site-packages\\seaborn\\regression.py:46\u001b[0m, in \u001b[0;36m_LinearPlotter.establish_variables\u001b[1;34m(self, data, **kws)\u001b[0m\n\u001b[0;32m     44\u001b[0m \u001b[38;5;28;01mfor\u001b[39;00m var, val \u001b[38;5;129;01min\u001b[39;00m kws\u001b[38;5;241m.\u001b[39mitems():\n\u001b[0;32m     45\u001b[0m     \u001b[38;5;28;01mif\u001b[39;00m \u001b[38;5;28misinstance\u001b[39m(val, \u001b[38;5;28mstr\u001b[39m):\n\u001b[1;32m---> 46\u001b[0m         vector \u001b[38;5;241m=\u001b[39m \u001b[43mdata\u001b[49m\u001b[43m[\u001b[49m\u001b[43mval\u001b[49m\u001b[43m]\u001b[49m\n\u001b[0;32m     47\u001b[0m     \u001b[38;5;28;01melif\u001b[39;00m \u001b[38;5;28misinstance\u001b[39m(val, \u001b[38;5;28mlist\u001b[39m):\n\u001b[0;32m     48\u001b[0m         vector \u001b[38;5;241m=\u001b[39m np\u001b[38;5;241m.\u001b[39masarray(val)\n",
      "File \u001b[1;32m~\\anaconda3\\lib\\site-packages\\pandas\\core\\frame.py:3505\u001b[0m, in \u001b[0;36mDataFrame.__getitem__\u001b[1;34m(self, key)\u001b[0m\n\u001b[0;32m   3503\u001b[0m \u001b[38;5;28;01mif\u001b[39;00m \u001b[38;5;28mself\u001b[39m\u001b[38;5;241m.\u001b[39mcolumns\u001b[38;5;241m.\u001b[39mnlevels \u001b[38;5;241m>\u001b[39m \u001b[38;5;241m1\u001b[39m:\n\u001b[0;32m   3504\u001b[0m     \u001b[38;5;28;01mreturn\u001b[39;00m \u001b[38;5;28mself\u001b[39m\u001b[38;5;241m.\u001b[39m_getitem_multilevel(key)\n\u001b[1;32m-> 3505\u001b[0m indexer \u001b[38;5;241m=\u001b[39m \u001b[38;5;28;43mself\u001b[39;49m\u001b[38;5;241;43m.\u001b[39;49m\u001b[43mcolumns\u001b[49m\u001b[38;5;241;43m.\u001b[39;49m\u001b[43mget_loc\u001b[49m\u001b[43m(\u001b[49m\u001b[43mkey\u001b[49m\u001b[43m)\u001b[49m\n\u001b[0;32m   3506\u001b[0m \u001b[38;5;28;01mif\u001b[39;00m is_integer(indexer):\n\u001b[0;32m   3507\u001b[0m     indexer \u001b[38;5;241m=\u001b[39m [indexer]\n",
      "File \u001b[1;32m~\\anaconda3\\lib\\site-packages\\pandas\\core\\indexes\\base.py:3623\u001b[0m, in \u001b[0;36mIndex.get_loc\u001b[1;34m(self, key, method, tolerance)\u001b[0m\n\u001b[0;32m   3621\u001b[0m     \u001b[38;5;28;01mreturn\u001b[39;00m \u001b[38;5;28mself\u001b[39m\u001b[38;5;241m.\u001b[39m_engine\u001b[38;5;241m.\u001b[39mget_loc(casted_key)\n\u001b[0;32m   3622\u001b[0m \u001b[38;5;28;01mexcept\u001b[39;00m \u001b[38;5;167;01mKeyError\u001b[39;00m \u001b[38;5;28;01mas\u001b[39;00m err:\n\u001b[1;32m-> 3623\u001b[0m     \u001b[38;5;28;01mraise\u001b[39;00m \u001b[38;5;167;01mKeyError\u001b[39;00m(key) \u001b[38;5;28;01mfrom\u001b[39;00m \u001b[38;5;21;01merr\u001b[39;00m\n\u001b[0;32m   3624\u001b[0m \u001b[38;5;28;01mexcept\u001b[39;00m \u001b[38;5;167;01mTypeError\u001b[39;00m:\n\u001b[0;32m   3625\u001b[0m     \u001b[38;5;66;03m# If we have a listlike key, _check_indexing_error will raise\u001b[39;00m\n\u001b[0;32m   3626\u001b[0m     \u001b[38;5;66;03m#  InvalidIndexError. Otherwise we fall through and re-raise\u001b[39;00m\n\u001b[0;32m   3627\u001b[0m     \u001b[38;5;66;03m#  the TypeError.\u001b[39;00m\n\u001b[0;32m   3628\u001b[0m     \u001b[38;5;28mself\u001b[39m\u001b[38;5;241m.\u001b[39m_check_indexing_error(key)\n",
      "\u001b[1;31mKeyError\u001b[0m: 'ReAdmis_numeric'"
     ]
    }
   ],
   "source": [
    "#Creating residual plot\n",
    "\n",
    "sns.residplot(x = \"ReAdmis_numeric\", y=\"Initial_days\", data=df, lowess=True)\n",
    "plt.xlabel(\"ReAdmissions\")\n",
    "plt.ylabel(\"Residuals\")"
   ]
  },
  {
   "cell_type": "code",
   "execution_count": 23,
   "id": "d93533fc",
   "metadata": {},
   "outputs": [
    {
     "data": {
      "image/png": "[encoded data removed]",
      "text/plain": [
       "<Figure size 432x288 with 1 Axes>"
      ]
     },
     "execution_count": 23,
     "metadata": {},
     "output_type": "execute_result"
    },
    {
     "data": {
      "image/png": "[encoded data removed]",
      "text/plain": [
       "<Figure size 432x288 with 1 Axes>"
      ]
     },
     "metadata": {
      "needs_background": "light"
     },
     "output_type": "display_data"
    }
   ],
   "source": [
    "#QQ Plot\n",
    "\n",
    "from statsmodels.api import qqplot\n",
    "qqplot(data=mdl_readmis_initial.resid, fit=True, line=\"45\")"
   ]
  },
  {
   "cell_type": "code",
   "execution_count": 24,
   "id": "bd7d3029",
   "metadata": {},
   "outputs": [
    {
     "data": {
      "text/plain": [
       "Text(0, 0.5, 'Sqrt of abs val of standardized resids')"
      ]
     },
     "execution_count": 24,
     "metadata": {},
     "output_type": "execute_result"
    },
    {
     "data": {
      "image/png": "[encoded data removed]",
      "text/plain": [
       "<Figure size 432x288 with 1 Axes>"
      ]
     },
     "metadata": {
      "needs_background": "light"
     },
     "output_type": "display_data"
    }
   ],
   "source": [
    "#Scale-location plot\n",
    "\n",
    "#First step is to get normalized residuals from the model\n",
    "\n",
    "model_norm_residuals_readmis = mdl_readmis_initial.get_influence().resid_studentized_internal\n",
    "model_norm_residuals_abs_sqrt_readmis = np.sqrt(np.abs(model_norm_residuals_readmis))\n",
    "\n",
    "sns.regplot(x=mdl_readmis_initial.fittedvalues, y=model_norm_residuals_abs_sqrt_readmis, ci=None, lowess=True)\n",
    "plt.xlabel(\"Fitted Values\")\n",
    "plt.ylabel(\"Sqrt of abs val of standardized resids\")"
   ]
  },
  {
   "cell_type": "code",
   "execution_count": 25,
   "id": "75dc90fe",
   "metadata": {},
   "outputs": [
    {
     "ename": "SyntaxError",
     "evalue": "invalid syntax (1318018951.py, line 42)",
     "output_type": "error",
     "traceback": [
      "\u001b[1;36m  Input \u001b[1;32mIn [25]\u001b[1;36m\u001b[0m\n\u001b[1;33m    roach_not_short = roach[ropach[\"length_cm\"] ~=12.9]\u001b[0m\n\u001b[1;37m                                                ^\u001b[0m\n\u001b[1;31mSyntaxError\u001b[0m\u001b[1;31m:\u001b[0m invalid syntax\n"
     ]
    }
   ],
   "source": [
    "##Extreme explanatory values\n",
    "\n",
    "roach[\"extreme_l\"] = ((roach[\"length_cm\"] <15) |\n",
    "                      (roach[\"length_cm\"] > 26))\n",
    "\n",
    "fig = plt.figure()\n",
    "sns.regplot(x=\"length_cm\",\n",
    "            y=\"mass_g\",\n",
    "           data=roach,\n",
    "           ci=None)\n",
    "\n",
    "sns.scatterplot(x=\"length_cm\",\n",
    "                y=\"mass_g\",\n",
    "               hue=\"extreme_l\",\n",
    "               data=roach)\n",
    "\n",
    "##Leverage and influence: Leverage is a measure of how extreme the explanatory variable values are\n",
    "##Influence: measures how much the model would change if you left the observation out of the dataset when modeling\n",
    "##As a level arm helps produce torque, the influence of each observation is based on the size of the residuals and the leverage\n",
    "\n",
    "#Get influence and summary frame\n",
    "\n",
    "mdl_roach = ols(\"mass_g ~ length_cm\", data=roach).fit()\n",
    "summary_roach = mdl_roach.get_influence().summary_frame()\n",
    "roach[\"leverage\"] = summary_roach[\"hat_diag\"]\n",
    "\n",
    "print(roach.head())\n",
    "\n",
    "##Returns array with leverage values that indicate how extreme the numbers are\n",
    "\n",
    "##Cook's distance: most common measure of influence\n",
    "\n",
    "roach[\"cooks_dist\"] = summary_roach[\"cooks_d\"]\n",
    "print(roach.head())\n",
    "\n",
    "##Most influential data points\n",
    "\n",
    "print(roach.sort_values(\"cooks_dist\", ascending=False))\n",
    "\n",
    "##Removing most influential data point\n",
    "\n",
    "roach_not_short = roach[ropach[\"length_cm\"] ~=12.9]\n",
    "\n",
    "sns.regplot(x=\"length_cm\",\n",
    "           y=\"mass_g\",\n",
    "           data=roach,\n",
    "           ci=None,\n",
    "           line_kws={\"color\": \"green\"})\n",
    "\n",
    "sns.regplot(x=\"length_cm\",\n",
    "           y=\"mass_g\",\n",
    "           data=roach_not_short,\n",
    "           ci=None,\n",
    "           line_kws={\"color\": \"red\"})"
   ]
  },
  {
   "cell_type": "code",
   "execution_count": null,
   "id": "ab45f14a",
   "metadata": {},
   "outputs": [],
   "source": []
  },
  {
   "cell_type": "code",
   "execution_count": null,
   "id": "4cc3a291",
   "metadata": {},
   "outputs": [],
   "source": []
  },
  {
   "cell_type": "code",
   "execution_count": 26,
   "id": "d414d915",
   "metadata": {
    "scrolled": true
   },
   "outputs": [
    {
     "name": "stdout",
     "output_type": "stream",
     "text": [
      "<class 'pandas.core.frame.DataFrame'>\n",
      "RangeIndex: 10000 entries, 0 to 9999\n",
      "Data columns (total 44 columns):\n",
      " #   Column                      Non-Null Count  Dtype  \n",
      "---  ------                      --------------  -----  \n",
      " 0   Children                    10000 non-null  int64  \n",
      " 1   Age                         10000 non-null  int64  \n",
      " 2   Income                      10000 non-null  float64\n",
      " 3   Marital                     10000 non-null  object \n",
      " 4   Gender                      10000 non-null  object \n",
      " 5   ReAdmis                     10000 non-null  object \n",
      " 6   VitD_levels                 10000 non-null  float64\n",
      " 7   Doc_visits                  10000 non-null  int64  \n",
      " 8   Full_meals_eaten            10000 non-null  int64  \n",
      " 9   vitD_supp                   10000 non-null  int64  \n",
      " 10  Soft_drink                  10000 non-null  object \n",
      " 11  Initial_admin               10000 non-null  object \n",
      " 12  HighBlood                   10000 non-null  object \n",
      " 13  Stroke                      10000 non-null  object \n",
      " 14  Complication_risk           10000 non-null  object \n",
      " 15  Overweight                  10000 non-null  object \n",
      " 16  Arthritis                   10000 non-null  object \n",
      " 17  Diabetes                    10000 non-null  object \n",
      " 18  Hyperlipidemia              10000 non-null  object \n",
      " 19  BackPain                    10000 non-null  object \n",
      " 20  Anxiety                     10000 non-null  object \n",
      " 21  Allergic_rhinitis           10000 non-null  object \n",
      " 22  Reflux_esophagitis          10000 non-null  object \n",
      " 23  Asthma                      10000 non-null  object \n",
      " 24  Services                    10000 non-null  object \n",
      " 25  Initial_days                10000 non-null  float64\n",
      " 26  TotalCharge                 10000 non-null  float64\n",
      " 27  Additional_charges          10000 non-null  float64\n",
      " 28  Marital_numeric             10000 non-null  int64  \n",
      " 29  Gender_numeric              10000 non-null  int64  \n",
      " 30  ReAdmis_numeric             10000 non-null  int64  \n",
      " 31  Soft_drink_numeric          10000 non-null  int64  \n",
      " 32  Initial_admin_numeric       10000 non-null  int64  \n",
      " 33  HighBlood_numeric           10000 non-null  int64  \n",
      " 34  Stroke_numeric              10000 non-null  int64  \n",
      " 35  Complication_risk_numeric   10000 non-null  int64  \n",
      " 36  Arthritis_numeric           10000 non-null  int64  \n",
      " 37  Diabetes_numeric            10000 non-null  int64  \n",
      " 38  Hyperlipidemia_numeric      10000 non-null  int64  \n",
      " 39  BackPain_numeric            10000 non-null  int64  \n",
      " 40  Allergic_rhinitis_numeric   10000 non-null  int64  \n",
      " 41  Reflux_esophagitis_numeric  10000 non-null  int64  \n",
      " 42  Asthma_numeric              10000 non-null  int64  \n",
      " 43  Services_numeric            10000 non-null  int64  \n",
      "dtypes: float64(5), int64(21), object(18)\n",
      "memory usage: 3.4+ MB\n"
     ]
    }
   ],
   "source": [
    "#Turn categorical values into quantitative data\n",
    "df['Marital_numeric'] = df['Marital']\n",
    "dict_marital = {\"Marital_numeric\": {\"Never Married\": 0,\"Separated\": 1,\"Widowed\": 2,\"Divorced\": 3, \"Married\": 4}}\n",
    "df.replace(dict_marital, inplace=True)\n",
    "\n",
    "df['Gender_numeric'] = df['Gender']\n",
    "dict_gender = {\"Gender_numeric\": {\"Nonbinary\": 0,\"Male\": 1,\"Female\": 2}}\n",
    "df.replace(dict_gender, inplace=True)\n",
    "\n",
    "df['ReAdmis_numeric'] = df['ReAdmis']\n",
    "dict_ReAdmis = {\"ReAdmis_numeric\": {\"No\": 0, \"Yes\": 1}}\n",
    "df.replace(dict_ReAdmis, inplace=True)\n",
    "\n",
    "df['Soft_drink_numeric'] = df['Soft_drink']\n",
    "dict_Soft_drink = {\"Soft_drink_numeric\": {\"No\": 0, \"Yes\": 1}}\n",
    "df.replace(dict_Soft_drink, inplace=True)\n",
    "\n",
    "df['Initial_admin_numeric'] = df['Initial_admin']\n",
    "dict_Initial_admin = {\"Initial_admin_numeric\": {\"Emergency Admission\": 0, \"Elective Admission\": 1,\"Observation Admission\": 2}}\n",
    "df.replace(dict_Initial_admin, inplace=True)\n",
    "\n",
    "df['HighBlood_numeric'] = df['HighBlood']\n",
    "dict_HighBlood = {\"HighBlood_numeric\": {\"No\": 0, \"Yes\": 1}}\n",
    "df.replace(dict_HighBlood, inplace=True)\n",
    "\n",
    "df['Stroke_numeric'] = df['Stroke']\n",
    "dict_stroke = {\"Stroke_numeric\": {\"No\": 0, \"Yes\": 1}}\n",
    "df.replace(dict_stroke, inplace=True)\n",
    "\n",
    "df['Complication_risk_numeric'] = df['Complication_risk']\n",
    "dict_complication = {\"Complication_risk_numeric\": {\"Low\": 0, \"Medium\": 1, \"High\": 2}}\n",
    "df.replace(dict_complication, inplace=True)\n",
    "\n",
    "df['Arthritis_numeric'] = df['Arthritis']\n",
    "dict_arthritis = {\"Arthritis_numeric\": {\"No\": 0, \"Yes\": 1}}\n",
    "df.replace(dict_arthritis, inplace=True)\n",
    "\n",
    "df['Diabetes_numeric'] = df['Diabetes']\n",
    "dict_diabetes = {\"Diabetes_numeric\": {\"No\": 0, \"Yes\": 1}}\n",
    "df.replace(dict_diabetes, inplace=True)\n",
    "\n",
    "df['Hyperlipidemia_numeric'] = df['Hyperlipidemia']\n",
    "dict_hyperlipidemia = {\"Hyperlipidemia_numeric\": {\"No\": 0, \"Yes\": 1}}\n",
    "df.replace(dict_hyperlipidemia, inplace=True)\n",
    "\n",
    "df['BackPain_numeric'] = df['BackPain']\n",
    "dict_backpain = {\"BackPain_numeric\": {\"No\": 0, \"Yes\": 1}}\n",
    "df.replace(dict_backpain, inplace=True)\n",
    "\n",
    "df['Allergic_rhinitis_numeric'] = df['Allergic_rhinitis']\n",
    "dict_allergies = {\"Allergic_rhinitis_numeric\": {\"No\": 0, \"Yes\": 1}}\n",
    "df.replace(dict_allergies, inplace=True)\n",
    "\n",
    "df['Reflux_esophagitis_numeric'] = df['Reflux_esophagitis']\n",
    "dict_reflux = {\"Reflux_esophagitis_numeric\": {\"No\": 0, \"Yes\": 1}}\n",
    "df.replace(dict_reflux, inplace=True)\n",
    "\n",
    "df['Asthma_numeric'] = df['Asthma']\n",
    "dict_asthma = {\"Asthma_numeric\": {\"No\": 0, \"Yes\": 1}}\n",
    "df.replace(dict_asthma, inplace=True)\n",
    "\n",
    "df['Services_numeric'] = df['Services']\n",
    "dict_services = {\"Services_numeric\": {\"Blood Work\": 0, \"Intravenous\": 1, \"CT Scan\": 2, \"MRI\": 3}}\n",
    "df.replace(dict_services, inplace=True)\n",
    "\n",
    "#Check for new columns\n",
    "df.info()"
   ]
  },
  {
   "cell_type": "code",
   "execution_count": 27,
   "id": "709d97db",
   "metadata": {},
   "outputs": [
    {
     "ename": "NameError",
     "evalue": "name 'mdl_price_vs_dist' is not defined",
     "output_type": "error",
     "traceback": [
      "\u001b[1;31m---------------------------------------------------------------------------\u001b[0m",
      "\u001b[1;31mNameError\u001b[0m                                 Traceback (most recent call last)",
      "Input \u001b[1;32mIn [27]\u001b[0m, in \u001b[0;36m<cell line: 4>\u001b[1;34m()\u001b[0m\n\u001b[0;32m      1\u001b[0m \u001b[38;5;66;03m##Extracing leverage and influence\u001b[39;00m\n\u001b[0;32m      2\u001b[0m \n\u001b[0;32m      3\u001b[0m \u001b[38;5;66;03m# Create summary_info\u001b[39;00m\n\u001b[1;32m----> 4\u001b[0m summary_info \u001b[38;5;241m=\u001b[39m \u001b[43mmdl_price_vs_dist\u001b[49m\u001b[38;5;241m.\u001b[39mget_influence()\u001b[38;5;241m.\u001b[39msummary_frame()\n\u001b[0;32m      6\u001b[0m \u001b[38;5;66;03m# Add the hat_diag column to taiwan_real_estate, name it leverage\u001b[39;00m\n\u001b[0;32m      7\u001b[0m taiwan_real_estate[\u001b[38;5;124m\"\u001b[39m\u001b[38;5;124mleverage\u001b[39m\u001b[38;5;124m\"\u001b[39m] \u001b[38;5;241m=\u001b[39m summary_info[\u001b[38;5;124m\"\u001b[39m\u001b[38;5;124mhat_diag\u001b[39m\u001b[38;5;124m\"\u001b[39m]\n",
      "\u001b[1;31mNameError\u001b[0m: name 'mdl_price_vs_dist' is not defined"
     ]
    }
   ],
   "source": [
    "##Extracing leverage and influence\n",
    "\n",
    "# Create summary_info\n",
    "summary_info = mdl_price_vs_dist.get_influence().summary_frame()\n",
    "\n",
    "# Add the hat_diag column to taiwan_real_estate, name it leverage\n",
    "taiwan_real_estate[\"leverage\"] = summary_info[\"hat_diag\"]\n",
    "\n",
    "# Add the cooks_d column to taiwan_real_estate, name it cooks_dist\n",
    "taiwan_real_estate[\"cooks_dist\"] = summary_info[\"cooks_d\"]\n",
    "\n",
    "# Sort taiwan_real_estate by cooks_dist in descending order and print the head.\n",
    "print(taiwan_real_estate.sort_values(\"cooks_dist\", ascending=False).head())"
   ]
  },
  {
   "cell_type": "code",
   "execution_count": 28,
   "id": "6db060de",
   "metadata": {},
   "outputs": [
    {
     "name": "stdout",
     "output_type": "stream",
     "text": [
      "Intercept      -0.170177\n",
      "Initial_days    0.015588\n",
      "dtype: float64\n"
     ]
    }
   ],
   "source": [
    "##Logistic Regression with a binary response variable\n",
    "\n",
    "##Readmission vs initial_days linear model\n",
    "\n",
    "mdl_readmis_vs_initial_lm = ols(\"ReAdmis_numeric ~ Initial_days\", data=df).fit()\n",
    "\n",
    "print(mdl_readmis_vs_initial_lm.params)\n",
    "\n",
    "intercept, slope = mdl_readmis_vs_initial_lm.params"
   ]
  },
  {
   "cell_type": "code",
   "execution_count": 29,
   "id": "bc7cc787",
   "metadata": {},
   "outputs": [
    {
     "data": {
      "image/png": "[encoded data removed]",
      "text/plain": [
       "<Figure size 432x288 with 1 Axes>"
      ]
     },
     "metadata": {
      "needs_background": "light"
     },
     "output_type": "display_data"
    }
   ],
   "source": [
    "sns.scatterplot(x=\"Initial_days\", y=\"ReAdmis_numeric\", data=df)\n",
    "\n",
    "plt.axline(xy1=(0, -0.170177), slope=slope)\n",
    "\n",
    "plt.show()"
   ]
  },
  {
   "cell_type": "code",
   "execution_count": 30,
   "id": "4d63b34b",
   "metadata": {},
   "outputs": [
    {
     "data": {
      "image/png": "[encoded data removed]",
      "text/plain": [
       "<Figure size 432x288 with 1 Axes>"
      ]
     },
     "metadata": {
      "needs_background": "light"
     },
     "output_type": "display_data"
    }
   ],
   "source": [
    "sns.scatterplot(x=\"Initial_days\", y=\"ReAdmis_numeric\", data=df)\n",
    "\n",
    "plt.axline(xy1=(0, -0.170177), slope=slope)\n",
    "\n",
    "plt.xlim(-10, 10)\n",
    "plt.ylim(-0.2, 1.2)\n",
    "plt.show()"
   ]
  },
  {
   "cell_type": "markdown",
   "id": "b7afab33",
   "metadata": {},
   "source": [
    "##Solution to fixing these models is using a logistic regression model\n",
    "\n",
    "What is logistic regression?\n",
    "\n",
    "Another type of generalized linear model\n",
    "Used when the response variable is logical\n",
    "The responses follow logistic (S-shaped) curve.\n",
    "\n",
    "To run logistic regression refer to the following.\n",
    "\n",
    "This process fits a logistic regression model to the data."
   ]
  },
  {
   "cell_type": "code",
   "execution_count": 31,
   "id": "deba484d",
   "metadata": {},
   "outputs": [
    {
     "name": "stdout",
     "output_type": "stream",
     "text": [
      "Optimization terminated successfully.\n",
      "         Current function value: 0.048935\n",
      "         Iterations 13\n",
      "Intercept      -53.627240\n",
      "Initial_days     0.987226\n",
      "dtype: float64\n"
     ]
    }
   ],
   "source": [
    "from statsmodels.formula.api import logit\n",
    "\n",
    "mdl_readmis_vs_initial_logit = logit (\"ReAdmis_numeric ~ Initial_days\", data=df).fit()\n",
    "print(mdl_readmis_vs_initial_logit.params)"
   ]
  },
  {
   "cell_type": "code",
   "execution_count": 32,
   "id": "cb92ddba",
   "metadata": {},
   "outputs": [
    {
     "data": {
      "image/png": "[encoded data removed]",
      "text/plain": [
       "<Figure size 432x288 with 1 Axes>"
      ]
     },
     "metadata": {
      "needs_background": "light"
     },
     "output_type": "display_data"
    }
   ],
   "source": [
    "##Visualizing the logistic model\n",
    "\n",
    "sns.regplot(x=\"ReAdmis_numeric\", y=\"Initial_days\", data=df, ci=None, logistic=True)\n",
    "\n",
    "plt.axline(xy1=(0, -53.627240), slope=slope, color=\"black\")\n",
    "\n",
    "plt.xlim(-2, 2)\n",
    "plt.ylim(-100, 100)\n",
    "plt.show()"
   ]
  },
  {
   "cell_type": "code",
   "execution_count": null,
   "id": "373696c7",
   "metadata": {},
   "outputs": [],
   "source": [
    "## Comparing Models\n",
    "\n",
    "# Draw a linear regression trend line and a scatter plot of time_since_first_purchase vs. has_churned\n",
    "sns.regplot(x=\"time_since_first_purchase\",\n",
    "            y=\"has_churned\",\n",
    "            data=churn, \n",
    "            ci=None,\n",
    "            line_kws={\"color\": \"red\"})\n",
    "\n",
    "# Draw a logistic regression trend line and a scatter plot of time_since_first_purchase vs. has_churned\n",
    "sns.regplot(x=\"time_since_first_purchase\",\n",
    "                y=\"has_churned\",\n",
    "                data=churn,\n",
    "                ci=None,\n",
    "                logistic=True,\n",
    "                line_kws={\"color\": \"blue\"})\n",
    "\n",
    "plt.show()\n",
    "\n",
    "##Logistic Regression with logit()\n",
    "\n",
    "# Import logit\n",
    "from statsmodels.formula.api import logit\n",
    "\n",
    "# Fit a logistic regression of churn vs. length of relationship using the churn dataset. This is a prediction.\n",
    "mdl_churn_vs_relationship = logit (\"has_churned ~ time_since_first_purchase\", data=churn).fit()\n",
    "\n",
    "# Print the parameters of the fitted model\n",
    "print(mdl_churn_vs_relationship.params)"
   ]
  },
  {
   "cell_type": "code",
   "execution_count": null,
   "id": "4384131e",
   "metadata": {},
   "outputs": [],
   "source": [
    "#Odds Ratio. Predicting the likelihood of something happening or not happening\n",
    "\n",
    "sns.plotline(x=\"time_since_last_purchase\",\n",
    "            y=\"odds_ratio\",\n",
    "            data=prediction_data)\n",
    "\n",
    "plt.axhline(y=1,\n",
    "           linestyle=\"dotted\")\n",
    "\n",
    "plt.show()"
   ]
  },
  {
   "cell_type": "code",
   "execution_count": null,
   "id": "0bb90af0",
   "metadata": {},
   "outputs": [],
   "source": [
    "#Odds Ratio on log scale\n",
    "\n",
    "sns.plotline(x=\"time_since_last_purchase\",\n",
    "            y=\"odds_ratio\",\n",
    "            data=prediction_data)\n",
    "\n",
    "plt.axhline(y=1,\n",
    "           linestyle=\"dotted\")\n",
    "\n",
    "plt.yscale(\"log\")\n",
    "\n",
    "plt.show()"
   ]
  },
  {
   "cell_type": "code",
   "execution_count": null,
   "id": "9f1d3033",
   "metadata": {},
   "outputs": [],
   "source": [
    "##Calculating log odds ratio\n",
    "prediction_data[\"log_odds_ratio\"] = np.log(prediction_data[\"odds_ratio\"])"
   ]
  },
  {
   "cell_type": "code",
   "execution_count": null,
   "id": "e8044acd",
   "metadata": {},
   "outputs": [],
   "source": [
    "# Create prediction_data\n",
    "prediction_data = explanatory_data.assign(\n",
    "  has_churned=mdl_churn_vs_relationship.predict(explanatory_data)\n",
    ")\n",
    "\n",
    "# Print the head\n",
    "print(prediction_data.head())\n",
    "\n",
    "#Creating a regression plot with a scatterplot overlaid\n",
    "\n",
    "# Create prediction_data\n",
    "prediction_data = explanatory_data.assign(\n",
    "    has_churned = mdl_churn_vs_relationship.predict(explanatory_data)\n",
    ")\n",
    "\n",
    "fig = plt.figure()\n",
    "\n",
    "# Create a scatter plot with logistic trend line\n",
    "sns.regplot(y=\"has_churned\", x=\"time_since_first_purchase\", data=churn, logistic=True)\n",
    "\n",
    "# Overlay with prediction_data, colored red\n",
    "sns.scatterplot(y=\"has_churned\", x=\"time_since_first_purchase\", data=prediction_data, color=\"red\")\n",
    "\n",
    "plt.show()\n",
    "\n",
    "# Update prediction data by adding most_likely_outcome\n",
    "prediction_data[\"most_likely_outcome\"] = np.round(prediction_data[\"has_churned\"])\n",
    "\n",
    "# Print the head\n",
    "print(prediction_data.head())\n",
    "\n",
    "# Create a scatter plot with logistic trend line (from previous exercise)\n",
    "sns.regplot(x=\"time_since_first_purchase\",\n",
    "            y=\"has_churned\",\n",
    "            data=churn,\n",
    "            ci=None,\n",
    "            logistic=True)\n",
    "\n",
    "# Overlay with prediction_data, colored red\n",
    "sns.scatterplot(x=\"time_since_first_purchase\",\n",
    "                y=\"most_likely_outcome\",\n",
    "                data=prediction_data,\n",
    "                color=\"red\")\n",
    "\n",
    "plt.show()\n",
    "\n",
    "# Update prediction data with odds_ratio\n",
    "prediction_data[\"odds_ratio\"] = prediction_data[\"has_churned\"]/(1 - prediction_data[\"has_churned\"])\n",
    "\n",
    "# Print the head\n",
    "print(prediction_data.head())\n",
    "\n",
    "# Create a line plot of odds_ratio vs time_since_first_purchase\n",
    "sns.lineplot(x=\"time_since_first_purchase\", y=\"odds_ratio\", data=prediction_data)\n",
    "\n",
    "# Add a dotted horizontal line at odds_ratio = 1\n",
    "plt.axhline(y=1, linestyle=\"dotted\")\n",
    "\n",
    "plt.show()\n",
    "\n",
    "# Update prediction data with log_odds_ratio\n",
    "prediction_data[\"log_odds_ratio\"] = np.log(prediction_data[\"odds_ratio\"])\n",
    "\n",
    "# Print the head\n",
    "print(prediction_data.head())\n",
    "\n",
    "# Update the code for the line plot to plot log_odds_ratio vs time_since_first_purchase\n",
    "\n",
    "# Update the line plot: log_odds_ratio vs. time_since_first_purchase\n",
    "sns.lineplot(x=\"time_since_first_purchase\",\n",
    "             y=\"log_odds_ratio\",\n",
    "             data=prediction_data)\n",
    "\n",
    "# Add a dotted horizontal line at log_odds_ratio = 0\n",
    "plt.axhline(y=0, linestyle=\"dotted\")\n",
    "\n",
    "plt.show()"
   ]
  },
  {
   "cell_type": "code",
   "execution_count": null,
   "id": "77963889",
   "metadata": {},
   "outputs": [],
   "source": [
    "#Quantifying logistic regression fit\n",
    "#confusion Matrix counting outcomes vs prediction, positives/negatives, false positives/negatives\n",
    "\n",
    "#Example code to make a confusion matrix\n",
    "\n",
    "actual_response = churn[\"has_churned\"]\n",
    "\n",
    "predicted_response = np.round(mdl_recency.predict())\n",
    "\n",
    "outcomes = pd.DataFrame({\"actual_response\": actual_response,\n",
    "                        \"predicted_response\": predicted_response})\n",
    "\n",
    "print(outcomes.value_counts(sort=False))\n",
    "\n",
    "#Visualizing confusion matrix\n",
    "\n",
    "conf_matrix = mdl_recency.pred_table()\n",
    "\n",
    "print(conf_matrix)\n",
    "\n",
    "from statsmodels.graphics.mosaicplot\n",
    "import mosaic\n",
    "\n",
    "mosaic(conf_matrix)\n",
    "\n",
    "#Calculating accuracy: the proportion of correct predictions \n",
    "\n",
    "TN = conf_matrix[0,0]\n",
    "TP = conf_matrix[1,1]\n",
    "FN = conf_matrix[1,0]\n",
    "FP = conf_matrix[0,1]\n",
    "\n",
    "acc = (TN + TP) / (TN + TP + FN + FP)\n",
    "print(acc)\n",
    "\n",
    "#Sensitivity: proportion of true positives\n",
    "\n",
    "sens = TP / (FN + TP)\n",
    "print(sens)\n",
    "\n",
    "#Specificity: proportion of true negatives\n",
    "\n",
    "spec = TN / (TN + FP)\n",
    "print(spec)"
   ]
  },
  {
   "cell_type": "code",
   "execution_count": 36,
   "id": "c89c8f11",
   "metadata": {},
   "outputs": [
    {
     "name": "stdout",
     "output_type": "stream",
     "text": [
      "Initial vs VitD Levels:\n",
      " Intercept      35.308554\n",
      "VitD_levels    -0.047497\n",
      "dtype: float64\n",
      "Initial vs Services:\n",
      " Services[Blood Work]     0.366572\n",
      "Services[CT Scan]        0.398367\n",
      "Services[Intravenous]    0.352396\n",
      "Services[MRI]            0.389474\n",
      "dtype: float64\n"
     ]
    }
   ],
   "source": [
    "#Linear Regression with one explanatory variable at a time\n",
    "\n",
    "from statsmodels.formula.api import ols\n",
    "\n",
    "#fitting a linear regression with intercept\n",
    "mdl_initial_vs_vitd = ols(\"Initial_days ~ VitD_levels\", data=df).fit()\n",
    "\n",
    "print('Initial vs VitD Levels:\\n', mdl_initial_vs_vitd.params)\n",
    "\n",
    "#fitting a linear regression without intercept\n",
    "mdl_initial_vs_services = ols(\"ReAdmis_numeric ~ Services + 0\", data=df).fit()\n",
    "\n",
    "print('Initial vs Services:\\n', mdl_initial_vs_services.params)"
   ]
  },
  {
   "cell_type": "code",
   "execution_count": 37,
   "id": "5c4bc6d9",
   "metadata": {},
   "outputs": [
    {
     "name": "stdout",
     "output_type": "stream",
     "text": [
      "Services[Blood Work]     35.461939\n",
      "Services[CT Scan]        35.855607\n",
      "Services[Intravenous]    34.703627\n",
      "Services[MRI]            36.317347\n",
      "VitD_levels              -0.047317\n",
      "dtype: float64\n"
     ]
    }
   ],
   "source": [
    "#Both variables at the same time\n",
    "\n",
    "#fit a linear regression with multiple variables, no intercept\n",
    "mdl_readmis_vs_both = ols(\"Initial_days ~ VitD_levels + Services + 0\", data=df).fit()\n",
    "\n",
    "print(mdl_readmis_vs_both.params)"
   ]
  },
  {
   "cell_type": "code",
   "execution_count": 38,
   "id": "7389166b",
   "metadata": {},
   "outputs": [
    {
     "data": {
      "image/png": "[encoded data removed]",
      "text/plain": [
       "<Figure size 432x288 with 1 Axes>"
      ]
     },
     "metadata": {
      "needs_background": "light"
     },
     "output_type": "display_data"
    }
   ],
   "source": [
    "#Visualization: 1 numeric explanatory variable\n",
    "\n",
    "\n",
    "import matplotlib.pyplot as plt\n",
    "import seaborn as sns\n",
    "\n",
    "#create scatterplot with linear trend line of initial_days vs VitD_levels\n",
    "sns.regplot(x=\"VitD_levels\",\n",
    "            y=\"Initial_days\",\n",
    "           data=df,\n",
    "           ci=None)\n",
    "\n",
    "plt.show()"
   ]
  },
  {
   "cell_type": "code",
   "execution_count": 39,
   "id": "a51ece3c",
   "metadata": {},
   "outputs": [
    {
     "data": {
      "text/plain": [
       "<AxesSubplot:xlabel='Services', ylabel='Initial_days'>"
      ]
     },
     "execution_count": 39,
     "metadata": {},
     "output_type": "execute_result"
    },
    {
     "data": {
      "image/png": "[encoded data removed]",
      "text/plain": [
       "<Figure size 432x288 with 1 Axes>"
      ]
     },
     "metadata": {
      "needs_background": "light"
     },
     "output_type": "display_data"
    }
   ],
   "source": [
    "#Visualization: 1 categoricla explanatory variable\n",
    "\n",
    "#create a boxplot of initial_days vs services\n",
    "sns.boxplot(x=\"Services\",\n",
    "           y=\"Initial_days\",\n",
    "           data=df,\n",
    "           showmeans=True)"
   ]
  },
  {
   "cell_type": "code",
   "execution_count": 44,
   "id": "c25e43fe",
   "metadata": {},
   "outputs": [
    {
     "name": "stdout",
     "output_type": "stream",
     "text": [
      "Services[Blood Work]     35.461939\n",
      "Services[CT Scan]        35.855607\n",
      "Services[Intravenous]    34.703627\n",
      "Services[MRI]            36.317347\n",
      "VitD_levels              -0.047317\n",
      "dtype: float64\n"
     ]
    },
    {
     "data": {
      "image/png": "[encoded data removed]",
      "text/plain": [
       "<Figure size 432x288 with 1 Axes>"
      ]
     },
     "metadata": {
      "needs_background": "light"
     },
     "output_type": "display_data"
    }
   ],
   "source": [
    "#Visualization: both explanatory variables\n",
    "\n",
    "#extract model coefficients\n",
    "coeffs = mdl_readmis_vs_both.params\n",
    "\n",
    "#print model coefficients\n",
    "print(coeffs)\n",
    "\n",
    "#assign each of the coefficients\n",
    "ic_bloodwork, ic_iv, ic_ctscan, ic_mri, sl = coeffs\n",
    "\n",
    "sns.scatterplot(x=\"VitD_levels\",\n",
    "               y=\"Initial_days\",\n",
    "               hue=\"Services\",\n",
    "               data=df)\n",
    "\n",
    "plt.axline(xy1=(0, ic_bloodwork), slope=sl, color=\"blue\")\n",
    "plt.axline(xy1=(0, ic_ctscan), slope=sl, color=\"green\")\n",
    "plt.axline(xy1=(0, ic_iv), slope=sl, color=\"red\")\n",
    "plt.axline(xy1=(0, ic_mri), slope=sl, color=\"orange\")\n",
    "plt.show()"
   ]
  },
  {
   "cell_type": "code",
   "execution_count": 63,
   "id": "933c393e",
   "metadata": {},
   "outputs": [
    {
     "name": "stdout",
     "output_type": "stream",
     "text": [
      "    Initial_days\n",
      "0              5\n",
      "1             10\n",
      "2             15\n",
      "3             20\n",
      "4             25\n",
      "5             30\n",
      "6             35\n",
      "7             40\n",
      "8             45\n",
      "9             50\n",
      "10            55\n",
      "11            60\n"
     ]
    },
    {
     "ename": "KeyError",
     "evalue": "'services'",
     "output_type": "error",
     "traceback": [
      "\u001b[1;31m---------------------------------------------------------------------------\u001b[0m",
      "\u001b[1;31mKeyError\u001b[0m                                  Traceback (most recent call last)",
      "File \u001b[1;32m~\\anaconda3\\lib\\site-packages\\pandas\\core\\indexes\\base.py:3621\u001b[0m, in \u001b[0;36mIndex.get_loc\u001b[1;34m(self, key, method, tolerance)\u001b[0m\n\u001b[0;32m   3620\u001b[0m \u001b[38;5;28;01mtry\u001b[39;00m:\n\u001b[1;32m-> 3621\u001b[0m     \u001b[38;5;28;01mreturn\u001b[39;00m \u001b[38;5;28;43mself\u001b[39;49m\u001b[38;5;241;43m.\u001b[39;49m\u001b[43m_engine\u001b[49m\u001b[38;5;241;43m.\u001b[39;49m\u001b[43mget_loc\u001b[49m\u001b[43m(\u001b[49m\u001b[43mcasted_key\u001b[49m\u001b[43m)\u001b[49m\n\u001b[0;32m   3622\u001b[0m \u001b[38;5;28;01mexcept\u001b[39;00m \u001b[38;5;167;01mKeyError\u001b[39;00m \u001b[38;5;28;01mas\u001b[39;00m err:\n",
      "File \u001b[1;32m~\\anaconda3\\lib\\site-packages\\pandas\\_libs\\index.pyx:136\u001b[0m, in \u001b[0;36mpandas._libs.index.IndexEngine.get_loc\u001b[1;34m()\u001b[0m\n",
      "File \u001b[1;32m~\\anaconda3\\lib\\site-packages\\pandas\\_libs\\index.pyx:163\u001b[0m, in \u001b[0;36mpandas._libs.index.IndexEngine.get_loc\u001b[1;34m()\u001b[0m\n",
      "File \u001b[1;32mpandas\\_libs\\hashtable_class_helper.pxi:5198\u001b[0m, in \u001b[0;36mpandas._libs.hashtable.PyObjectHashTable.get_item\u001b[1;34m()\u001b[0m\n",
      "File \u001b[1;32mpandas\\_libs\\hashtable_class_helper.pxi:5206\u001b[0m, in \u001b[0;36mpandas._libs.hashtable.PyObjectHashTable.get_item\u001b[1;34m()\u001b[0m\n",
      "\u001b[1;31mKeyError\u001b[0m: 'services'",
      "\nThe above exception was the direct cause of the following exception:\n",
      "\u001b[1;31mKeyError\u001b[0m                                  Traceback (most recent call last)",
      "Input \u001b[1;32mIn [63]\u001b[0m, in \u001b[0;36m<cell line: 12>\u001b[1;34m()\u001b[0m\n\u001b[0;32m      8\u001b[0m \u001b[38;5;28mprint\u001b[39m(expl_data_length)\n\u001b[0;32m     11\u001b[0m Initial_days \u001b[38;5;241m=\u001b[39m np\u001b[38;5;241m.\u001b[39marange(\u001b[38;5;241m5\u001b[39m, \u001b[38;5;241m61\u001b[39m, \u001b[38;5;241m5\u001b[39m)\n\u001b[1;32m---> 12\u001b[0m servicetype \u001b[38;5;241m=\u001b[39m \u001b[43mdf\u001b[49m\u001b[43m[\u001b[49m\u001b[38;5;124;43m\"\u001b[39;49m\u001b[38;5;124;43mservices\u001b[39;49m\u001b[38;5;124;43m\"\u001b[39;49m\u001b[43m]\u001b[49m\u001b[38;5;241m.\u001b[39munique()\n\u001b[0;32m     14\u001b[0m p \u001b[38;5;241m=\u001b[39m product(Initial_days, servicetype)\n\u001b[0;32m     16\u001b[0m expl_data_length \u001b[38;5;241m=\u001b[39m pd\u001b[38;5;241m.\u001b[39mDataFrame(p,\n\u001b[0;32m     17\u001b[0m                             columns\u001b[38;5;241m=\u001b[39m[\u001b[38;5;124m'\u001b[39m\u001b[38;5;124mInitial_days\u001b[39m\u001b[38;5;124m'\u001b[39m,\n\u001b[0;32m     18\u001b[0m                                     \u001b[38;5;124m'\u001b[39m\u001b[38;5;124mservicetype\u001b[39m\u001b[38;5;124m'\u001b[39m])\n",
      "File \u001b[1;32m~\\anaconda3\\lib\\site-packages\\pandas\\core\\frame.py:3505\u001b[0m, in \u001b[0;36mDataFrame.__getitem__\u001b[1;34m(self, key)\u001b[0m\n\u001b[0;32m   3503\u001b[0m \u001b[38;5;28;01mif\u001b[39;00m \u001b[38;5;28mself\u001b[39m\u001b[38;5;241m.\u001b[39mcolumns\u001b[38;5;241m.\u001b[39mnlevels \u001b[38;5;241m>\u001b[39m \u001b[38;5;241m1\u001b[39m:\n\u001b[0;32m   3504\u001b[0m     \u001b[38;5;28;01mreturn\u001b[39;00m \u001b[38;5;28mself\u001b[39m\u001b[38;5;241m.\u001b[39m_getitem_multilevel(key)\n\u001b[1;32m-> 3505\u001b[0m indexer \u001b[38;5;241m=\u001b[39m \u001b[38;5;28;43mself\u001b[39;49m\u001b[38;5;241;43m.\u001b[39;49m\u001b[43mcolumns\u001b[49m\u001b[38;5;241;43m.\u001b[39;49m\u001b[43mget_loc\u001b[49m\u001b[43m(\u001b[49m\u001b[43mkey\u001b[49m\u001b[43m)\u001b[49m\n\u001b[0;32m   3506\u001b[0m \u001b[38;5;28;01mif\u001b[39;00m is_integer(indexer):\n\u001b[0;32m   3507\u001b[0m     indexer \u001b[38;5;241m=\u001b[39m [indexer]\n",
      "File \u001b[1;32m~\\anaconda3\\lib\\site-packages\\pandas\\core\\indexes\\base.py:3623\u001b[0m, in \u001b[0;36mIndex.get_loc\u001b[1;34m(self, key, method, tolerance)\u001b[0m\n\u001b[0;32m   3621\u001b[0m     \u001b[38;5;28;01mreturn\u001b[39;00m \u001b[38;5;28mself\u001b[39m\u001b[38;5;241m.\u001b[39m_engine\u001b[38;5;241m.\u001b[39mget_loc(casted_key)\n\u001b[0;32m   3622\u001b[0m \u001b[38;5;28;01mexcept\u001b[39;00m \u001b[38;5;167;01mKeyError\u001b[39;00m \u001b[38;5;28;01mas\u001b[39;00m err:\n\u001b[1;32m-> 3623\u001b[0m     \u001b[38;5;28;01mraise\u001b[39;00m \u001b[38;5;167;01mKeyError\u001b[39;00m(key) \u001b[38;5;28;01mfrom\u001b[39;00m \u001b[38;5;21;01merr\u001b[39;00m\n\u001b[0;32m   3624\u001b[0m \u001b[38;5;28;01mexcept\u001b[39;00m \u001b[38;5;167;01mTypeError\u001b[39;00m:\n\u001b[0;32m   3625\u001b[0m     \u001b[38;5;66;03m# If we have a listlike key, _check_indexing_error will raise\u001b[39;00m\n\u001b[0;32m   3626\u001b[0m     \u001b[38;5;66;03m#  InvalidIndexError. Otherwise we fall through and re-raise\u001b[39;00m\n\u001b[0;32m   3627\u001b[0m     \u001b[38;5;66;03m#  the TypeError.\u001b[39;00m\n\u001b[0;32m   3628\u001b[0m     \u001b[38;5;28mself\u001b[39m\u001b[38;5;241m.\u001b[39m_check_indexing_error(key)\n",
      "\u001b[1;31mKeyError\u001b[0m: 'services'"
     ]
    }
   ],
   "source": [
    "#Predicting parallel slopes: the prediction workflow\n",
    "\n",
    "import pandas as pd\n",
    "import numpy as np\n",
    "\n",
    "expl_data_length = pd.DataFrame(\n",
    "    {\"Initial_days\": np.arange(5, 61, 5)})\n",
    "print(expl_data_length)\n",
    "\n",
    "\n",
    "Initial_days = np.arange(5, 61, 5)\n",
    "servicetype = df[\"services\"].unique()\n",
    "\n",
    "p = product(Initial_days, servicetype)\n",
    "\n",
    "expl_data_length = pd.DataFrame(p,\n",
    "                            columns=['Initial_days',\n",
    "                                    'servicetype'])\n",
    "\n",
    "prediction_data_length = expl_data_length.assign(\n",
    "    mass_g = mdl_m)"
   ]
  },
  {
   "cell_type": "code",
   "execution_count": 66,
   "id": "08be9332",
   "metadata": {},
   "outputs": [
    {
     "ename": "KeyError",
     "evalue": "'Services'",
     "output_type": "error",
     "traceback": [
      "\u001b[1;31m---------------------------------------------------------------------------\u001b[0m",
      "\u001b[1;31mKeyError\u001b[0m                                  Traceback (most recent call last)",
      "File \u001b[1;32m~\\anaconda3\\lib\\site-packages\\pandas\\core\\indexes\\base.py:3621\u001b[0m, in \u001b[0;36mIndex.get_loc\u001b[1;34m(self, key, method, tolerance)\u001b[0m\n\u001b[0;32m   3620\u001b[0m \u001b[38;5;28;01mtry\u001b[39;00m:\n\u001b[1;32m-> 3621\u001b[0m     \u001b[38;5;28;01mreturn\u001b[39;00m \u001b[38;5;28;43mself\u001b[39;49m\u001b[38;5;241;43m.\u001b[39;49m\u001b[43m_engine\u001b[49m\u001b[38;5;241;43m.\u001b[39;49m\u001b[43mget_loc\u001b[49m\u001b[43m(\u001b[49m\u001b[43mcasted_key\u001b[49m\u001b[43m)\u001b[49m\n\u001b[0;32m   3622\u001b[0m \u001b[38;5;28;01mexcept\u001b[39;00m \u001b[38;5;167;01mKeyError\u001b[39;00m \u001b[38;5;28;01mas\u001b[39;00m err:\n",
      "File \u001b[1;32m~\\anaconda3\\lib\\site-packages\\pandas\\_libs\\index.pyx:136\u001b[0m, in \u001b[0;36mpandas._libs.index.IndexEngine.get_loc\u001b[1;34m()\u001b[0m\n",
      "File \u001b[1;32m~\\anaconda3\\lib\\site-packages\\pandas\\_libs\\index.pyx:163\u001b[0m, in \u001b[0;36mpandas._libs.index.IndexEngine.get_loc\u001b[1;34m()\u001b[0m\n",
      "File \u001b[1;32mpandas\\_libs\\hashtable_class_helper.pxi:5198\u001b[0m, in \u001b[0;36mpandas._libs.hashtable.PyObjectHashTable.get_item\u001b[1;34m()\u001b[0m\n",
      "File \u001b[1;32mpandas\\_libs\\hashtable_class_helper.pxi:5206\u001b[0m, in \u001b[0;36mpandas._libs.hashtable.PyObjectHashTable.get_item\u001b[1;34m()\u001b[0m\n",
      "\u001b[1;31mKeyError\u001b[0m: 'Services'",
      "\nThe above exception was the direct cause of the following exception:\n",
      "\u001b[1;31mKeyError\u001b[0m                                  Traceback (most recent call last)",
      "Input \u001b[1;32mIn [66]\u001b[0m, in \u001b[0;36m<cell line: 5>\u001b[1;34m()\u001b[0m\n\u001b[0;32m      2\u001b[0m Initial_days \u001b[38;5;241m=\u001b[39m np\u001b[38;5;241m.\u001b[39marange(\u001b[38;5;241m0\u001b[39m, \u001b[38;5;241m11\u001b[39m)\n\u001b[0;32m      4\u001b[0m \u001b[38;5;66;03m# Extract the unique values of house_age_years\u001b[39;00m\n\u001b[1;32m----> 5\u001b[0m servicetype \u001b[38;5;241m=\u001b[39m \u001b[43mdf\u001b[49m\u001b[43m[\u001b[49m\u001b[38;5;124;43m\"\u001b[39;49m\u001b[38;5;124;43mServices\u001b[39;49m\u001b[38;5;124;43m\"\u001b[39;49m\u001b[43m]\u001b[49m\u001b[38;5;241m.\u001b[39munique()\n\u001b[0;32m      7\u001b[0m \u001b[38;5;66;03m# Create p as all combinations of values of n_convenience and house_age_years\u001b[39;00m\n\u001b[0;32m      8\u001b[0m p \u001b[38;5;241m=\u001b[39m product(Initial_days, servicetye)\n",
      "File \u001b[1;32m~\\anaconda3\\lib\\site-packages\\pandas\\core\\frame.py:3505\u001b[0m, in \u001b[0;36mDataFrame.__getitem__\u001b[1;34m(self, key)\u001b[0m\n\u001b[0;32m   3503\u001b[0m \u001b[38;5;28;01mif\u001b[39;00m \u001b[38;5;28mself\u001b[39m\u001b[38;5;241m.\u001b[39mcolumns\u001b[38;5;241m.\u001b[39mnlevels \u001b[38;5;241m>\u001b[39m \u001b[38;5;241m1\u001b[39m:\n\u001b[0;32m   3504\u001b[0m     \u001b[38;5;28;01mreturn\u001b[39;00m \u001b[38;5;28mself\u001b[39m\u001b[38;5;241m.\u001b[39m_getitem_multilevel(key)\n\u001b[1;32m-> 3505\u001b[0m indexer \u001b[38;5;241m=\u001b[39m \u001b[38;5;28;43mself\u001b[39;49m\u001b[38;5;241;43m.\u001b[39;49m\u001b[43mcolumns\u001b[49m\u001b[38;5;241;43m.\u001b[39;49m\u001b[43mget_loc\u001b[49m\u001b[43m(\u001b[49m\u001b[43mkey\u001b[49m\u001b[43m)\u001b[49m\n\u001b[0;32m   3506\u001b[0m \u001b[38;5;28;01mif\u001b[39;00m is_integer(indexer):\n\u001b[0;32m   3507\u001b[0m     indexer \u001b[38;5;241m=\u001b[39m [indexer]\n",
      "File \u001b[1;32m~\\anaconda3\\lib\\site-packages\\pandas\\core\\indexes\\base.py:3623\u001b[0m, in \u001b[0;36mIndex.get_loc\u001b[1;34m(self, key, method, tolerance)\u001b[0m\n\u001b[0;32m   3621\u001b[0m     \u001b[38;5;28;01mreturn\u001b[39;00m \u001b[38;5;28mself\u001b[39m\u001b[38;5;241m.\u001b[39m_engine\u001b[38;5;241m.\u001b[39mget_loc(casted_key)\n\u001b[0;32m   3622\u001b[0m \u001b[38;5;28;01mexcept\u001b[39;00m \u001b[38;5;167;01mKeyError\u001b[39;00m \u001b[38;5;28;01mas\u001b[39;00m err:\n\u001b[1;32m-> 3623\u001b[0m     \u001b[38;5;28;01mraise\u001b[39;00m \u001b[38;5;167;01mKeyError\u001b[39;00m(key) \u001b[38;5;28;01mfrom\u001b[39;00m \u001b[38;5;21;01merr\u001b[39;00m\n\u001b[0;32m   3624\u001b[0m \u001b[38;5;28;01mexcept\u001b[39;00m \u001b[38;5;167;01mTypeError\u001b[39;00m:\n\u001b[0;32m   3625\u001b[0m     \u001b[38;5;66;03m# If we have a listlike key, _check_indexing_error will raise\u001b[39;00m\n\u001b[0;32m   3626\u001b[0m     \u001b[38;5;66;03m#  InvalidIndexError. Otherwise we fall through and re-raise\u001b[39;00m\n\u001b[0;32m   3627\u001b[0m     \u001b[38;5;66;03m#  the TypeError.\u001b[39;00m\n\u001b[0;32m   3628\u001b[0m     \u001b[38;5;28mself\u001b[39m\u001b[38;5;241m.\u001b[39m_check_indexing_error(key)\n",
      "\u001b[1;31mKeyError\u001b[0m: 'Services'"
     ]
    }
   ],
   "source": [
    "# Create n_convenience as a range of numbers from 0 to 10\n",
    "n_convenience = np.arange(0, 11)\n",
    "\n",
    "# Extract the unique values of house_age_years\n",
    "house_age_years = taiwan_real_estate[\"house_age_years\"].unique()\n",
    "\n",
    "# Create p as all combinations of values of n_convenience and house_age_years\n",
    "p = product(n_convenience, house_age_years)\n",
    "\n",
    "# Transform p to a DataFrame and name the columns\n",
    "explanatory_data = pd.DataFrame(p, columns=['n_convenience', 'house_age_years'])\n",
    "\n",
    "# Add predictions to the DataFrame\n",
    "prediction_data = explanatory_data.assign(price_twd_msq = mdl_price_vs_both.predict(explanatory_data))\n",
    "\n",
    "print(prediction_data)"
   ]
  },
  {
   "cell_type": "code",
   "execution_count": null,
   "id": "61952351",
   "metadata": {},
   "outputs": [],
   "source": [
    "# Extract the model coefficients, coeffs\n",
    "coeffs = mdl_price_vs_both.params\n",
    "\n",
    "# Print coeffs\n",
    "print(coeffs)\n",
    "\n",
    "# Assign each of the coeffs\n",
    "ic_0_15, ic_15_30, ic_30_45, slope  = coeffs"
   ]
  },
  {
   "cell_type": "code",
   "execution_count": null,
   "id": "fce1d9da",
   "metadata": {},
   "outputs": [],
   "source": [
    "# Extract the model coefficients, coeffs\n",
    "coeffs = mdl_price_vs_both.params\n",
    "\n",
    "# Assign each of the coeffs\n",
    "ic_0_15, ic_15_30, ic_30_45, slope = coeffs\n",
    "\n",
    "# Create the parallel slopes plot\n",
    "plt.axline(xy1=(0, ic_0_15), slope=slope, color=\"green\")\n",
    "plt.axline(xy1=(0, ic_15_30), slope=slope, color=\"orange\")\n",
    "plt.axline(xy1=(0, ic_30_45), slope=slope, color=\"blue\")\n",
    "sns.scatterplot(x=\"n_convenience\",\n",
    "                y=\"price_twd_msq\",\n",
    "                hue=\"house_age_years\",\n",
    "                data=taiwan_real_estate)\n",
    "\n",
    "# Add the predictions in black\n",
    "sns.scatterplot(x=\"n_convenience\",\n",
    "                y=\"price_twd_msq\",\n",
    "                color=\"black\",\n",
    "                data=prediction_data)\n",
    "\n",
    "plt.show()"
   ]
  },
  {
   "cell_type": "code",
   "execution_count": null,
   "id": "85f90714",
   "metadata": {},
   "outputs": [],
   "source": [
    "# Define conditions\n",
    "conditions = [\n",
    "    explanatory_data[\"house_age_years\"] == \"0 to 15\",\n",
    "    explanatory_data[\"house_age_years\"] == \"15 to 30\",\n",
    "    explanatory_data[\"house_age_years\"] == \"30 to 45\"]\n",
    "\n",
    "# Define choices\n",
    "choices = [ic_0_15, ic_15_30, ic_30_45]\n",
    "\n",
    "# Create array of intercepts for each house_age_year category\n",
    "intercept = np.select(conditions, choices)\n",
    "\n",
    "# Create prediction_data with columns intercept and price_twd_msq\n",
    "prediction_data = explanatory_data.assign(\n",
    "    intercept = intercept,\n",
    "    price_twd_msq = intercept + slope * explanatory_data[\"n_convenience\"])\n",
    "\n",
    "print(prediction_data)"
   ]
  },
  {
   "cell_type": "code",
   "execution_count": null,
   "id": "6ccff796",
   "metadata": {},
   "outputs": [],
   "source": [
    "# Take a glimpse at the dataset\n",
    "print(auctions.info())\n",
    "\n",
    "# Model price vs. opening bid using auctions\n",
    "mdl_price_vs_openbid = ols(\"price ~ openbid\", data=auctions).fit()\n",
    "\n",
    "# See the result\n",
    "print(mdl_price_vs_openbid.params)\n",
    "\n",
    "# Take a glimpse at the dataset\n",
    "print(auctions.info())\n",
    "\n",
    "# Model price vs. opening bid using auctions\n",
    "mdl_price_vs_openbid = ols(\"price ~ openbid\", data = auctions).fit()\n",
    "\n",
    "# See the result\n",
    "print(mdl_price_vs_openbid.params)\n",
    "\n",
    "# Plot the scatter plot pf price vs. openbid with a linear trend line\n",
    "sns.regplot(x=\"openbid\",\n",
    "                y=\"price\",\n",
    "                data=auctions,\n",
    "                )\n",
    "\n",
    "# Show the plot\n",
    "plt.show()\n",
    "\n",
    "# Fit linear regression of price vs. opening bid and auction type, with an interaction, without intercept\n",
    "mdl_price_vs_both =ols(\"price ~ auction_type + openbid:auction_type + 0\", data=auctions).fit()\n",
    "\n",
    "# See the result\n",
    "print(mdl_price_vs_both.params)\n",
    "\n",
    "# Fit linear regression of price vs. opening bid and auction type, with an interaction, without intercept\n",
    "mdl_price_vs_both = ols(\"price ~ auction_type + openbid:auction_type + 0\", data=auctions).fit()\n",
    "\n",
    "# Using auctions, plot price vs. opening bid colored by auction type as a scatter plot with linear regr'n trend lines\n",
    "sns.lmplot(y=\"price\",\n",
    "            x=\"openbid\",\n",
    "            hue=\"auction_type\",\n",
    "            data=auctions)\n",
    "\n",
    "# Show the plot\n",
    "plt.show()\n",
    "\n",
    "\n"
   ]
  },
  {
   "cell_type": "code",
   "execution_count": 1,
   "id": "9454acd3",
   "metadata": {},
   "outputs": [
    {
     "ename": "NameError",
     "evalue": "name 'sns' is not defined",
     "output_type": "error",
     "traceback": [
      "\u001b[1;31m---------------------------------------------------------------------------\u001b[0m",
      "\u001b[1;31mNameError\u001b[0m                                 Traceback (most recent call last)",
      "Input \u001b[1;32mIn [1]\u001b[0m, in \u001b[0;36m<cell line: 7>\u001b[1;34m()\u001b[0m\n\u001b[0;32m      1\u001b[0m \u001b[38;5;66;03m#Two numeric explanatory variables\u001b[39;00m\n\u001b[0;32m      2\u001b[0m \n\u001b[0;32m      3\u001b[0m \u001b[38;5;66;03m#Visualizing three numeric variables\u001b[39;00m\n\u001b[0;32m      4\u001b[0m \u001b[38;5;66;03m#3D scatterplot\u001b[39;00m\n\u001b[0;32m      5\u001b[0m \u001b[38;5;66;03m#or a 2d scatterplot using color for the 3rd variable\u001b[39;00m\n\u001b[1;32m----> 7\u001b[0m \u001b[43msns\u001b[49m\u001b[38;5;241m.\u001b[39mscatterplot(x\u001b[38;5;241m=\u001b[39m\u001b[38;5;124m\"\u001b[39m\u001b[38;5;124mlength_cm\u001b[39m\u001b[38;5;124m\"\u001b[39m,\n\u001b[0;32m      8\u001b[0m                 y\u001b[38;5;241m=\u001b[39m\u001b[38;5;124m\"\u001b[39m\u001b[38;5;124mheight_cm\u001b[39m\u001b[38;5;124m\"\u001b[39m,\n\u001b[0;32m      9\u001b[0m                data\u001b[38;5;241m=\u001b[39mfish,\n\u001b[0;32m     10\u001b[0m                hue\u001b[38;5;241m=\u001b[39m\u001b[38;5;124m\"\u001b[39m\u001b[38;5;124mmass_g\u001b[39m\u001b[38;5;124m\"\u001b[39m)\n\u001b[0;32m     12\u001b[0m \u001b[38;5;66;03m#Modeling with two numeric explanatory variables\u001b[39;00m\n\u001b[0;32m     13\u001b[0m mdl_mass_vs_both \u001b[38;5;241m=\u001b[39m ols(\u001b[38;5;124m\"\u001b[39m\u001b[38;5;124mmass_g ~ length_cm + height_cm\u001b[39m\u001b[38;5;124m\"\u001b[39m, data\u001b[38;5;241m=\u001b[39mfish)\u001b[38;5;241m.\u001b[39mfit()\n",
      "\u001b[1;31mNameError\u001b[0m: name 'sns' is not defined"
     ]
    }
   ],
   "source": [
    "#Two numeric explanatory variables\n",
    "\n",
    "#Visualizing three numeric variables\n",
    "#3D scatterplot\n",
    "#or a 2d scatterplot using color for the 3rd variable\n",
    "\n",
    "sns.scatterplot(x=\"length_cm\",\n",
    "                y=\"height_cm\",\n",
    "               data=fish,\n",
    "               hue=\"mass_g\")\n",
    "\n",
    "#Modeling with two numeric explanatory variables, no interaction\n",
    "mdl_mass_vs_both = ols(\"mass_g ~ length_cm + height_cm\", data=fish).fit()\n",
    "\n",
    "print(mdl_mass_vs_both.params)\n",
    "\n",
    "#The prediction flow\n",
    "from itertools import product\n",
    "length_cm = np.arange(5, 61, 5)\n",
    "height_cm = np.arange(2, 21, 2)\n",
    "\n",
    "p = product(length_cm, height_cm)\n",
    "\n",
    "explanatory_data = pd.DataFrame(p, columns = [\"length_cm\",\n",
    "                                             \"height_cm\"])\n",
    "\n",
    "prediction_data = explanatory_data.assign(\n",
    "    mass_g = mdl_mass_vs_both.predict(explanatory_data))\n",
    "\n",
    "print(prediction_data)\n",
    "\n",
    "#plotting predictions\n",
    "\n",
    "#plot with actual data points\n",
    "sns.scatterplot(x=\"length_cm\",\n",
    "                y=\"height_cm\",\n",
    "                data=fish,\n",
    "                hue=\"mass_g\")\n",
    "\n",
    "#plot with prediction data points\n",
    "sns.scatterplot(x=\"length_cm\",\n",
    "                y=\"height_cm\",\n",
    "                data=prediction_data,\n",
    "                hue=\"mass_g\",\n",
    "                legend=False,\n",
    "                marker=\"s\")\n",
    "\n",
    "plt.show()\n",
    "\n",
    "#including an interaction, gives one extra slope term for the effect of the interaction between the two explanatory variables\n",
    "\n",
    "mdl_mass_vs_both_inter = ols(\"mass_g ~ length_cm * height_cm\", data=fish).fit()\n",
    "\n",
    "print(mdl_mass_vs_both_inter.params)\n",
    "\n",
    "#prediction flow the same as before, only change is name of model\n",
    "from itertools import product\n",
    "length_cm = np.arange(5, 61, 5)\n",
    "height_cm = np.arange(2, 21, 2)\n",
    "\n",
    "p = product(length_cm, height_cm)\n",
    "\n",
    "explanatory_data = pd.DataFrame(p, columns = [\"length_cm\",\n",
    "                                             \"height_cm\"])\n",
    "\n",
    "prediction_data = explanatory_data.assign(\n",
    "    mass_g = mdl_mass_vs_both_inter.predict(explanatory_data))\n",
    "\n",
    "#plotting code the same as before, but colors will be slightly different\n",
    "sns.scatterplot(x=\"length_cm\",\n",
    "                y=\"height_cm\",\n",
    "                data=fish,\n",
    "                hue=\"mass_g\")\n",
    "\n",
    "#plot with prediction data points\n",
    "sns.scatterplot(x=\"length_cm\",\n",
    "                y=\"height_cm\",\n",
    "                data=prediction_data,\n",
    "                hue=\"mass_g\",\n",
    "                legend=False,\n",
    "                marker=\"s\")\n",
    "\n",
    "plt.show()"
   ]
  },
  {
   "cell_type": "code",
   "execution_count": null,
   "id": "fe0d2b8a",
   "metadata": {},
   "outputs": [],
   "source": [
    "#Datacamp Chapter Review\n",
    "\n",
    "Visualizing three numeric variables\n",
    "There are also some \"flat\" alternatives to 3D plots that provide easier interpretation, though they require a little thinking about to make. A good approach is plotting the two numeric explanatory variables on the x- and y-axis of a scatter plot, and coloring the points according to the response variable.\n",
    "\n",
    "taiwan_real_estate is available.\n",
    "\n",
    "# Transform dist_to_mrt_m to sqrt_dist_to_mrt_m\n",
    "taiwan_real_estate[\"sqrt_dist_to_mrt_m\"] = np.sqrt(taiwan_real_estate[\"dist_to_mrt_m\"])\n",
    "\n",
    "# Draw a scatter plot of sqrt_dist_to_mrt_m vs. n_convenience colored by price_twd_msq\n",
    "sns.scatterplot(x=\"n_convenience\",\n",
    "                y=\"sqrt_dist_to_mrt_m\",\n",
    "                data=taiwan_real_estate,\n",
    "                hue=\"price_twd_msq\",\n",
    "                legend=False,\n",
    "                marker=\"s\")\n",
    "\n",
    "# Show the plot\n",
    "plt.show()\n",
    "\n",
    "# Fit linear regression of price vs. no. of conv. stores and sqrt dist. to nearest MRT, no interaction\n",
    "mdl_price_vs_conv_dist = ols(\"price_twd_msq ~ n_convenience + sqrt_dist_to_mrt_m\", data=taiwan_real_estate).fit()\n",
    "\n",
    "# Create n_convenience as an array of numbers from 0 to 10\n",
    "n_convenience = np.arange(0, 11)\n",
    "\n",
    "# Create sqrt_dist_to_mrt_m as an array of numbers from 0 to 80 in steps of 10\n",
    "sqrt_dist_to_mrt_m = np.arange(0, 81, 10)\n",
    "\n",
    "# Create p as all combinations of values of n_convenience and sqrt_dist_to_mrt_m\n",
    "p = product(n_convenience, sqrt_dist_to_mrt_m)\n",
    "\n",
    "# Transform p to a DataFrame and name the columns\n",
    "explanatory_data = pd.DataFrame(p, columns = [\"n_convenience\", \"sqrt_dist_to_mrt_m\"])\n",
    "\n",
    "# Add column of predictions\n",
    "prediction_data = explanatory_data.assign(\n",
    "    price_twd_msq = mdl_price_vs_conv_dist.predict(explanatory_data)\n",
    ")\n",
    "\n",
    "# See the result  \n",
    "print(prediction_data)\n",
    "\n",
    "# Create scatter plot of taiwan_real_estate\n",
    "sns.scatterplot(x=\"n_convenience\",\n",
    "                y=\"sqrt_dist_to_mrt_m\",\n",
    "                data=taiwan_real_estate,\n",
    "                hue=\"price_twd_msq\")\n",
    "\n",
    "# Create scatter plot of prediction_data without legend\n",
    "sns.scatterplot(x=\"n_convenience\",\n",
    "                y=\"sqrt_dist_to_mrt_m\",\n",
    "                data=prediction_data,\n",
    "                hue=\"price_twd_msq\",\n",
    "                legend=False,\n",
    "                marker=\"s\")\n",
    "\n",
    "# Show the plot\n",
    "plt.show()\n",
    "\n",
    "#changing the model to include an interaction\n",
    "# Convert to mdl_price_vs_conv_dist_inter\n",
    "mdl_price_vs_conv_dist_inter = ols(\"price_twd_msq ~ n_convenience * sqrt_dist_to_mrt_m\", data=taiwan_real_estate).fit()\n",
    "\n",
    "# Use mdl_price_vs_conv_dist_inter to make predictions\n",
    "n_convenience = np.arange(0, 11)\n",
    "sqrt_dist_to_mrt_m = np.arange(0, 81, 10)\n",
    "p = product(n_convenience, sqrt_dist_to_mrt_m)\n",
    "explanatory_data = pd.DataFrame(p, columns=[\"n_convenience\", \"sqrt_dist_to_mrt_m\"])\n",
    "prediction_data = explanatory_data.assign(\n",
    "    price_twd_msq = mdl_price_vs_conv_dist_inter.predict(explanatory_data))\n",
    "\n",
    "sns.scatterplot(x=\"n_convenience\", y=\"sqrt_dist_to_mrt_m\", data=taiwan_real_estate, hue=\"price_twd_msq\", legend=False)\n",
    "\n",
    "sns.scatterplot(x=\"n_convenience\", y=\"sqrt_dist_to_mrt_m\", data=prediction_data, hue=\"price_twd_msq\", marker=\"s\")\n",
    "\n",
    "plt.show()"
   ]
  },
  {
   "cell_type": "code",
   "execution_count": null,
   "id": "7bc9fcea",
   "metadata": {},
   "outputs": [],
   "source": [
    "#Faceting by group\n",
    "\n",
    "# Prepare the grid using fish, for each species category, colored by mass_g\n",
    "grid = sns.FacetGrid (data=fish,\n",
    "                        col=\"species\",\n",
    "                         hue=\"mass_g\",\n",
    "                         col_wrap=2,\n",
    "                         palette=\"plasma\")\n",
    "\n",
    "# Plot the scatterplots with length_cm on the x-axis and height_cm on the y-axis\n",
    "grid.map(sns.scatterplot,\n",
    "            \"length_cm\",\n",
    "            \"height_cm\")\n",
    "\n",
    "plt.show()\n",
    "\n",
    "#Models with different levels of interaction\n",
    "\n",
    "#No interactions\n",
    "ols(\"mass_g ~ length_cm + height_cm + species + 0\", data=fish).fit()\n",
    "\n",
    "#Two-way interaction between pairs of variables\n",
    "ols(\n",
    "    \"mass_g ~ length_cm + height_cm + species + length_cm:height_cm + \n",
    "    length_cm:species + height_cm:species + 0\", data=fish).fit()\n",
    "    \n",
    "#New syntax for two-way interaction\n",
    "ols(\n",
    "    \"mass_g ~ (length_cm + height_cm + species) **2 + 0\", data=fish).fit()\n",
    "    \n",
    "#Three-way interaction between all three variables\n",
    "    \n",
    "ols(\n",
    "    \"mass_g ~ length_cm + height_cm + species + \n",
    "    length_cm:height_cm + length_cm:species + height_cm:species + length_cm:height_cm:species + 0\", data=fish).fit()\n",
    "\n",
    "#Can also be written as: (+ before 0 denotes to not include a global intercept in the output)\n",
    "\n",
    "ols(\"mass_g ~ length_cm * height_cm * species + 0\", data=fish).fit()\n",
    "    \n",
    "    \n",
    "#Prediction flow with extra variable\n",
    "\n",
    "mdl_mass_vs_all = ols(\n",
    "    \"mass_g ~ length_cm * height_cm * species + 0\",\n",
    "    data=fish).fit()\n",
    "\n",
    "length_cm = np.arange(5, 61, 5)\n",
    "height_cm = np.arange(2, 21, 2)\n",
    "species = fish[\"species\"].unique()\n",
    "    \n",
    "p = product(length_cm, height_cm, species)\n",
    "\n",
    "explanatory_data = pd.DataFrame(p, columns = [\"length_cm\",\n",
    "                                             \"height_cm\",\n",
    "                                             \"species\"])\n",
    "\n",
    "prediction_data = explanatory_data.assign(\n",
    "    mass_g = mdl_mass_vs_all.predict(explanatory_data))\n",
    "\n",
    "print(prediction_data)"
   ]
  },
  {
   "cell_type": "markdown",
   "id": "dd00d845",
   "metadata": {},
   "source": [
    "How linear regression works.\n",
    "\n",
    "Residuals will show how far off the model is from a perfect line. We want to make those line as small as possible\n",
    "\n",
    "The simplest idea (which doesn't work)\n",
    "- Take the sum of all the residuals\n",
    "- Some residuals are negative\n",
    "\n",
    "The next simplest idea (which does work)\n",
    "- Take the square of each residual, and add up those squares\n",
    "- this is called the sum of squares\n",
    "\n",
    "Here we use the quadratic equation to find the minimum point of a function\n",
    "\n",
    "y = x^2 - x + 10\n",
    "\n",
    "x = np.arange(-4, 5, 0.1)\n",
    "y = x ** 2 - x + 10\n",
    "\n",
    "xy_data = pd.DataFrame({\"x\": x,\n",
    "                        \"y\": y})\n",
    "                        \n",
    "sns.lineplot(x=\"x\",\n",
    "            y=\"y\",\n",
    "            data=xy_data)\n",
    "            \n",
    "Can then take the derivate and use calculus to find the minimum point.\n",
    "\n",
    "Python can do this for us.\n",
    "\n",
    "from scipy.optimize import minimize\n",
    "\n",
    "def cal_quadratic(x):\n",
    "    y = x ** 2 - x + 10\n",
    "    return y\n",
    "\n",
    "minimize(fun=calc_quadratic,\n",
    "        x0=3)\n",
    "        \n",
    "A linear regresion algorithm\n",
    "- Define a function to calculate the sum of squares metric.\n",
    "\n",
    "def calc_sum_of_squares(coeffs):\n",
    "    intercept, slope = coeffs\n",
    "\n",
    "minimize(\n",
    "    fun=calc_sum_of_squares,\n",
    "    x0=0\n",
    ")\n",
    "\n",
    "-- Sum of squares is a measure of how far the predicted responses are from the actual responses, so a smaller number is better.\n",
    "\n"
   ]
  },
  {
   "cell_type": "code",
   "execution_count": null,
   "id": "2c811602",
   "metadata": {},
   "outputs": [],
   "source": [
    "# Complete the function\n",
    "def calc_sum_of_squares(coeffs):\n",
    "    # Unpack coeffs\n",
    "    intercept, slope = coeffs\n",
    "    # Calculate predicted y-values\n",
    "    y_pred = intercept + slope * x_actual\n",
    "    # Calculate differences between y_actual and y_pred\n",
    "    y_diff = y_pred - y_actual\n",
    "    # Calculate sum of squares\n",
    "    sum_sq = np.sum(y_diff ** 2)\n",
    "    # Return sum of squares\n",
    "    return sum_sq\n",
    "\n",
    "# Call minimize on calc_sum_of_squares  \n",
    "print(minimize(fun=calc_sum_of_squares,\n",
    "               x0=[0, 0]))\n",
    "\n",
    "# Compare the output with the ols() call.\n",
    "print(ols(\"price_twd_msq ~ n_convenience\", data=taiwan_real_estate).fit().params)\n",
    "\n",
    "#The results you got here with just a few lines of code are identical to the finely-tuned results from ols(). \n",
    "#All you needed was a function to calculate the sum of squares metric, and the minimize() function worked its \n",
    "#magic to find where this function had its minimum value. "
   ]
  },
  {
   "cell_type": "code",
   "execution_count": 5,
   "id": "a246ebb0",
   "metadata": {},
   "outputs": [
    {
     "ename": "SyntaxError",
     "evalue": "invalid syntax (69750859.py, line 43)",
     "output_type": "error",
     "traceback": [
      "\u001b[1;36m  Input \u001b[1;32mIn [5]\u001b[1;36m\u001b[0m\n\u001b[1;33m    data=churn,\u001b[0m\n\u001b[1;37m    ^\u001b[0m\n\u001b[1;31mSyntaxError\u001b[0m\u001b[1;31m:\u001b[0m invalid syntax\n"
     ]
    }
   ],
   "source": [
    "#Multiple Logistic Regression\n",
    "\n",
    "#logit()\n",
    "\n",
    "from statsmodels.formula.api import logit\n",
    "\n",
    "logit(\"response ~ explanatory\", data=dataset).fit()\n",
    "\n",
    "#or multiple variables with no interactions\n",
    "\n",
    "logit(\"response ~ explanatory1 + explanatory2\", data=dataset).fit()\n",
    "\n",
    "#or multiple variables with interactions\n",
    "\n",
    "logit(\"response ~ explanatory1 * explanatory2\", data=dataset).fit()\n",
    "\n",
    "#confusion matrix to produce the four possible outcomes\n",
    "\n",
    "conf_matrix = mdl_logit.pred_table()\n",
    "\n",
    "print(conf_matrix)\n",
    "\n",
    "#prediction flow\n",
    "\n",
    "from itertools import product\n",
    "\n",
    "explanatory1 = some_values\n",
    "explanatory2 = some_values\n",
    "\n",
    "p = product(explanatory1, explanatory2)\n",
    "explanatory_data = pd.DataFrame(p,\n",
    "                                columns = [\"explanatory1\",\n",
    "                                          \"explanatory2\"])\n",
    "\n",
    "prediction_data = explanatory_data.assign(\n",
    "    mass_g = mdl_logit.predict(explanatory_data))\n",
    "\n",
    "#for visualisation create a column with prediction data and most likely outcome\n",
    "\n",
    "prediction_data[\"most_likely_outcome\"] = np.round(prediction_data[\"has_churned\"])\n",
    "\n",
    "sns.scatterplot(...\n",
    "               data=churn,\n",
    "               hue=\"has_churned\",\n",
    "               ...)\n",
    "\n",
    "sns.scatterplot(...\n",
    "               data=prediction_data,\n",
    "               hue=\"most_likely_outcome\",\n",
    "               ...)"
   ]
  },
  {
   "cell_type": "code",
   "execution_count": null,
   "id": "eebe537a",
   "metadata": {},
   "outputs": [],
   "source": [
    "#Running from beginning to end\n",
    "\n",
    "# Import logit\n",
    "from statsmodels.formula.api import logit\n",
    "\n",
    "# Fit a logistic regression of churn status vs. length of relationship, recency, and an interaction\n",
    "mdl_churn_vs_both_inter = logit(\"has_churned ~ time_since_first_purchase * time_since_last_purchase\", data=churn).fit()\n",
    "\n",
    "# Print the coefficients\n",
    "print(mdl_churn_vs_both_inter.params)\n",
    "\n",
    "# Create time_since_first_purchase\n",
    "time_since_first_purchase = np.arange(-2, 4.1, 0.1)\n",
    "\n",
    "# Create time_since_last_purchase\n",
    "time_since_last_purchase = np.arange(-1, 6.1, 0.1)\n",
    "\n",
    "# Create p as all combinations of values of time_since_first_purchase and time_since_last_purchase\n",
    "p = product(time_since_first_purchase, time_since_last_purchase)\n",
    "\n",
    "# Transform p to a DataFrame and name the columns\n",
    "explanatory_data = pd.DataFrame(p, columns=[\"time_since_first_purchase\",\n",
    "                                            \"time_since_last_purchase\"])\n",
    "\n",
    "# Create prediction_data\n",
    "prediction_data = explanatory_data.assign(\n",
    "    has_churned = mdl_churn_vs_both_inter.predict(explanatory_data)\n",
    ")\n",
    "\n",
    "# Create most_likely_outcome\n",
    "prediction_data[\"most_likely_outcome\"] = np.round(prediction_data[\"has_churned\"])\n",
    "\n",
    "# See the result\n",
    "print(prediction_data)\n",
    "\n",
    "# Using churn, plot recency vs. length of relationship, colored by churn status\n",
    "sns.scatterplot(x=\"time_since_first_purchase\",\n",
    "                y=\"time_since_last_purchase\",\n",
    "                data=churn, \n",
    "                hue=\"has_churned\")\n",
    "\n",
    "# Using prediction_data, plot recency vs. length of relationship, colored by most_likely_outcome\n",
    "sns.scatterplot(x=\"time_since_first_purchase\",\n",
    "               y=\"time_since_last_purchase\",\n",
    "     alpha=0.2,\n",
    "     data=prediction_data,\n",
    "     hue=\"most_likely_outcome\",\n",
    "     legend=False)\n",
    "\n",
    "# Show the plot\n",
    "plt.show()\n",
    "\n",
    "# Create conf_matrix\n",
    "conf_matrix = mdl_churn_vs_both_inter.pred_table()\n",
    "\n",
    "# Extract TN, TP, FN and FP from conf_matrix\n",
    "TN = conf_matrix[0,0]\n",
    "TP = conf_matrix[1,1]\n",
    "FN = conf_matrix[1,0]\n",
    "FP = conf_matrix[0,1]\n",
    "\n",
    "# Calculate and print the accuracy\n",
    "accuracy = (TN + TP) / (TN + TP + FN + FP)\n",
    "print(\"accuracy\", accuracy)\n",
    "\n",
    "# Calculate and print the sensitivity\n",
    "sensitivity = TP / (FN + TP)\n",
    "print(\"sensitivity\", sensitivity)\n",
    "\n",
    "# Calculate and print the specificity\n",
    "specificity = TN / (TN + FP)\n",
    "print(\"specificity\", specificity)\n",
    "\n"
   ]
  },
  {
   "cell_type": "code",
   "execution_count": null,
   "id": "5a862933",
   "metadata": {},
   "outputs": [],
   "source": [
    "#The logistic distribution\n",
    "\n",
    "#Gaussian probability density function (PDF)\n",
    "\n",
    "from scipy.stats import norm\n",
    "\n",
    "x = np.arange(-4, 4.05, 0.05)\n",
    "\n",
    "gauss_dist = pd.DataFrame ({\n",
    "    \"x\": x,\n",
    "    \"gauss_pdf\": norm.pdf(x)}\n",
    ")\n",
    "\n",
    "sns.lineplot (x=\"x\",\n",
    "              y=\"gauss_pdf\",\n",
    "              data=gauss_dist)\n",
    "\n",
    "#guassian inverse CDF\n",
    "\n",
    "p = np.arange(0.001, 1, 0.001)\n",
    "\n",
    "gauss_dist_inv = pd.DataFrame({\n",
    "    \"p\": p,\n",
    "    \"gauss_inv_cdf\": norm.ppf(p)}\n",
    ")\n",
    "\n",
    "sns.lineplot (x=\"p\",\n",
    "              y=\"gauss_inv_cdf\",\n",
    "              data=gauss_dist)\n",
    "\n",
    "#Logistic PDF\n",
    "\n",
    "from scipy.stats import logistic\n",
    "\n",
    "x = np.arange(-4, 4.05, 0.05)\n",
    "\n",
    "logistic_dist = pd.DataFrame ({\n",
    "    \"x\": x,\n",
    "    \"log_pdf\": logistic.pdf(x)}\n",
    ")\n",
    "\n",
    "sns.lineplot(x=\"x\",\n",
    "             y=\"log_pdf\",\n",
    "             data=logistic_dist)\n",
    "\n",
    "#Logistic distribution CDF is also called the logistic function\n",
    "#Logistic distribution inverse CDF is also called the logit function"
   ]
  },
  {
   "cell_type": "code",
   "execution_count": null,
   "id": "f9f89276",
   "metadata": {},
   "outputs": [],
   "source": [
    "#Unit activity\n",
    "\n",
    "# Import logistic\n",
    "from scipy.stats import logistic\n",
    "\n",
    "# Create x ranging from minus ten to ten in steps of 0.1\n",
    "x = np.arange(-10, 10.1, 0.1)\n",
    "\n",
    "# Create logistic_dist\n",
    "logistic_dist = pd.DataFrame({\"x\": x,\n",
    "                              \"log_cdf\": logistic.cdf(x),\n",
    "                              \"log_cdf_man\": 1 / (1 + np.exp(-x))})\n",
    "\n",
    "# Using logistic_dist, plot log_cdf vs. x\n",
    "sns.lineplot(x=\"x\",\n",
    "            y=\"log_cdf\",\n",
    "            data=logistic_dist)\n",
    "\n",
    "# Show the plot\n",
    "plt.show()\n",
    "\n",
    "# Create p ranging from 0.001 to 0.999 in steps of 0.001\n",
    "p = np.arange(0.001, 1, 0.001)\n",
    "\n",
    "# Create logistic_dist_inv\n",
    "logistic_dist_inv = pd.DataFrame({\"p\": p,\n",
    "                                  \"logit\": logistic.ppf(p),\n",
    "                                  \"logit_man\": np.log(p / (1 - p))})\n",
    "\n",
    "# Using logistic_dist_inv, plot logit vs. p\n",
    "sns.lineplot(x=\"p\",\n",
    "            y=\"logit\",\n",
    "            data=logistic_dist_inv)\n",
    "\n",
    "# Show the plot\n",
    "plt.show()\n",
    "\n",
    "# Complete the function\n",
    "def calc_neg_log_likelihood(coeffs):\n",
    "    # Unpack coeffs\n",
    "    intercept, slope = coeffs\n",
    "    # Calculate predicted y-values\n",
    "    y_pred = logistic.cdf(intercept + slope * x_actual)\n",
    "    # Calculate log-likelihood\n",
    "    log_likelihood = np.log(y_pred) * y_actual + np.log(1 - y_pred) * (1 - y_actual)\n",
    "    # Calculate negative sum of log_likelihood\n",
    "    neg_sum_ll = -np.sum(log_likelihood)\n",
    "    # Return negative sum of log_likelihood\n",
    "    return neg_sum_ll\n",
    "  \n",
    "# Call minimize on calc_sum_of_squares  \n",
    "print(minimize(fun=calc_neg_log_likelihood,\n",
    "               x0=[0, 0]))\n",
    "\n",
    "# Compare the output with the logit() call.\n",
    "print(logit(\"has_churned ~ time_since_last_purchase\", data=churn).fit().params)"
   ]
  },
  {
   "cell_type": "code",
   "execution_count": null,
   "id": "c0a72181",
   "metadata": {},
   "outputs": [],
   "source": [
    "# Fit a logistic regression model\n",
    "from sklearn import linear_model\n",
    "X = basetable[[\"age\",\"gender_F\",\"time_since_last_gift\"]]\n",
    "y = basetable[[\"target\"]]\n",
    "logreg = linear_model.LogisticRegression()\n",
    "logreg.fit(X, y)\n",
    "\n",
    "# Create a DataFrame new_data from current_data that has only the relevant predictors \n",
    "new_data = current_data[[\"age\", \"gender_F\", \"time_since_last_gift\"]]\n",
    "\n",
    "# Make a prediction for each observation in new_data and assign it to predictions\n",
    "predictions = logreg.predict_proba(new_data)\n",
    "print(predictions[0:5])\n",
    "\n",
    "# Sort the predictions\n",
    "predictions_sorted = predictions.sort_values([\"probability\"])\n",
    "\n",
    "# Print the row of predictions_sorted that has the donor that is most likely to donate\n",
    "print(predictions_sorted.tail(1))"
   ]
  },
  {
   "cell_type": "code",
   "execution_count": null,
   "id": "2c24b834",
   "metadata": {},
   "outputs": [],
   "source": [
    "#Variable selection for logistic regression\n",
    "\n",
    "# Make predictions\n",
    "predictions = logreg.predict_proba(X)\n",
    "predictions_target = predictions[:,1]\n",
    "\n",
    "# Calculate the AUC value\n",
    "auc = roc_auc_score(y, predictions_target)\n",
    "print(round(auc,2))\n",
    "# Find the candidate variables\n",
    "candidate_variables = list(basetable.columns.values)\n",
    "candidate_variables.remove(\"target\")\n",
    "\n",
    "# Create appropriate DataFrames\n",
    "X_1 = basetable[variables_1]\n",
    "X_2 = basetable[variables_2]\n",
    "y = basetable[[\"target\"]]\n",
    "\n",
    "# Create the logistic regression model\n",
    "logreg = linear_model.LogisticRegression()\n",
    "\n",
    "# Make predictions using the first set of variables and assign the AUC to auc_1\n",
    "logreg.fit(X_1, y)\n",
    "predictions_1 = logreg.predict_proba(X_1)[:,1]\n",
    "auc_1 = roc_auc_score(y, predictions_1)\n",
    "\n",
    "# Make predictions using the second set of variables and assign the AUC to auc_2\n",
    "logreg.fit(X_2, y)\n",
    "predictions_2 = logreg.predict_proba(X_2)[:,1]\n",
    "auc_2 = roc_auc_score(y, predictions_2)\n",
    "\n",
    "# Print auc_1 and auc_2\n",
    "print(round(auc_1,2))\n",
    "print(round(auc_2,2))\n",
    "\n",
    "# Calculate the AUC of a model that uses \"max_gift\", \"mean_gift\" and \"min_gift\" as predictors\n",
    "auc_current = auc([\"max_gift\", \"mean_gift\", \"min_gift\"], [\"target\"], basetable)\n",
    "print(round(auc_current,4))\n",
    "\n",
    "# Calculate which variable among \"age\" and \"gender_F\" should be added to the variables \"max_gift\", \"mean_gift\" and \"min_gift\"\n",
    "next_variable = next_best([\"max_gift\", \"mean_gift\", \"min_gift\"], [\"age\", \"gender_F\"], [\"target\"], basetable)\n",
    "print(next_variable)\n",
    "\n",
    "# Calculate the AUC of a model that uses \"max_gift\", \"mean_gift\", \"min_gift\" and \"age\" as predictors\n",
    "auc_current_age = auc([\"max_gift\", \"mean_gift\", \"min_gift\", \"age\"], [\"target\"], basetable)\n",
    "print(round(auc_current_age,4))\n",
    "\n",
    "# Calculate the AUC of a model that uses \"max_gift\", \"mean_gift\", \"min_gift\" and \"gender_F\" as predictors\n",
    "auc_current_gender_F = auc([\"max_gift\", \"mean_gift\", \"min_gift\", \"gender_F\"], [\"target\"], basetable)\n",
    "print(round(auc_current_gender_F,4))\n",
    "\n",
    "# Initialize the current variables\n",
    "current_variables = []\n",
    "\n",
    "# The forward stepwise variable selection procedure\n",
    "number_iterations = 5\n",
    "for i in range(0, number_iterations):\n",
    "    next_variable = next_best(current_variables, candidate_variables, [\"target\"], basetable)\n",
    "    current_variables = current_variables + [next_variable]\n",
    "    candidate_variables.remove(next_variable)\n",
    "    print(\"Variable added in step \" + str(i+1)  + \" is \" + next_variable + \".\")\n",
    "print(current_variables)\n",
    "\n",
    "#Calculating AUC of individual variables\n",
    "import numpy as np\n",
    "\n",
    "# Calculate the AUC of the model using min_gift only\n",
    "auc_min_gift = auc([\"min_gift\"], [\"target\"], basetable)\n",
    "print(round(auc_min_gift,2))\n",
    "\n",
    "# Calculate the AUC of the model using income_high only\n",
    "auc_income_high = auc([\"income_high\"], [\"target\"], basetable)\n",
    "print(round(auc_income_high,2))\n",
    "\n",
    "# Calculate the correlation between min_gift and mean_gift\n",
    "correlation = np.corrcoef(basetable[\"min_gift\"], basetable[\"mean_gift\"])[0,1]\n",
    "print(round(correlation,2))\n",
    "\n",
    "\n",
    "\n"
   ]
  },
  {
   "cell_type": "code",
   "execution_count": null,
   "id": "ade3d0d6",
   "metadata": {},
   "outputs": [],
   "source": [
    "#Evaluating a model by creating a train and test set\n",
    "\n",
    "# Load the partitioning module\n",
    "from sklearn.model_selection import train_test_split\n",
    "\n",
    "# Create DataFrames with variables and target\n",
    "X = basetable.drop(\"target\", 1)\n",
    "y = basetable[\"target\"]\n",
    "\n",
    "# Carry out 50-50 partititioning with stratification\n",
    "X_train, X_test, y_train, y_test = train_test_split(X, y, test_size = 0.5, stratify = y)\n",
    "\n",
    "# Create the final train and test basetables\n",
    "train = pd.concat([X_train, y_train], axis=1)\n",
    "test = pd.concat([X_test, y_test], axis=1)\n",
    "\n",
    "# Check whether train and test have same percentage targets\n",
    "print(round(sum(train[\"target\"])/len(train), 2))\n",
    "print(round(sum(test[\"target\"])/len(test), 2))\n",
    "\n",
    "#calculating the auc of a model built on a train set and evaluated on a test set\n",
    "\n",
    "# Load the partitioning module\n",
    "from sklearn.model_selection import train_test_split\n",
    "\n",
    "# Create DataFrames with variables and target\n",
    "X = basetable.drop('target', 1)\n",
    "y = basetable[\"target\"]\n",
    "\n",
    "# Carry out 70-30 partititioning with stratification, test size = 0.3 will train the set that contains 70% of the data\n",
    "X_train, X_test, y_train, y_test = train_test_split(X, y, test_size = 0.3, stratify = y)\n",
    "\n",
    "# Create the final train and test basetables\n",
    "train = pd.concat([X_train, y_train], axis=1)\n",
    "test = pd.concat([X_test, y_test], axis=1)\n",
    "\n",
    " # Apply the auc_train_test function\n",
    "auc_train, auc_test = auc_train_test([\"age\", \"gender_F\"], [\"target\"], train, test)\n",
    "print(round(auc_train,2))\n",
    "print(round(auc_test,2))\n",
    "\n",
    "#building AUC curves\n",
    "\n",
    "# Keep track of train and test AUC values\n",
    "auc_values_train = []\n",
    "auc_values_test = []\n",
    "variables_evaluate = []\n",
    "\n",
    "# Iterate over the variables in variables\n",
    "for v in variables:\n",
    "  \n",
    "    # Add the variable\n",
    "    variables_evaluate.append(v)\n",
    "    \n",
    "    # Calculate the train and test AUC of this set of variables\n",
    "    auc_train, auc_test = auc_train_test(variables_evaluate, [\"target\"], train, test)\n",
    "    \n",
    "    # Append the values to the lists\n",
    "    auc_values_train.append(auc_train)\n",
    "    auc_values_test.append(auc_test)\n",
    "    \n",
    "# Make plot of the AUC values\n",
    "import matplotlib.pyplot as plt\n",
    "import numpy as np\n",
    "\n",
    "x = np.array(range(0,len(auc_values_train)))\n",
    "y_train = np.array(auc_values_train)\n",
    "y_test = np.array(auc_values_test)\n",
    "plt.xticks(x, variables, rotation = 90)\n",
    "plt.plot(x,y_train)\n",
    "plt.plot(x,y_test)\n",
    "plt.ylim((0.6, 0.8))\n",
    "plt.show()"
   ]
  },
  {
   "cell_type": "code",
   "execution_count": null,
   "id": "57753b35",
   "metadata": {},
   "outputs": [],
   "source": [
    "#cumulative gains curve\n",
    "\n",
    "# Import the matplotlib.pyplot module \n",
    "import matplotlib.pyplot as plt\n",
    "\n",
    "# Import the scikitplot module\n",
    "import scikitplot as skplt\n",
    "\n",
    "# Plot the cumulative gains graph\n",
    "skplt.metrics.plot_cumulative_gain(targets_test, predictions_test)\n",
    "plt.show()\n",
    "\n",
    "#observe cumulative gains curve of a random model that aligns with the baseline\n",
    "\n",
    "# Import the modules\n",
    "import random\n",
    "import matplotlib.pyplot as plt\n",
    "import scikitplot as skplt\n",
    "\n",
    "# Generate random predictions\n",
    "random_predictions = [random.uniform(0,1) for r in range(len(targets_test))]\n",
    "\n",
    "# Adjust random predictions\n",
    "random_predictions = [(r, 1 - r) for r in random_predictions]\n",
    "\n",
    "# Plot the cumulative gains graph\n",
    "skplt.metrics.plot_cumulative_gain(targets_test, random_predictions)\n",
    "plt.show()\n",
    "\n",
    "#The lift curve\n",
    "\n",
    "# Import the matplotlib.pyplot module \n",
    "import matplotlib.pyplot as plt\n",
    "\n",
    "# Import the scikitplot module\n",
    "import scikitplot as skplt\n",
    "\n",
    "# Plot the lift curve\n",
    "skplt.metrics.plot_lift_curve(targets_test, predictions_test)\n",
    "plt.show()\n",
    "\n",
    "# Generate perfect predictions\n",
    "perfect_predictions = [(1-target , target) for target in targets_test[\"target\"]]\n",
    "\n",
    "# Plot the lift curve\n",
    "skplt.metrics.plot_lift_curve(targets_test, perfect_predictions)\n",
    "plt.show()\n",
    "\n",
    "#business case using lift curve\n",
    "\n",
    "# Plot the lift graph\n",
    "skplt.metrics.plot_lift_curve(targets_test, predictions_test)\n",
    "plt.show()\n",
    "\n",
    "# Read the lift at 40% (round it up to the upper tenth)\n",
    "perc_selected = 0.4\n",
    "lift = 1.5\n",
    "\n",
    "# Information about the campaign\n",
    "population_size, target_incidence, campaign_cost, campaign_reward = 100000, 0.01, 1, 100\n",
    "    \n",
    "# Profit if all donors are targeted\n",
    "profit_all = profit(target_incidence, 1, population_size, campaign_cost, campaign_reward)\n",
    "print(profit_all)\n",
    "\n",
    "# Profit if top 40% of donors are targeted\n",
    "profit_40 = profit(lift * target_incidence, 0.4, population_size, campaign_cost, campaign_reward)\n",
    "print(profit_40)\n",
    "\n",
    "#Business case using cumulative gains curve\n",
    "\n",
    "# Plot the cumulative gains\n",
    "skplt.metrics.plot_cumulative_gain(targets_test, predictions_test)\n",
    "plt.show()\n",
    "\n",
    "# Number of targets you want to reach\n",
    "number_targets_toreach = 30000 / 50\n",
    "perc_targets_toreach = number_targets_toreach / 1000\n",
    "cumulative_gains = 0.4\n",
    "number_donors_toreach = cumulative_gains * 10000\n",
    "print(number_donors_toreach)"
   ]
  }
 ],
 "metadata": {
  "kernelspec": {
   "display_name": "Python 3 (ipykernel)",
   "language": "python",
   "name": "python3"
  },
  "language_info": {
   "codemirror_mode": {
    "name": "ipython",
    "version": 3
   },
   "file_extension": ".py",
   "mimetype": "text/x-python",
   "name": "python",
   "nbconvert_exporter": "python",
   "pygments_lexer": "ipython3",
   "version": "3.9.15"
  }
 },
 "nbformat": 4,
 "nbformat_minor": 5
}
