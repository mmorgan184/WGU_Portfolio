{
 "cells": [
  {
   "cell_type": "code",
   "execution_count": 82,
   "id": "dc76b92e",
   "metadata": {},
   "outputs": [
    {
     "name": "stdout",
     "output_type": "stream",
     "text": [
      "<class 'pandas.core.frame.DataFrame'>\n",
      "RangeIndex: 10175 entries, 0 to 10174\n",
      "Columns: 953 entries, SEQN to WHQ520\n",
      "dtypes: float64(944), int64(7), object(2)\n",
      "memory usage: 74.0+ MB\n"
     ]
    }
   ],
   "source": [
    "# Data Analytics imports\n",
    "import pandas as pd\n",
    "import numpy as np\n",
    "\n",
    "#Loading the CSV of the default dataset\n",
    "df = pd.read_csv(r'C:\\Users\\mmorg\\WGU\\D210\\CDC Data\\questionnaire.csv')\n",
    "\n",
    "df.info()"
   ]
  },
  {
   "cell_type": "code",
   "execution_count": 83,
   "id": "e574c1fc",
   "metadata": {
    "scrolled": false
   },
   "outputs": [
    {
     "name": "stdout",
     "output_type": "stream",
     "text": [
      "SEQN           0\n",
      "ACD011A     4416\n",
      "ACD011B    10159\n",
      "ACD011C    10004\n",
      "ACD040      7801\n",
      "           ...  \n",
      "WHD140      4072\n",
      "WHQ150      4155\n",
      "WHQ030M     8697\n",
      "WHQ500      8697\n",
      "WHQ520      8697\n",
      "Length: 953, dtype: int64\n"
     ]
    }
   ],
   "source": [
    "#Detect null values\n",
    "print(df.isnull().sum())"
   ]
  },
  {
   "cell_type": "code",
   "execution_count": 84,
   "id": "20293b20",
   "metadata": {},
   "outputs": [
    {
     "name": "stdout",
     "output_type": "stream",
     "text": [
      "<class 'pandas.core.frame.DataFrame'>\n",
      "RangeIndex: 10175 entries, 0 to 10174\n",
      "Data columns (total 6 columns):\n",
      " #   Column  Non-Null Count  Dtype  \n",
      "---  ------  --------------  -----  \n",
      " 0   SEQN    10175 non-null  int64  \n",
      " 1   BPQ020  6464 non-null   float64\n",
      " 2   MCQ080  6464 non-null   float64\n",
      " 3   MCQ010  9769 non-null   float64\n",
      " 4   DIQ010  9769 non-null   float64\n",
      " 5   IND235  9806 non-null   float64\n",
      "dtypes: float64(5), int64(1)\n",
      "memory usage: 477.1 KB\n"
     ]
    }
   ],
   "source": [
    "df = df[['SEQN', 'BPQ020', 'MCQ080', 'MCQ010', 'DIQ010', 'IND235']]\n",
    "\n",
    "df.info()"
   ]
  },
  {
   "cell_type": "code",
   "execution_count": 85,
   "id": "0cac2f69",
   "metadata": {},
   "outputs": [
    {
     "name": "stdout",
     "output_type": "stream",
     "text": [
      "<class 'pandas.core.frame.DataFrame'>\n",
      "RangeIndex: 10175 entries, 0 to 10174\n",
      "Data columns (total 6 columns):\n",
      " #   Column                      Non-Null Count  Dtype  \n",
      "---  ------                      --------------  -----  \n",
      " 0   Respondent_Sequence_Number  10175 non-null  int64  \n",
      " 1   High_BP                     6464 non-null   float64\n",
      " 2   Overweight                  6464 non-null   float64\n",
      " 3   Asthma                      9769 non-null   float64\n",
      " 4   Diabetes                    9769 non-null   float64\n",
      " 5   Monthly_Income              9806 non-null   float64\n",
      "dtypes: float64(5), int64(1)\n",
      "memory usage: 477.1 KB\n"
     ]
    }
   ],
   "source": [
    "df = df.rename({'SEQN'    : 'Respondent_Sequence_Number', \n",
    "                'BPQ020'  : 'High_BP', \n",
    "                'MCQ080': 'Overweight',\n",
    "                'MCQ010': 'Asthma',\n",
    "                'DIQ010': 'Diabetes',\n",
    "                'IND235': 'Monthly_Income',\n",
    "}, axis ='columns')\n",
    "df.info()"
   ]
  },
  {
   "cell_type": "code",
   "execution_count": 86,
   "id": "4ba966b5",
   "metadata": {},
   "outputs": [
    {
     "name": "stdout",
     "output_type": "stream",
     "text": [
      "Respondent_Sequence_Number       0\n",
      "High_BP                       3711\n",
      "Overweight                    3711\n",
      "Asthma                         406\n",
      "Diabetes                       406\n",
      "Monthly_Income                 369\n",
      "dtype: int64\n"
     ]
    }
   ],
   "source": [
    "#Detect null values\n",
    "print(df.isnull().sum())"
   ]
  },
  {
   "cell_type": "code",
   "execution_count": 49,
   "id": "c5c9dd75",
   "metadata": {},
   "outputs": [],
   "source": [
    "df = df.dropna()"
   ]
  },
  {
   "cell_type": "code",
   "execution_count": 87,
   "id": "9e181d1d",
   "metadata": {},
   "outputs": [
    {
     "name": "stdout",
     "output_type": "stream",
     "text": [
      "Respondent_Sequence_Number       0\n",
      "High_BP                       3711\n",
      "Overweight                    3711\n",
      "Asthma                         406\n",
      "Diabetes                       406\n",
      "Monthly_Income                 369\n",
      "dtype: int64\n"
     ]
    }
   ],
   "source": [
    "#Detect null values\n",
    "print(df.isnull().sum())"
   ]
  },
  {
   "cell_type": "code",
   "execution_count": 88,
   "id": "a1fc5894",
   "metadata": {},
   "outputs": [],
   "source": [
    "# Provide a copy of the cleaned Data Set\n",
    "df.to_csv(r'C:\\Users\\mmorg\\WGU\\D210\\CDC Data\\questionnaire_clean.csv')"
   ]
  },
  {
   "cell_type": "code",
   "execution_count": 89,
   "id": "ff449fe5",
   "metadata": {},
   "outputs": [],
   "source": [
    "df_demo = pd.read_csv(r'C:\\Users\\mmorg\\WGU\\D210\\CDC Data\\demographic.csv')"
   ]
  },
  {
   "cell_type": "code",
   "execution_count": 90,
   "id": "dd5460e4",
   "metadata": {},
   "outputs": [
    {
     "name": "stdout",
     "output_type": "stream",
     "text": [
      "<class 'pandas.core.frame.DataFrame'>\n",
      "RangeIndex: 10175 entries, 0 to 10174\n",
      "Data columns (total 47 columns):\n",
      " #   Column    Non-Null Count  Dtype  \n",
      "---  ------    --------------  -----  \n",
      " 0   SEQN      10175 non-null  int64  \n",
      " 1   SDDSRVYR  10175 non-null  int64  \n",
      " 2   RIDSTATR  10175 non-null  int64  \n",
      " 3   RIAGENDR  10175 non-null  int64  \n",
      " 4   RIDAGEYR  10175 non-null  int64  \n",
      " 5   RIDAGEMN  673 non-null    float64\n",
      " 6   RIDRETH1  10175 non-null  int64  \n",
      " 7   RIDRETH3  10175 non-null  int64  \n",
      " 8   RIDEXMON  9813 non-null   float64\n",
      " 9   RIDEXAGM  4213 non-null   float64\n",
      " 10  DMQMILIZ  6261 non-null   float64\n",
      " 11  DMQADFC   543 non-null    float64\n",
      " 12  DMDBORN4  10175 non-null  int64  \n",
      " 13  DMDCITZN  10171 non-null  float64\n",
      " 14  DMDYRSUS  1908 non-null   float64\n",
      " 15  DMDEDUC3  2803 non-null   float64\n",
      " 16  DMDEDUC2  5769 non-null   float64\n",
      " 17  DMDMARTL  5769 non-null   float64\n",
      " 18  RIDEXPRG  1309 non-null   float64\n",
      " 19  SIALANG   10175 non-null  int64  \n",
      " 20  SIAPROXY  10174 non-null  float64\n",
      " 21  SIAINTRP  10175 non-null  int64  \n",
      " 22  FIALANG   10054 non-null  float64\n",
      " 23  FIAPROXY  10054 non-null  float64\n",
      " 24  FIAINTRP  10054 non-null  float64\n",
      " 25  MIALANG   7311 non-null   float64\n",
      " 26  MIAPROXY  7312 non-null   float64\n",
      " 27  MIAINTRP  7313 non-null   float64\n",
      " 28  AIALANGA  6317 non-null   float64\n",
      " 29  DMDHHSIZ  10175 non-null  int64  \n",
      " 30  DMDFMSIZ  10175 non-null  int64  \n",
      " 31  DMDHHSZA  10175 non-null  int64  \n",
      " 32  DMDHHSZB  10175 non-null  int64  \n",
      " 33  DMDHHSZE  10175 non-null  int64  \n",
      " 34  DMDHRGND  10175 non-null  int64  \n",
      " 35  DMDHRAGE  10175 non-null  int64  \n",
      " 36  DMDHRBR4  9878 non-null   float64\n",
      " 37  DMDHREDU  9881 non-null   float64\n",
      " 38  DMDHRMAR  10052 non-null  float64\n",
      " 39  DMDHSEDU  5342 non-null   float64\n",
      " 40  WTINT2YR  10175 non-null  float64\n",
      " 41  WTMEC2YR  10175 non-null  float64\n",
      " 42  SDMVPSU   10175 non-null  int64  \n",
      " 43  SDMVSTRA  10175 non-null  int64  \n",
      " 44  INDHHIN2  10042 non-null  float64\n",
      " 45  INDFMIN2  10052 non-null  float64\n",
      " 46  INDFMPIR  9390 non-null   float64\n",
      "dtypes: float64(28), int64(19)\n",
      "memory usage: 3.6 MB\n"
     ]
    }
   ],
   "source": [
    "df_demo.info()"
   ]
  },
  {
   "cell_type": "code",
   "execution_count": 92,
   "id": "2801dc84",
   "metadata": {},
   "outputs": [
    {
     "name": "stdout",
     "output_type": "stream",
     "text": [
      "SEQN           0\n",
      "SDDSRVYR       0\n",
      "RIDSTATR       0\n",
      "RIAGENDR       0\n",
      "RIDAGEYR       0\n",
      "RIDAGEMN    9502\n",
      "RIDRETH1       0\n",
      "RIDRETH3       0\n",
      "RIDEXMON     362\n",
      "RIDEXAGM    5962\n",
      "DMQMILIZ    3914\n",
      "DMQADFC     9632\n",
      "DMDBORN4       0\n",
      "DMDCITZN       4\n",
      "DMDYRSUS    8267\n",
      "DMDEDUC3    7372\n",
      "DMDEDUC2    4406\n",
      "DMDMARTL    4406\n",
      "RIDEXPRG    8866\n",
      "SIALANG        0\n",
      "SIAPROXY       1\n",
      "SIAINTRP       0\n",
      "FIALANG      121\n",
      "FIAPROXY     121\n",
      "FIAINTRP     121\n",
      "MIALANG     2864\n",
      "MIAPROXY    2863\n",
      "MIAINTRP    2862\n",
      "AIALANGA    3858\n",
      "DMDHHSIZ       0\n",
      "DMDFMSIZ       0\n",
      "DMDHHSZA       0\n",
      "DMDHHSZB       0\n",
      "DMDHHSZE       0\n",
      "DMDHRGND       0\n",
      "DMDHRAGE       0\n",
      "DMDHRBR4     297\n",
      "DMDHREDU     294\n",
      "DMDHRMAR     123\n",
      "DMDHSEDU    4833\n",
      "WTINT2YR       0\n",
      "WTMEC2YR       0\n",
      "SDMVPSU        0\n",
      "SDMVSTRA       0\n",
      "INDHHIN2     133\n",
      "INDFMIN2     123\n",
      "INDFMPIR     785\n",
      "dtype: int64\n"
     ]
    }
   ],
   "source": [
    "#Detect null values\n",
    "print(df_demo.isnull().sum())"
   ]
  },
  {
   "cell_type": "code",
   "execution_count": 93,
   "id": "88a13525",
   "metadata": {},
   "outputs": [
    {
     "name": "stdout",
     "output_type": "stream",
     "text": [
      "<class 'pandas.core.frame.DataFrame'>\n",
      "RangeIndex: 10175 entries, 0 to 10174\n",
      "Data columns (total 8 columns):\n",
      " #   Column    Non-Null Count  Dtype  \n",
      "---  ------    --------------  -----  \n",
      " 0   SEQN      10175 non-null  int64  \n",
      " 1   SDDSRVYR  10175 non-null  int64  \n",
      " 2   RIAGENDR  10175 non-null  int64  \n",
      " 3   RIDAGEYR  10175 non-null  int64  \n",
      " 4   DMDMARTL  5769 non-null   float64\n",
      " 5   DMDHHSIZ  10175 non-null  int64  \n",
      " 6   DMDHHSZA  10175 non-null  int64  \n",
      " 7   DMDHHSZB  10175 non-null  int64  \n",
      "dtypes: float64(1), int64(7)\n",
      "memory usage: 636.1 KB\n"
     ]
    }
   ],
   "source": [
    "df_demo = df_demo[['SEQN', 'SDDSRVYR', 'RIAGENDR', 'RIDAGEYR', 'DMDMARTL', 'DMDHHSIZ', 'DMDHHSZA', 'DMDHHSZB',]]\n",
    "\n",
    "df_demo.info()"
   ]
  },
  {
   "cell_type": "code",
   "execution_count": 94,
   "id": "bb3e77e1",
   "metadata": {},
   "outputs": [
    {
     "name": "stdout",
     "output_type": "stream",
     "text": [
      "<class 'pandas.core.frame.DataFrame'>\n",
      "RangeIndex: 10175 entries, 0 to 10174\n",
      "Data columns (total 8 columns):\n",
      " #   Column                      Non-Null Count  Dtype  \n",
      "---  ------                      --------------  -----  \n",
      " 0   Respondent_Sequence_Number  10175 non-null  int64  \n",
      " 1   Data_Release_Cycle          10175 non-null  int64  \n",
      " 2   Gender                      10175 non-null  int64  \n",
      " 3   Age_In_Years                10175 non-null  int64  \n",
      " 4   Marital_Status              5769 non-null   float64\n",
      " 5   Total_Ppl_Household         10175 non-null  int64  \n",
      " 6   Cnt_child_under5            10175 non-null  int64  \n",
      " 7   Cnt_child_6_17              10175 non-null  int64  \n",
      "dtypes: float64(1), int64(7)\n",
      "memory usage: 636.1 KB\n"
     ]
    }
   ],
   "source": [
    "df_demo = df_demo.rename({'SEQN'    : 'Respondent_Sequence_Number', \n",
    "                'SDDSRVYR': 'Data_Release_Cycle',\n",
    "                'RIAGENDR': 'Gender',\n",
    "                'RIDAGEYR': 'Age_In_Years',\n",
    "                'DMDMARTL': 'Marital_Status',\n",
    "                'DMDHHSIZ': 'Total_Ppl_Household',\n",
    "                'DMDHHSZA': 'Cnt_child_under5',\n",
    "                'DMDHHSZB': 'Cnt_child_6_17',\n",
    "                           \n",
    "}, axis ='columns')\n",
    "\n",
    "df_demo.info()"
   ]
  },
  {
   "cell_type": "code",
   "execution_count": 95,
   "id": "8518ef9c",
   "metadata": {},
   "outputs": [
    {
     "data": {
      "text/html": [
       "<div>\n",
       "<style scoped>\n",
       "    .dataframe tbody tr th:only-of-type {\n",
       "        vertical-align: middle;\n",
       "    }\n",
       "\n",
       "    .dataframe tbody tr th {\n",
       "        vertical-align: top;\n",
       "    }\n",
       "\n",
       "    .dataframe thead th {\n",
       "        text-align: right;\n",
       "    }\n",
       "</style>\n",
       "<table border=\"1\" class=\"dataframe\">\n",
       "  <thead>\n",
       "    <tr style=\"text-align: right;\">\n",
       "      <th></th>\n",
       "      <th>Respondent_Sequence_Number</th>\n",
       "      <th>High_BP</th>\n",
       "      <th>Overweight</th>\n",
       "      <th>Asthma</th>\n",
       "      <th>Diabetes</th>\n",
       "      <th>Monthly_Income</th>\n",
       "      <th>Data_Release_Cycle</th>\n",
       "      <th>Gender</th>\n",
       "      <th>Age_In_Years</th>\n",
       "      <th>Marital_Status</th>\n",
       "      <th>Total_Ppl_Household</th>\n",
       "      <th>Cnt_child_under5</th>\n",
       "      <th>Cnt_child_6_17</th>\n",
       "    </tr>\n",
       "  </thead>\n",
       "  <tbody>\n",
       "    <tr>\n",
       "      <th>0</th>\n",
       "      <td>73557</td>\n",
       "      <td>1.0</td>\n",
       "      <td>1.0</td>\n",
       "      <td>2.0</td>\n",
       "      <td>1.0</td>\n",
       "      <td>4.0</td>\n",
       "      <td>8</td>\n",
       "      <td>1</td>\n",
       "      <td>69</td>\n",
       "      <td>4.0</td>\n",
       "      <td>3</td>\n",
       "      <td>0</td>\n",
       "      <td>0</td>\n",
       "    </tr>\n",
       "    <tr>\n",
       "      <th>1</th>\n",
       "      <td>73558</td>\n",
       "      <td>1.0</td>\n",
       "      <td>2.0</td>\n",
       "      <td>1.0</td>\n",
       "      <td>1.0</td>\n",
       "      <td>5.0</td>\n",
       "      <td>8</td>\n",
       "      <td>1</td>\n",
       "      <td>54</td>\n",
       "      <td>1.0</td>\n",
       "      <td>4</td>\n",
       "      <td>0</td>\n",
       "      <td>2</td>\n",
       "    </tr>\n",
       "    <tr>\n",
       "      <th>2</th>\n",
       "      <td>73559</td>\n",
       "      <td>1.0</td>\n",
       "      <td>2.0</td>\n",
       "      <td>2.0</td>\n",
       "      <td>1.0</td>\n",
       "      <td>10.0</td>\n",
       "      <td>8</td>\n",
       "      <td>1</td>\n",
       "      <td>72</td>\n",
       "      <td>1.0</td>\n",
       "      <td>2</td>\n",
       "      <td>0</td>\n",
       "      <td>0</td>\n",
       "    </tr>\n",
       "    <tr>\n",
       "      <th>3</th>\n",
       "      <td>73560</td>\n",
       "      <td>NaN</td>\n",
       "      <td>NaN</td>\n",
       "      <td>2.0</td>\n",
       "      <td>2.0</td>\n",
       "      <td>9.0</td>\n",
       "      <td>8</td>\n",
       "      <td>1</td>\n",
       "      <td>9</td>\n",
       "      <td>NaN</td>\n",
       "      <td>4</td>\n",
       "      <td>0</td>\n",
       "      <td>2</td>\n",
       "    </tr>\n",
       "    <tr>\n",
       "      <th>4</th>\n",
       "      <td>73561</td>\n",
       "      <td>1.0</td>\n",
       "      <td>2.0</td>\n",
       "      <td>2.0</td>\n",
       "      <td>2.0</td>\n",
       "      <td>11.0</td>\n",
       "      <td>8</td>\n",
       "      <td>2</td>\n",
       "      <td>73</td>\n",
       "      <td>1.0</td>\n",
       "      <td>2</td>\n",
       "      <td>0</td>\n",
       "      <td>0</td>\n",
       "    </tr>\n",
       "  </tbody>\n",
       "</table>\n",
       "</div>"
      ],
      "text/plain": [
       "   Respondent_Sequence_Number  High_BP  Overweight  Asthma  Diabetes  \\\n",
       "0                       73557      1.0         1.0     2.0       1.0   \n",
       "1                       73558      1.0         2.0     1.0       1.0   \n",
       "2                       73559      1.0         2.0     2.0       1.0   \n",
       "3                       73560      NaN         NaN     2.0       2.0   \n",
       "4                       73561      1.0         2.0     2.0       2.0   \n",
       "\n",
       "   Monthly_Income  Data_Release_Cycle  Gender  Age_In_Years  Marital_Status  \\\n",
       "0             4.0                   8       1            69             4.0   \n",
       "1             5.0                   8       1            54             1.0   \n",
       "2            10.0                   8       1            72             1.0   \n",
       "3             9.0                   8       1             9             NaN   \n",
       "4            11.0                   8       2            73             1.0   \n",
       "\n",
       "   Total_Ppl_Household  Cnt_child_under5  Cnt_child_6_17  \n",
       "0                    3                 0               0  \n",
       "1                    4                 0               2  \n",
       "2                    2                 0               0  \n",
       "3                    4                 0               2  \n",
       "4                    2                 0               0  "
      ]
     },
     "execution_count": 95,
     "metadata": {},
     "output_type": "execute_result"
    }
   ],
   "source": [
    "nhanes_df = df.merge(df_demo, on = \"Respondent_Sequence_Number\")\n",
    "nhanes_df.copy()\n",
    "nhanes_df.head()"
   ]
  },
  {
   "cell_type": "code",
   "execution_count": 96,
   "id": "dbc22c1c",
   "metadata": {},
   "outputs": [
    {
     "name": "stdout",
     "output_type": "stream",
     "text": [
      "<class 'pandas.core.frame.DataFrame'>\n",
      "Int64Index: 10175 entries, 0 to 10174\n",
      "Data columns (total 13 columns):\n",
      " #   Column                      Non-Null Count  Dtype  \n",
      "---  ------                      --------------  -----  \n",
      " 0   Respondent_Sequence_Number  10175 non-null  int64  \n",
      " 1   High_BP                     6464 non-null   float64\n",
      " 2   Overweight                  6464 non-null   float64\n",
      " 3   Asthma                      9769 non-null   float64\n",
      " 4   Diabetes                    9769 non-null   float64\n",
      " 5   Monthly_Income              9806 non-null   float64\n",
      " 6   Data_Release_Cycle          10175 non-null  int64  \n",
      " 7   Gender                      10175 non-null  int64  \n",
      " 8   Age_In_Years                10175 non-null  int64  \n",
      " 9   Marital_Status              5769 non-null   float64\n",
      " 10  Total_Ppl_Household         10175 non-null  int64  \n",
      " 11  Cnt_child_under5            10175 non-null  int64  \n",
      " 12  Cnt_child_6_17              10175 non-null  int64  \n",
      "dtypes: float64(6), int64(7)\n",
      "memory usage: 1.1 MB\n"
     ]
    }
   ],
   "source": [
    "nhanes_df.info()"
   ]
  },
  {
   "cell_type": "code",
   "execution_count": 98,
   "id": "e051a315",
   "metadata": {},
   "outputs": [
    {
     "name": "stdout",
     "output_type": "stream",
     "text": [
      "Gender:  [1 2]\n",
      "Marital_Status:  [ 4.  1. nan  3.  2.  5.  6. 77. 99.]\n"
     ]
    }
   ],
   "source": [
    "print('Gender: ', nhanes_df.Gender.unique())\n",
    "print('Marital_Status: ', nhanes_df.Marital_Status.unique())"
   ]
  },
  {
   "cell_type": "code",
   "execution_count": 99,
   "id": "c114a894",
   "metadata": {},
   "outputs": [],
   "source": [
    "nhanes_df['Gender_named'] = nhanes_df['Gender']\n",
    "dict_gender = {\"Gender_named\": {1: \"Male\", 2: \"Female\"}}\n",
    "nhanes_df.replace(dict_gender, inplace=True)\n",
    "\n",
    "nhanes_df['Marital_named'] = nhanes_df['Marital_Status']\n",
    "dict_marital = {\"Marital_named\": {5: \"Never_Married\", 4: \"Separated\", 2 : \"Widowed\", 3 : \"Divorced\",  1 : \"Married\", \n",
    "                                   6 : \"Live_With_Partner\",  77 : \"Refused\",  99 : \"Dont_know\"}}\n",
    "nhanes_df.replace(dict_marital, inplace=True)"
   ]
  },
  {
   "cell_type": "code",
   "execution_count": 100,
   "id": "caba9927",
   "metadata": {},
   "outputs": [
    {
     "name": "stdout",
     "output_type": "stream",
     "text": [
      "Gender:  ['Male' 'Female']\n",
      "Marital_named:  ['Separated' 'Married' nan 'Divorced' 'Widowed' 'Never_Married'\n",
      " 'Live_With_Partner' 'Refused' 'Dont_know']\n"
     ]
    }
   ],
   "source": [
    "print('Gender: ', nhanes_df.Gender_named.unique())\n",
    "print('Marital_named: ', nhanes_df.Marital_named.unique())"
   ]
  },
  {
   "cell_type": "code",
   "execution_count": 101,
   "id": "dcec5257",
   "metadata": {},
   "outputs": [],
   "source": [
    "nhanes_df[\"Total_Children\"] = nhanes_df[\"Cnt_child_under5\"] + nhanes_df[\"Cnt_child_6_17\"]"
   ]
  },
  {
   "cell_type": "code",
   "execution_count": 105,
   "id": "507f27ab",
   "metadata": {},
   "outputs": [
    {
     "name": "stdout",
     "output_type": "stream",
     "text": [
      "Respondent_Sequence_Number       0\n",
      "High_BP                       3711\n",
      "Overweight                    3711\n",
      "Asthma                         406\n",
      "Diabetes                       406\n",
      "Monthly_Income                 369\n",
      "Data_Release_Cycle               0\n",
      "Gender                           0\n",
      "Age_In_Years                     0\n",
      "Marital_Status                4406\n",
      "Total_Ppl_Household              0\n",
      "Cnt_child_under5                 0\n",
      "Cnt_child_6_17                   0\n",
      "Gender_named                     0\n",
      "Marital_named                 4406\n",
      "Total_Children                   0\n",
      "dtype: int64\n",
      "<class 'pandas.core.frame.DataFrame'>\n",
      "Int64Index: 10175 entries, 0 to 10174\n",
      "Data columns (total 16 columns):\n",
      " #   Column                      Non-Null Count  Dtype  \n",
      "---  ------                      --------------  -----  \n",
      " 0   Respondent_Sequence_Number  10175 non-null  int64  \n",
      " 1   High_BP                     6464 non-null   float64\n",
      " 2   Overweight                  6464 non-null   float64\n",
      " 3   Asthma                      9769 non-null   float64\n",
      " 4   Diabetes                    9769 non-null   float64\n",
      " 5   Monthly_Income              9806 non-null   float64\n",
      " 6   Data_Release_Cycle          10175 non-null  int64  \n",
      " 7   Gender                      10175 non-null  int64  \n",
      " 8   Age_In_Years                10175 non-null  int64  \n",
      " 9   Marital_Status              5769 non-null   float64\n",
      " 10  Total_Ppl_Household         10175 non-null  int64  \n",
      " 11  Cnt_child_under5            10175 non-null  int64  \n",
      " 12  Cnt_child_6_17              10175 non-null  int64  \n",
      " 13  Gender_named                10175 non-null  object \n",
      " 14  Marital_named               5769 non-null   object \n",
      " 15  Total_Children              10175 non-null  int64  \n",
      "dtypes: float64(6), int64(8), object(2)\n",
      "memory usage: 1.3+ MB\n"
     ]
    }
   ],
   "source": [
    "#Detect null values\n",
    "print(nhanes_df.isnull().sum())\n",
    "nhanes_df.info()"
   ]
  },
  {
   "cell_type": "code",
   "execution_count": 106,
   "id": "cc3d8f46",
   "metadata": {},
   "outputs": [],
   "source": [
    "# Provide a copy of the cleaned Data Set\n",
    "nhanes_df.to_csv(r'C:\\Users\\mmorg\\WGU\\D210\\CDC Data\\cdc_clean_final.csv')"
   ]
  }
 ],
 "metadata": {
  "kernelspec": {
   "display_name": "Python 3 (ipykernel)",
   "language": "python",
   "name": "python3"
  },
  "language_info": {
   "codemirror_mode": {
    "name": "ipython",
    "version": 3
   },
   "file_extension": ".py",
   "mimetype": "text/x-python",
   "name": "python",
   "nbconvert_exporter": "python",
   "pygments_lexer": "ipython3",
   "version": "3.9.15"
  }
 },
 "nbformat": 4,
 "nbformat_minor": 5
}
