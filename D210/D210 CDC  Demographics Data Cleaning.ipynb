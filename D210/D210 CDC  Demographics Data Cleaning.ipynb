{
 "cells": [
  {
   "cell_type": "code",
   "execution_count": 23,
   "id": "dc76b92e",
   "metadata": {},
   "outputs": [
    {
     "name": "stdout",
     "output_type": "stream",
     "text": [
      "<class 'pandas.core.frame.DataFrame'>\n",
      "RangeIndex: 10175 entries, 0 to 10174\n",
      "Data columns (total 47 columns):\n",
      " #   Column    Non-Null Count  Dtype  \n",
      "---  ------    --------------  -----  \n",
      " 0   SEQN      10175 non-null  int64  \n",
      " 1   SDDSRVYR  10175 non-null  int64  \n",
      " 2   RIDSTATR  10175 non-null  int64  \n",
      " 3   RIAGENDR  10175 non-null  int64  \n",
      " 4   RIDAGEYR  10175 non-null  int64  \n",
      " 5   RIDAGEMN  673 non-null    float64\n",
      " 6   RIDRETH1  10175 non-null  int64  \n",
      " 7   RIDRETH3  10175 non-null  int64  \n",
      " 8   RIDEXMON  9813 non-null   float64\n",
      " 9   RIDEXAGM  4213 non-null   float64\n",
      " 10  DMQMILIZ  6261 non-null   float64\n",
      " 11  DMQADFC   543 non-null    float64\n",
      " 12  DMDBORN4  10175 non-null  int64  \n",
      " 13  DMDCITZN  10171 non-null  float64\n",
      " 14  DMDYRSUS  1908 non-null   float64\n",
      " 15  DMDEDUC3  2803 non-null   float64\n",
      " 16  DMDEDUC2  5769 non-null   float64\n",
      " 17  DMDMARTL  5769 non-null   float64\n",
      " 18  RIDEXPRG  1309 non-null   float64\n",
      " 19  SIALANG   10175 non-null  int64  \n",
      " 20  SIAPROXY  10174 non-null  float64\n",
      " 21  SIAINTRP  10175 non-null  int64  \n",
      " 22  FIALANG   10054 non-null  float64\n",
      " 23  FIAPROXY  10054 non-null  float64\n",
      " 24  FIAINTRP  10054 non-null  float64\n",
      " 25  MIALANG   7311 non-null   float64\n",
      " 26  MIAPROXY  7312 non-null   float64\n",
      " 27  MIAINTRP  7313 non-null   float64\n",
      " 28  AIALANGA  6317 non-null   float64\n",
      " 29  DMDHHSIZ  10175 non-null  int64  \n",
      " 30  DMDFMSIZ  10175 non-null  int64  \n",
      " 31  DMDHHSZA  10175 non-null  int64  \n",
      " 32  DMDHHSZB  10175 non-null  int64  \n",
      " 33  DMDHHSZE  10175 non-null  int64  \n",
      " 34  DMDHRGND  10175 non-null  int64  \n",
      " 35  DMDHRAGE  10175 non-null  int64  \n",
      " 36  DMDHRBR4  9878 non-null   float64\n",
      " 37  DMDHREDU  9881 non-null   float64\n",
      " 38  DMDHRMAR  10052 non-null  float64\n",
      " 39  DMDHSEDU  5342 non-null   float64\n",
      " 40  WTINT2YR  10175 non-null  float64\n",
      " 41  WTMEC2YR  10175 non-null  float64\n",
      " 42  SDMVPSU   10175 non-null  int64  \n",
      " 43  SDMVSTRA  10175 non-null  int64  \n",
      " 44  INDHHIN2  10042 non-null  float64\n",
      " 45  INDFMIN2  10052 non-null  float64\n",
      " 46  INDFMPIR  9390 non-null   float64\n",
      "dtypes: float64(28), int64(19)\n",
      "memory usage: 3.6 MB\n"
     ]
    }
   ],
   "source": [
    "# Data Analytics imports\n",
    "import pandas as pd\n",
    "import numpy as np\n",
    "\n",
    "#Loading the CSV of the default dataset\n",
    "df = pd.read_csv(r'C:\\Users\\mmorg\\WGU\\D210\\CDC Data\\demographic.csv')\n",
    "\n",
    "df.info()"
   ]
  },
  {
   "cell_type": "code",
   "execution_count": 24,
   "id": "e574c1fc",
   "metadata": {
    "scrolled": false
   },
   "outputs": [
    {
     "name": "stdout",
     "output_type": "stream",
     "text": [
      "SEQN           0\n",
      "SDDSRVYR       0\n",
      "RIDSTATR       0\n",
      "RIAGENDR       0\n",
      "RIDAGEYR       0\n",
      "RIDAGEMN    9502\n",
      "RIDRETH1       0\n",
      "RIDRETH3       0\n",
      "RIDEXMON     362\n",
      "RIDEXAGM    5962\n",
      "DMQMILIZ    3914\n",
      "DMQADFC     9632\n",
      "DMDBORN4       0\n",
      "DMDCITZN       4\n",
      "DMDYRSUS    8267\n",
      "DMDEDUC3    7372\n",
      "DMDEDUC2    4406\n",
      "DMDMARTL    4406\n",
      "RIDEXPRG    8866\n",
      "SIALANG        0\n",
      "SIAPROXY       1\n",
      "SIAINTRP       0\n",
      "FIALANG      121\n",
      "FIAPROXY     121\n",
      "FIAINTRP     121\n",
      "MIALANG     2864\n",
      "MIAPROXY    2863\n",
      "MIAINTRP    2862\n",
      "AIALANGA    3858\n",
      "DMDHHSIZ       0\n",
      "DMDFMSIZ       0\n",
      "DMDHHSZA       0\n",
      "DMDHHSZB       0\n",
      "DMDHHSZE       0\n",
      "DMDHRGND       0\n",
      "DMDHRAGE       0\n",
      "DMDHRBR4     297\n",
      "DMDHREDU     294\n",
      "DMDHRMAR     123\n",
      "DMDHSEDU    4833\n",
      "WTINT2YR       0\n",
      "WTMEC2YR       0\n",
      "SDMVPSU        0\n",
      "SDMVSTRA       0\n",
      "INDHHIN2     133\n",
      "INDFMIN2     123\n",
      "INDFMPIR     785\n",
      "dtype: int64\n"
     ]
    }
   ],
   "source": [
    "#Detect null values\n",
    "print(df.isnull().sum())"
   ]
  },
  {
   "cell_type": "code",
   "execution_count": 25,
   "id": "20293b20",
   "metadata": {},
   "outputs": [],
   "source": [
    "df = df.drop(df.loc[:, 'RIDAGEMN':'DMQADFC'].columns, axis=1)"
   ]
  },
  {
   "cell_type": "code",
   "execution_count": 26,
   "id": "9b6f5c11",
   "metadata": {},
   "outputs": [],
   "source": [
    "df = df.drop(df.loc[:, 'DMDCITZN':'DMDEDUC2'].columns, axis=1)"
   ]
  },
  {
   "cell_type": "code",
   "execution_count": 27,
   "id": "79971c53",
   "metadata": {},
   "outputs": [],
   "source": [
    "df = df.drop(df.loc[:, 'RIDEXPRG':'AIALANGA'].columns, axis=1)"
   ]
  },
  {
   "cell_type": "code",
   "execution_count": 28,
   "id": "deab47af",
   "metadata": {},
   "outputs": [],
   "source": [
    "df = df.drop(df.loc[:, 'DMDHRBR4':'DMDHSEDU'].columns, axis=1)"
   ]
  },
  {
   "cell_type": "code",
   "execution_count": 29,
   "id": "94bd81d3",
   "metadata": {},
   "outputs": [],
   "source": [
    "df = df.drop(df.loc[:, 'INDHHIN2':'INDFMPIR'].columns, axis=1)"
   ]
  },
  {
   "cell_type": "code",
   "execution_count": 8,
   "id": "46ed2ab1",
   "metadata": {},
   "outputs": [
    {
     "name": "stdout",
     "output_type": "stream",
     "text": [
      "<class 'pandas.core.frame.DataFrame'>\n",
      "RangeIndex: 10175 entries, 0 to 10174\n",
      "Data columns (total 18 columns):\n",
      " #   Column    Non-Null Count  Dtype  \n",
      "---  ------    --------------  -----  \n",
      " 0   SEQN      10175 non-null  int64  \n",
      " 1   SDDSRVYR  10175 non-null  int64  \n",
      " 2   RIDSTATR  10175 non-null  int64  \n",
      " 3   RIAGENDR  10175 non-null  int64  \n",
      " 4   RIDAGEYR  10175 non-null  int64  \n",
      " 5   DMDBORN4  10175 non-null  int64  \n",
      " 6   DMDMARTL  5769 non-null   float64\n",
      " 7   DMDHHSIZ  10175 non-null  int64  \n",
      " 8   DMDFMSIZ  10175 non-null  int64  \n",
      " 9   DMDHHSZA  10175 non-null  int64  \n",
      " 10  DMDHHSZB  10175 non-null  int64  \n",
      " 11  DMDHHSZE  10175 non-null  int64  \n",
      " 12  DMDHRGND  10175 non-null  int64  \n",
      " 13  DMDHRAGE  10175 non-null  int64  \n",
      " 14  WTINT2YR  10175 non-null  float64\n",
      " 15  WTMEC2YR  10175 non-null  float64\n",
      " 16  SDMVPSU   10175 non-null  int64  \n",
      " 17  SDMVSTRA  10175 non-null  int64  \n",
      "dtypes: float64(3), int64(15)\n",
      "memory usage: 1.4 MB\n"
     ]
    }
   ],
   "source": [
    "df.info()"
   ]
  },
  {
   "cell_type": "code",
   "execution_count": 30,
   "id": "0cac2f69",
   "metadata": {},
   "outputs": [
    {
     "name": "stdout",
     "output_type": "stream",
     "text": [
      "<class 'pandas.core.frame.DataFrame'>\n",
      "RangeIndex: 10175 entries, 0 to 10174\n",
      "Data columns (total 18 columns):\n",
      " #   Column                         Non-Null Count  Dtype  \n",
      "---  ------                         --------------  -----  \n",
      " 0   Respondent_Sequence_Number     10175 non-null  int64  \n",
      " 1   Data_Release_Cycle             10175 non-null  int64  \n",
      " 2   Int_Exam_Status                10175 non-null  int64  \n",
      " 3   Gender                         10175 non-null  int64  \n",
      " 4   Age_In_Years                   10175 non-null  int64  \n",
      " 5   Birth_Country                  10175 non-null  int64  \n",
      " 6   Marital_Status                 5769 non-null   float64\n",
      " 7   Total_Ppl_Household            10175 non-null  int64  \n",
      " 8   Total_Ppl_Fam                  10175 non-null  int64  \n",
      " 9   Cnt_child_under5               10175 non-null  int64  \n",
      " 10  Cnt_child_6_17                 10175 non-null  int64  \n",
      " 11  Cnt_adult_60up                 10175 non-null  int64  \n",
      " 12  Ref_Person_Gender              10175 non-null  int64  \n",
      " 13  Ref_Person_Age_Yrs             10175 non-null  int64  \n",
      " 14  2_yr_Interview_weight          10175 non-null  float64\n",
      " 15  2_yr_MEC_Exam_Weight           10175 non-null  float64\n",
      " 16  Variance_Estimation            10175 non-null  int64  \n",
      " 17  Stratum_Variable_Variance_est  10175 non-null  int64  \n",
      "dtypes: float64(3), int64(15)\n",
      "memory usage: 1.4 MB\n"
     ]
    }
   ],
   "source": [
    "df = df.rename({'SEQN'    : 'Respondent_Sequence_Number', \n",
    "                'SDDSRVYR': 'Data_Release_Cycle', \n",
    "                'RIDSTATR': 'Int_Exam_Status',\n",
    "                'RIAGENDR': 'Gender',\n",
    "                'RIDAGEYR': 'Age_In_Years',\n",
    "                'DMDBORN4': 'Birth_Country',\n",
    "                'DMDMARTL': 'Marital_Status',\n",
    "                'DMDHHSIZ': 'Total_Ppl_Household',\n",
    "                'DMDFMSIZ': 'Total_Ppl_Fam',\n",
    "                'DMDHHSZA': 'Cnt_child_under5',\n",
    "                'DMDHHSZB': 'Cnt_child_6_17',\n",
    "                'DMDHHSZE': 'Cnt_adult_60up',\n",
    "                'DMDHRGND': 'Ref_Person_Gender',\n",
    "                'DMDHRAGE': 'Ref_Person_Age_Yrs',\n",
    "                'WTINT2YR': '2_yr_Interview_weight',\n",
    "                'WTMEC2YR': '2_yr_MEC_Exam_Weight',\n",
    "                'SDMVPSU' : 'Variance_Estimation',\n",
    "                'SDMVSTRA': 'Stratum_Variable_Variance_est',\n",
    "                           \n",
    "}, axis ='columns')\n",
    "df.info()"
   ]
  },
  {
   "cell_type": "code",
   "execution_count": 31,
   "id": "26b23726",
   "metadata": {},
   "outputs": [
    {
     "name": "stdout",
     "output_type": "stream",
     "text": [
      "Gender:  [1 2]\n",
      "Birth_Country:  [ 1  2 77 99]\n",
      "Marital_Status:  [ 4.  1. nan  3.  2.  5.  6. 77. 99.]\n"
     ]
    }
   ],
   "source": [
    "print('Gender: ', df.Gender.unique())\n",
    "print('Birth_Country: ', df.Birth_Country.unique())\n",
    "print('Marital_Status: ', df.Marital_Status.unique())"
   ]
  },
  {
   "cell_type": "code",
   "execution_count": 32,
   "id": "dc433ea9",
   "metadata": {},
   "outputs": [],
   "source": [
    "df['Gender_named'] = df['Gender']\n",
    "dict_gender = {\"Gender_named\": {1: \"Male\", 2: \"Female\"}}\n",
    "df.replace(dict_gender, inplace=True)\n",
    "\n",
    "df['Marital_named'] = df['Marital_Status']\n",
    "dict_marital = {\"Marital_named\": {5: \"Never_Married\", 4: \"Separated\", 2 : \"Widowed\", 3 : \"Divorced\",  1 : \"Married\", \n",
    "                                   6 : \"Live_With_Partner\",  77 : \"Refused\",  99 : \"Dont_know\"}}\n",
    "df.replace(dict_marital, inplace=True)"
   ]
  },
  {
   "cell_type": "code",
   "execution_count": 33,
   "id": "86bbfae5",
   "metadata": {},
   "outputs": [
    {
     "name": "stdout",
     "output_type": "stream",
     "text": [
      "Gender:  ['Male' 'Female']\n",
      "Marital_named:  ['Separated' 'Married' nan 'Divorced' 'Widowed' 'Never_Married'\n",
      " 'Live_With_Partner' 'Refused' 'Dont_know']\n"
     ]
    }
   ],
   "source": [
    "print('Gender: ', df.Gender_named.unique())\n",
    "print('Marital_named: ', df.Marital_named.unique())"
   ]
  },
  {
   "cell_type": "code",
   "execution_count": 34,
   "id": "58604c2e",
   "metadata": {},
   "outputs": [
    {
     "name": "stdout",
     "output_type": "stream",
     "text": [
      "<class 'pandas.core.frame.DataFrame'>\n",
      "RangeIndex: 10175 entries, 0 to 10174\n",
      "Data columns (total 20 columns):\n",
      " #   Column                         Non-Null Count  Dtype  \n",
      "---  ------                         --------------  -----  \n",
      " 0   Respondent_Sequence_Number     10175 non-null  int64  \n",
      " 1   Data_Release_Cycle             10175 non-null  int64  \n",
      " 2   Int_Exam_Status                10175 non-null  int64  \n",
      " 3   Gender                         10175 non-null  int64  \n",
      " 4   Age_In_Years                   10175 non-null  int64  \n",
      " 5   Birth_Country                  10175 non-null  int64  \n",
      " 6   Marital_Status                 5769 non-null   float64\n",
      " 7   Total_Ppl_Household            10175 non-null  int64  \n",
      " 8   Total_Ppl_Fam                  10175 non-null  int64  \n",
      " 9   Cnt_child_under5               10175 non-null  int64  \n",
      " 10  Cnt_child_6_17                 10175 non-null  int64  \n",
      " 11  Cnt_adult_60up                 10175 non-null  int64  \n",
      " 12  Ref_Person_Gender              10175 non-null  int64  \n",
      " 13  Ref_Person_Age_Yrs             10175 non-null  int64  \n",
      " 14  2_yr_Interview_weight          10175 non-null  float64\n",
      " 15  2_yr_MEC_Exam_Weight           10175 non-null  float64\n",
      " 16  Variance_Estimation            10175 non-null  int64  \n",
      " 17  Stratum_Variable_Variance_est  10175 non-null  int64  \n",
      " 18  Gender_named                   10175 non-null  object \n",
      " 19  Marital_named                  5769 non-null   object \n",
      "dtypes: float64(3), int64(15), object(2)\n",
      "memory usage: 1.6+ MB\n"
     ]
    }
   ],
   "source": [
    "df.info()"
   ]
  },
  {
   "cell_type": "code",
   "execution_count": 35,
   "id": "a3ec9f3c",
   "metadata": {},
   "outputs": [],
   "source": [
    "df[\"Total_Children\"] = df[\"Cnt_child_under5\"] + df[\"Cnt_child_6_17\"]"
   ]
  },
  {
   "cell_type": "code",
   "execution_count": 36,
   "id": "521f4fdc",
   "metadata": {},
   "outputs": [
    {
     "name": "stdout",
     "output_type": "stream",
     "text": [
      "<class 'pandas.core.frame.DataFrame'>\n",
      "RangeIndex: 10175 entries, 0 to 10174\n",
      "Data columns (total 21 columns):\n",
      " #   Column                         Non-Null Count  Dtype  \n",
      "---  ------                         --------------  -----  \n",
      " 0   Respondent_Sequence_Number     10175 non-null  int64  \n",
      " 1   Data_Release_Cycle             10175 non-null  int64  \n",
      " 2   Int_Exam_Status                10175 non-null  int64  \n",
      " 3   Gender                         10175 non-null  int64  \n",
      " 4   Age_In_Years                   10175 non-null  int64  \n",
      " 5   Birth_Country                  10175 non-null  int64  \n",
      " 6   Marital_Status                 5769 non-null   float64\n",
      " 7   Total_Ppl_Household            10175 non-null  int64  \n",
      " 8   Total_Ppl_Fam                  10175 non-null  int64  \n",
      " 9   Cnt_child_under5               10175 non-null  int64  \n",
      " 10  Cnt_child_6_17                 10175 non-null  int64  \n",
      " 11  Cnt_adult_60up                 10175 non-null  int64  \n",
      " 12  Ref_Person_Gender              10175 non-null  int64  \n",
      " 13  Ref_Person_Age_Yrs             10175 non-null  int64  \n",
      " 14  2_yr_Interview_weight          10175 non-null  float64\n",
      " 15  2_yr_MEC_Exam_Weight           10175 non-null  float64\n",
      " 16  Variance_Estimation            10175 non-null  int64  \n",
      " 17  Stratum_Variable_Variance_est  10175 non-null  int64  \n",
      " 18  Gender_named                   10175 non-null  object \n",
      " 19  Marital_named                  5769 non-null   object \n",
      " 20  Total_Children                 10175 non-null  int64  \n",
      "dtypes: float64(3), int64(16), object(2)\n",
      "memory usage: 1.6+ MB\n"
     ]
    }
   ],
   "source": [
    "df.info()"
   ]
  },
  {
   "cell_type": "code",
   "execution_count": 37,
   "id": "a1fc5894",
   "metadata": {},
   "outputs": [],
   "source": [
    "# Provide a copy of the cleaned Data Set\n",
    "df.to_csv(r'C:\\Users\\mmorg\\WGU\\D210\\CDC Data\\demographic_clean.csv')"
   ]
  },
  {
   "cell_type": "code",
   "execution_count": 38,
   "id": "9b9a6626",
   "metadata": {},
   "outputs": [
    {
     "data": {
      "text/plain": [
       "0    3459\n",
       "2    2193\n",
       "1    1851\n",
       "3    1615\n",
       "4     701\n",
       "5     259\n",
       "6      76\n",
       "7      21\n",
       "Name: Total_Children, dtype: int64"
      ]
     },
     "execution_count": 38,
     "metadata": {},
     "output_type": "execute_result"
    }
   ],
   "source": []
  }
 ],
 "metadata": {
  "kernelspec": {
   "display_name": "Python 3 (ipykernel)",
   "language": "python",
   "name": "python3"
  },
  "language_info": {
   "codemirror_mode": {
    "name": "ipython",
    "version": 3
   },
   "file_extension": ".py",
   "mimetype": "text/x-python",
   "name": "python",
   "nbconvert_exporter": "python",
   "pygments_lexer": "ipython3",
   "version": "3.9.15"
  }
 },
 "nbformat": 4,
 "nbformat_minor": 5
}
